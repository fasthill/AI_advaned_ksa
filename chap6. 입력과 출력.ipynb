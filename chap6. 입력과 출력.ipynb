{
 "cells": [
  {
   "cell_type": "code",
   "execution_count": null,
   "id": "changing-dutch",
   "metadata": {},
   "outputs": [],
   "source": [
    "my_str = \"{0} {1} {2}\".format('python', 'progammng', 'language')\n",
    "my_str"
   ]
  },
  {
   "cell_type": "code",
   "execution_count": null,
   "id": "everyday-advisory",
   "metadata": {},
   "outputs": [],
   "source": [
    "my_str = \"{2:3s} {0} {1} {2} {0}\".format('python', 'progammng', 'language')\n",
    "my_str"
   ]
  },
  {
   "cell_type": "code",
   "execution_count": null,
   "id": "short-swing",
   "metadata": {},
   "outputs": [],
   "source": [
    "print('{0:.2f}-{1:4d}'.format(1234.5678, 7))"
   ]
  },
  {
   "cell_type": "code",
   "execution_count": null,
   "id": "solar-hamilton",
   "metadata": {},
   "outputs": [],
   "source": [
    "print('{1:<4d}-{0:.2f}'.format(1234.5678, 7))"
   ]
  },
  {
   "cell_type": "code",
   "execution_count": null,
   "id": "radical-dylan",
   "metadata": {},
   "outputs": [],
   "source": [
    "a = input(\" number: \")\n",
    "a"
   ]
  },
  {
   "cell_type": "code",
   "execution_count": null,
   "id": "suspended-toronto",
   "metadata": {},
   "outputs": [],
   "source": [
    "a = int(float(input(\" number: \")))\n",
    "a"
   ]
  },
  {
   "cell_type": "code",
   "execution_count": null,
   "id": "incoming-thanks",
   "metadata": {},
   "outputs": [],
   "source": [
    "dir"
   ]
  },
  {
   "cell_type": "code",
   "execution_count": null,
   "id": "described-machine",
   "metadata": {},
   "outputs": [],
   "source": [
    "ls"
   ]
  },
  {
   "cell_type": "code",
   "execution_count": null,
   "id": "induced-occasions",
   "metadata": {},
   "outputs": [],
   "source": [
    "f = open('my_file.txt', 'wt')"
   ]
  },
  {
   "cell_type": "code",
   "execution_count": null,
   "id": "smart-publisher",
   "metadata": {},
   "outputs": [],
   "source": [
    "f.write('This is my first file')\n",
    "f.close()\n"
   ]
  },
  {
   "cell_type": "code",
   "execution_count": null,
   "id": "ordered-complex",
   "metadata": {},
   "outputs": [],
   "source": [
    "f = open('my_file.txt', 'wt')\n",
    "f.write('This is my first file\\n')\n",
    "f.write('This is my first file\\n')\n",
    "f.write('This is my first file\\n')\n",
    "f.close()"
   ]
  },
  {
   "cell_type": "code",
   "execution_count": null,
   "id": "juvenile-possible",
   "metadata": {},
   "outputs": [],
   "source": [
    "f = open('C:/Users/User/Desktop/ipynb/myPycode/KSA/data/my_file.txt', 'wt')\n",
    "f.write('This is my first file\\n')\n",
    "f.write('This is my first file\\n')\n",
    "f.write('This is my first file\\n')\n",
    "f.close()"
   ]
  },
  {
   "cell_type": "code",
   "execution_count": 15,
   "id": "honest-arbitration",
   "metadata": {},
   "outputs": [],
   "source": [
    "f = open('data/my_file.txt', 'rt')\n",
    "data = f.read()\n",
    "f.close()"
   ]
  },
  {
   "cell_type": "code",
   "execution_count": 18,
   "id": "continent-screening",
   "metadata": {},
   "outputs": [],
   "source": [
    "data1 = data.split(\"\\n\")"
   ]
  },
  {
   "cell_type": "code",
   "execution_count": 19,
   "id": "banner-prevention",
   "metadata": {},
   "outputs": [
    {
     "data": {
      "text/plain": [
       "['This is my first file1', 'This is my first file2', 'This is my first file3']"
      ]
     },
     "execution_count": 19,
     "metadata": {},
     "output_type": "execute_result"
    }
   ],
   "source": [
    "data1"
   ]
  },
  {
   "cell_type": "code",
   "execution_count": null,
   "id": "raising-roller",
   "metadata": {},
   "outputs": [],
   "source": [
    "print(data)"
   ]
  },
  {
   "cell_type": "code",
   "execution_count": null,
   "id": "needed-blocking",
   "metadata": {},
   "outputs": [],
   "source": [
    "f = open('data/two_times_table.txt', 'wt')\n",
    "for num in range(1,6):\n",
    "    format_string = '2 * {0} = {1}\\n'.format(num, 2*num)\n",
    "    f.write(format_string)\n",
    "f.close()"
   ]
  },
  {
   "cell_type": "code",
   "execution_count": 17,
   "id": "incident-mention",
   "metadata": {},
   "outputs": [],
   "source": []
  },
  {
   "cell_type": "code",
   "execution_count": 18,
   "id": "confused-bearing",
   "metadata": {},
   "outputs": [
    {
     "data": {
      "text/plain": [
       "'2 * 1 = 2\\n'"
      ]
     },
     "execution_count": 18,
     "metadata": {},
     "output_type": "execute_result"
    }
   ],
   "source": [
    "a"
   ]
  },
  {
   "cell_type": "code",
   "execution_count": 1,
   "id": "challenging-islam",
   "metadata": {},
   "outputs": [
    {
     "data": {
      "text/plain": [
       "'C:\\\\Users\\\\User\\\\Desktop\\\\ipynb\\\\myPycode\\\\KSA'"
      ]
     },
     "execution_count": 1,
     "metadata": {},
     "output_type": "execute_result"
    }
   ],
   "source": [
    "import os\n",
    "os.getcwd()"
   ]
  },
  {
   "cell_type": "code",
   "execution_count": null,
   "id": "scientific-confidence",
   "metadata": {},
   "outputs": [],
   "source": []
  },
  {
   "cell_type": "code",
   "execution_count": 12,
   "id": "creative-scratch",
   "metadata": {},
   "outputs": [],
   "source": [
    "f = open('data/gugu.txt', 'wt')\n",
    "for num in range(0,10):\n",
    "    for dan in range(2,10):\n",
    "        if num == 0:\n",
    "            f.write(' [ {} 단 ]\\t'.format(dan))\n",
    "        else:\n",
    "            f.write('{0} * {1} = {2:2d}\\t'.format(dan, num, dan*num))\n",
    "    f.write('\\n')\n",
    "f.close()"
   ]
  },
  {
   "cell_type": "code",
   "execution_count": 16,
   "id": "billion-permission",
   "metadata": {},
   "outputs": [
    {
     "name": "stdout",
     "output_type": "stream",
     "text": [
      "True False\n"
     ]
    }
   ],
   "source": [
    "print(bool(' '), bool(''))"
   ]
  },
  {
   "cell_type": "code",
   "execution_count": 19,
   "id": "acceptable-project",
   "metadata": {},
   "outputs": [],
   "source": [
    "f = open('data/two_times_table.txt', 'rt')\n",
    "line1 = f.readline()\n",
    "line2 = f.readline()\n",
    "f.close()"
   ]
  },
  {
   "cell_type": "code",
   "execution_count": 20,
   "id": "nuclear-coalition",
   "metadata": {},
   "outputs": [
    {
     "data": {
      "text/plain": [
       "'2 * 1 = 2\\n'"
      ]
     },
     "execution_count": 20,
     "metadata": {},
     "output_type": "execute_result"
    }
   ],
   "source": [
    "line1"
   ]
  },
  {
   "cell_type": "code",
   "execution_count": 23,
   "id": "chronic-miller",
   "metadata": {},
   "outputs": [
    {
     "name": "stdout",
     "output_type": "stream",
     "text": [
      "2 * 1 = 2\n"
     ]
    }
   ],
   "source": [
    "print(line1, end=\"\") # end를 사용하지 않으면 다음칸으로 넝어감."
   ]
  },
  {
   "cell_type": "code",
   "execution_count": 24,
   "id": "annual-tutorial",
   "metadata": {},
   "outputs": [
    {
     "name": "stdout",
     "output_type": "stream",
     "text": [
      "2 * 1 = 2\n",
      "2 * 2 = 4\n",
      "2 * 3 = 6\n",
      "2 * 4 = 8\n",
      "2 * 5 = 10\n"
     ]
    }
   ],
   "source": [
    "f = open('data/two_times_table.txt', 'rt')\n",
    "while True:\n",
    "    line = f.readline()\n",
    "    if line:\n",
    "        print(line, end='')\n",
    "    else:\n",
    "        break\n",
    "\n",
    "f.close()"
   ]
  },
  {
   "cell_type": "code",
   "execution_count": 25,
   "id": "geographic-western",
   "metadata": {},
   "outputs": [
    {
     "name": "stdout",
     "output_type": "stream",
     "text": [
      "2 * 1 = 2\n",
      "2 * 2 = 4\n",
      "2 * 3 = 6\n",
      "2 * 4 = 8\n",
      "2 * 5 = 10\n"
     ]
    }
   ],
   "source": [
    "f = open('data/two_times_table.txt', 'rt')\n",
    "line = f.readline()\n",
    "while line:\n",
    "    print(line, end='')\n",
    "    line = f.readline()\n",
    "\n",
    "f.close()"
   ]
  },
  {
   "cell_type": "code",
   "execution_count": 26,
   "id": "supported-worker",
   "metadata": {},
   "outputs": [],
   "source": [
    "f = open('data/two_times_table.txt', 'rt')\n",
    "lines = f.readlines()\n",
    "f.close()"
   ]
  },
  {
   "cell_type": "code",
   "execution_count": 28,
   "id": "manufactured-sociology",
   "metadata": {},
   "outputs": [
    {
     "name": "stdout",
     "output_type": "stream",
     "text": [
      "['2 * 1 = 2\\n', '2 * 2 = 4\\n', '2 * 3 = 6\\n', '2 * 4 = 8\\n', '2 * 5 = 10\\n']\n"
     ]
    }
   ],
   "source": [
    "print(lines)"
   ]
  },
  {
   "cell_type": "code",
   "execution_count": 32,
   "id": "heated-pittsburgh",
   "metadata": {},
   "outputs": [],
   "source": [
    "lines = [li.strip('\\n') for li in lines]"
   ]
  },
  {
   "cell_type": "code",
   "execution_count": 33,
   "id": "athletic-estate",
   "metadata": {},
   "outputs": [
    {
     "data": {
      "text/plain": [
       "['2 * 1 = 2', '2 * 2 = 4', '2 * 3 = 6', '2 * 4 = 8', '2 * 5 = 10']"
      ]
     },
     "execution_count": 33,
     "metadata": {},
     "output_type": "execute_result"
    }
   ],
   "source": [
    "lines"
   ]
  },
  {
   "cell_type": "code",
   "execution_count": 34,
   "id": "driven-timeline",
   "metadata": {},
   "outputs": [
    {
     "name": "stdout",
     "output_type": "stream",
     "text": [
      "2 * 1 = 2\n",
      "2 * 2 = 4\n",
      "2 * 3 = 6\n",
      "2 * 4 = 8\n",
      "2 * 5 = 10\n"
     ]
    }
   ],
   "source": [
    "f = open('data/two_times_table.txt', 'rt')\n",
    "lines = f.readlines()\n",
    "f.close()\n",
    "for line in lines:\n",
    "    print(line, end='')"
   ]
  },
  {
   "cell_type": "code",
   "execution_count": 35,
   "id": "heard-knight",
   "metadata": {},
   "outputs": [
    {
     "name": "stdout",
     "output_type": "stream",
     "text": [
      "2 * 1 = 2\n",
      "2 * 2 = 4\n",
      "2 * 3 = 6\n",
      "2 * 4 = 8\n",
      "2 * 5 = 10\n"
     ]
    }
   ],
   "source": [
    "f = open('data/two_times_table.txt', 'rt')\n",
    "for line in f.readlines():\n",
    "    print(line, end=\"\")\n",
    "f.close()"
   ]
  },
  {
   "cell_type": "code",
   "execution_count": 36,
   "id": "excessive-difficulty",
   "metadata": {},
   "outputs": [
    {
     "name": "stdout",
     "output_type": "stream",
     "text": [
      "2 * 1 = 2\n",
      "2 * 2 = 4\n",
      "2 * 3 = 6\n",
      "2 * 4 = 8\n",
      "2 * 5 = 10\n"
     ]
    }
   ],
   "source": [
    "f = open('data/two_times_table.txt', 'rt')\n",
    "for line in f:\n",
    "    print(line, end=\"\")\n",
    "f.close()"
   ]
  },
  {
   "cell_type": "code",
   "execution_count": 38,
   "id": "hungry-consensus",
   "metadata": {},
   "outputs": [],
   "source": [
    "with open('data/my_text_file1.txt', 'wt') as f:\n",
    "    f.write('File read/write test2 : line1\\n')\n",
    "    f.write('File read/write test2 : line2\\n')\n",
    "    f.write('File read/write test2 : line3\\n')"
   ]
  },
  {
   "cell_type": "code",
   "execution_count": 39,
   "id": "detected-flexibility",
   "metadata": {},
   "outputs": [
    {
     "name": "stdout",
     "output_type": "stream",
     "text": [
      "File read/write test2 : line1\n",
      "File read/write test2 : line2\n",
      "File read/write test2 : line3\n",
      "\n"
     ]
    }
   ],
   "source": [
    "with open('data/my_text_file1.txt', 'rt') as f:\n",
    "    file_string = f.read()\n",
    "print(file_string)"
   ]
  },
  {
   "cell_type": "code",
   "execution_count": 41,
   "id": "marked-administration",
   "metadata": {},
   "outputs": [],
   "source": [
    "with open('data/my_text_file2.txt', 'wt') as f:\n",
    "    for num in range(1,6):\n",
    "        f.write('3 * {} = {:2d}\\n'.format(num, num*3))"
   ]
  },
  {
   "cell_type": "code",
   "execution_count": 42,
   "id": "chief-insider",
   "metadata": {},
   "outputs": [
    {
     "name": "stdout",
     "output_type": "stream",
     "text": [
      "3 * 1 =  3\n",
      "3 * 2 =  6\n",
      "3 * 3 =  9\n",
      "3 * 4 = 12\n",
      "3 * 5 = 15\n"
     ]
    }
   ],
   "source": [
    "with open('data/my_text_file2.txt', 'rt') as f:\n",
    "    lines = f.readlines()\n",
    "    \n",
    "for line in lines:\n",
    "    print(line, end='')"
   ]
  },
  {
   "cell_type": "code",
   "execution_count": 43,
   "id": "serial-hurricane",
   "metadata": {},
   "outputs": [
    {
     "name": "stdout",
     "output_type": "stream",
     "text": [
      "3 * 1 =  3\n",
      "\n",
      "3 * 2 =  6\n",
      "\n",
      "3 * 3 =  9\n",
      "\n",
      "3 * 4 = 12\n",
      "\n",
      "3 * 5 = 15\n",
      "\n"
     ]
    }
   ],
   "source": [
    "with open('data/my_text_file2.txt', 'rt') as f:\n",
    "    lines = f.readlines()\n",
    "    \n",
    "for line in lines:\n",
    "    print(line)"
   ]
  },
  {
   "cell_type": "code",
   "execution_count": 8,
   "id": "ready-frank",
   "metadata": {},
   "outputs": [
    {
     "name": "stdout",
     "output_type": "stream",
     "text": [
      "10                    20,           ddd\n"
     ]
    }
   ],
   "source": [
    "a1 = 10 ; b1 = 20 ;\n",
    "c1 = 'ddd'\n",
    "print(f'{a1:<20d} {b1:3d}, {c1:>13s}')"
   ]
  },
  {
   "cell_type": "code",
   "execution_count": 9,
   "id": "smooth-encyclopedia",
   "metadata": {},
   "outputs": [
    {
     "name": "stdout",
     "output_type": "stream",
     "text": [
      " C 드라이브의 볼륨에는 이름이 없습니다.\n",
      " 볼륨 일련 번호: FE13-DE89\n",
      "\n",
      " C:\\Users\\User\\Desktop\\ipynb\\myPycode\\KSA 디렉터리\n",
      "\n",
      "2021-10-18  오후 06:50    <DIR>          .\n",
      "2021-10-18  오후 06:50    <DIR>          ..\n",
      "2021-10-15  오후 07:46    <DIR>          .ipynb_checkpoints\n",
      "2021-10-15  오후 09:00            21,511 chap5. 선택문.ipynb\n",
      "2021-10-18  오후 06:50            13,462 chap6. 입력과 출력.ipynb\n",
      "2021-10-15  오후 10:17    <DIR>          data\n",
      "2021-10-15  오후 08:41                69 my_file.txt\n",
      "2021-10-07  오후 10:19    <DIR>          notebooks\n",
      "2021-10-12  오후 08:22            29,844 Untitled.ipynb\n",
      "2021-10-12  오후 06:40             1,088 Untitled1.ipynb\n",
      "               5개 파일              65,974 바이트\n",
      "               5개 디렉터리  21,380,407,296 바이트 남음\n"
     ]
    }
   ],
   "source": [
    "ls\n"
   ]
  },
  {
   "cell_type": "code",
   "execution_count": 12,
   "id": "mathematical-stuff",
   "metadata": {},
   "outputs": [
    {
     "data": {
      "text/plain": [
       "True"
      ]
     },
     "execution_count": 12,
     "metadata": {},
     "output_type": "execute_result"
    }
   ],
   "source": [
    "import os\n",
    "os.path.exists('my_file.txt')"
   ]
  },
  {
   "cell_type": "code",
   "execution_count": 13,
   "id": "residential-howard",
   "metadata": {},
   "outputs": [
    {
     "data": {
      "text/plain": [
       "False"
      ]
     },
     "execution_count": 13,
     "metadata": {},
     "output_type": "execute_result"
    }
   ],
   "source": [
    "os.path.exists('my_file1.txt')"
   ]
  },
  {
   "cell_type": "code",
   "execution_count": 14,
   "id": "surface-spokesman",
   "metadata": {},
   "outputs": [
    {
     "name": "stdout",
     "output_type": "stream",
     "text": [
      "pass\n"
     ]
    }
   ],
   "source": [
    "f_name = 'my_file1.txt'\n",
    "if os.path.exists(f_name):\n",
    "    open(f_name, 'w')\n",
    "else:\n",
    "    print(\"pass\")"
   ]
  },
  {
   "cell_type": "code",
   "execution_count": 23,
   "id": "detailed-leather",
   "metadata": {},
   "outputs": [
    {
     "data": {
      "text/plain": [
       "False"
      ]
     },
     "execution_count": 23,
     "metadata": {},
     "output_type": "execute_result"
    }
   ],
   "source": [
    "os.path.abspath('data') == 'C:/Users/User/Desktop/ipynb/myPycode/KSA/data'"
   ]
  },
  {
   "cell_type": "code",
   "execution_count": 25,
   "id": "worse-martial",
   "metadata": {},
   "outputs": [],
   "source": [
    "with open('data/encoding_text.txt', 'wt') as f:\n",
    "          f.write('이글ㅇ 넝떤 방식의 인코딩으로 저장될까요?')"
   ]
  },
  {
   "cell_type": "code",
   "execution_count": 26,
   "id": "immune-directory",
   "metadata": {},
   "outputs": [],
   "source": [
    "with open('data/encoding_text.txt', 'rt') as f:\n",
    "    file_text = f.read()"
   ]
  },
  {
   "cell_type": "code",
   "execution_count": 30,
   "id": "southern-stretch",
   "metadata": {},
   "outputs": [
    {
     "data": {
      "text/plain": [
       "'이글ㅇ 넝떤 방식의 인코딩으로 저장될까요?'"
      ]
     },
     "execution_count": 30,
     "metadata": {},
     "output_type": "execute_result"
    }
   ],
   "source": [
    "file_text"
   ]
  },
  {
   "cell_type": "code",
   "execution_count": 29,
   "id": "ideal-investing",
   "metadata": {},
   "outputs": [],
   "source": [
    "with open('data/encoding_text_utf8.txt', 'rt', encoding='utf-8') as f:\n",
    "    file_text = f.read()"
   ]
  },
  {
   "cell_type": "code",
   "execution_count": 31,
   "id": "rational-paragraph",
   "metadata": {},
   "outputs": [],
   "source": [
    "with open('data/encoding_text3.txt', 'wt', encoding='cp949') as f:\n",
    "          f.write('이글ㅇ 넝떤 방식의 인코딩으로 저장될까요?')"
   ]
  },
  {
   "cell_type": "code",
   "execution_count": 32,
   "id": "durable-poverty",
   "metadata": {},
   "outputs": [],
   "source": [
    "with open('data/encoding_text4.txt', 'wt', encoding='ms949') as f: # ms949는 cp949를 확장한 것임\n",
    "          f.write('이글ㅇ 넝떤 방식의 인코딩으로 저장될까요?')"
   ]
  },
  {
   "cell_type": "code",
   "execution_count": 33,
   "id": "enclosed-grade",
   "metadata": {},
   "outputs": [],
   "source": [
    "with open('data/my_text_file2.txt', 'rt') as f:\n",
    "    lines = f.readlines()"
   ]
  },
  {
   "cell_type": "code",
   "execution_count": 34,
   "id": "traditional-minute",
   "metadata": {},
   "outputs": [],
   "source": [
    "f = open('data/my_text_file5.txt', 'wt')\n",
    "f.writelines(lines)\n",
    "f.close()"
   ]
  },
  {
   "cell_type": "code",
   "execution_count": null,
   "id": "compatible-copyright",
   "metadata": {},
   "outputs": [],
   "source": []
  }
 ],
 "metadata": {
  "kernelspec": {
   "display_name": "Python 3",
   "language": "python",
   "name": "python3"
  },
  "language_info": {
   "codemirror_mode": {
    "name": "ipython",
    "version": 3
   },
   "file_extension": ".py",
   "mimetype": "text/x-python",
   "name": "python",
   "nbconvert_exporter": "python",
   "pygments_lexer": "ipython3",
   "version": "3.9.1"
  }
 },
 "nbformat": 4,
 "nbformat_minor": 5
}
