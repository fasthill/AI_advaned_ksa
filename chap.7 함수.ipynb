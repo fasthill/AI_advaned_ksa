{
 "cells": [
  {
   "cell_type": "markdown",
   "id": "floral-compilation",
   "metadata": {},
   "source": [
    "argument = 인수, 인자,\n",
    "parameter = 매개변수"
   ]
  },
  {
   "cell_type": "code",
   "execution_count": null,
   "id": "recognized-ethnic",
   "metadata": {},
   "outputs": [],
   "source": [
    "def test():\n",
    "    print(\"ppp\")"
   ]
  },
  {
   "cell_type": "code",
   "execution_count": null,
   "id": "paperback-isolation",
   "metadata": {},
   "outputs": [],
   "source": [
    "test()"
   ]
  },
  {
   "cell_type": "code",
   "execution_count": null,
   "id": "august-fisher",
   "metadata": {},
   "outputs": [],
   "source": [
    "def my_func(param):\n",
    "    print(type(param), param)\n",
    "    \n",
    "    return param"
   ]
  },
  {
   "cell_type": "code",
   "execution_count": null,
   "id": "violent-scholarship",
   "metadata": {},
   "outputs": [],
   "source": [
    "result = my_func('apple')\n",
    "print(type(result), result)\n",
    "my_func(1234)\n",
    "my_func(True)\n",
    "my_func([1,2,3,4,5])"
   ]
  },
  {
   "cell_type": "markdown",
   "id": "anticipated-breast",
   "metadata": {},
   "source": [
    "동적타입변수의 경우에는 협업에서는 반드시 매개변수의 타입 검사 부터 해야 함. 그렇지 않으면 안정적이지 않음."
   ]
  },
  {
   "cell_type": "code",
   "execution_count": null,
   "id": "selected-interval",
   "metadata": {},
   "outputs": [],
   "source": [
    "def my_add(param1, param2):\n",
    "    # num1, num2 매개변수의 값이 정수이거나 실수이면 덧샘 연산의 결과를 반환하고 그외의 값이면 -1을\n",
    "    # 반환하는 함수를 구현하세요\n",
    "    if type(param1) == type(param2):\n",
    "        if(type(param1) == str):\n",
    "            return param1+\" \"+param2\n",
    "        return param1+param2\n",
    "    else:\n",
    "        return -1"
   ]
  },
  {
   "cell_type": "code",
   "execution_count": null,
   "id": "configured-democrat",
   "metadata": {},
   "outputs": [],
   "source": [
    "my_add(1,2.1)"
   ]
  },
  {
   "cell_type": "code",
   "execution_count": null,
   "id": "educated-evans",
   "metadata": {},
   "outputs": [],
   "source": [
    "my_add('a', 'cbe')"
   ]
  },
  {
   "cell_type": "code",
   "execution_count": null,
   "id": "official-batch",
   "metadata": {},
   "outputs": [],
   "source": [
    "my_add(1, 'a')"
   ]
  },
  {
   "cell_type": "code",
   "execution_count": null,
   "id": "psychological-banks",
   "metadata": {},
   "outputs": [],
   "source": [
    "def my_add(param1, param2):\n",
    "    if (type(param1) == int or type(param1) == float) and (type(param2) == int or type(param2) == float):\n",
    "        result = param1 + param2\n",
    "    elif (type(param1) == str) and (type(param2) == str):\n",
    "        result = param1 + \" \" + param2\n",
    "    else:\n",
    "        result = -1\n",
    "    \n",
    "    return result"
   ]
  },
  {
   "cell_type": "code",
   "execution_count": null,
   "id": "norman-victim",
   "metadata": {},
   "outputs": [],
   "source": [
    "print(my_add(1,4.3))"
   ]
  },
  {
   "cell_type": "code",
   "execution_count": null,
   "id": "moral-minneapolis",
   "metadata": {},
   "outputs": [],
   "source": [
    "print(my_add('a', 'bgr'))"
   ]
  },
  {
   "cell_type": "code",
   "execution_count": null,
   "id": "damaged-drunk",
   "metadata": {},
   "outputs": [],
   "source": [
    "a = 10\n",
    "def test():\n",
    "    print(a)\n",
    "    a = a + 20"
   ]
  },
  {
   "cell_type": "code",
   "execution_count": null,
   "id": "adjacent-steam",
   "metadata": {},
   "outputs": [],
   "source": [
    "test()"
   ]
  },
  {
   "cell_type": "code",
   "execution_count": null,
   "id": "continued-satisfaction",
   "metadata": {},
   "outputs": [],
   "source": [
    "print(\"gnum out:\", gnum)"
   ]
  },
  {
   "cell_type": "code",
   "execution_count": null,
   "id": "terminal-rover",
   "metadata": {},
   "outputs": [],
   "source": [
    "a = 10\n",
    "def test1():\n",
    "    b = a +10\n",
    "    print(b)"
   ]
  },
  {
   "cell_type": "code",
   "execution_count": null,
   "id": "engaging-campaign",
   "metadata": {},
   "outputs": [],
   "source": [
    "test1()"
   ]
  },
  {
   "cell_type": "code",
   "execution_count": null,
   "id": "exclusive-primary",
   "metadata": {},
   "outputs": [],
   "source": [
    "\n",
    "a = 10\n",
    "def test1():\n",
    "    global a\n",
    "    a = a +10\n",
    "    print(a)"
   ]
  },
  {
   "cell_type": "code",
   "execution_count": null,
   "id": "contained-worker",
   "metadata": {},
   "outputs": [],
   "source": [
    "test1()"
   ]
  },
  {
   "cell_type": "code",
   "execution_count": null,
   "id": "central-rachel",
   "metadata": {},
   "outputs": [],
   "source": [
    "def return_test():\n",
    "    print('called return_test()')"
   ]
  },
  {
   "cell_type": "code",
   "execution_count": null,
   "id": "piano-investing",
   "metadata": {},
   "outputs": [],
   "source": [
    "result = return_test()\n",
    "print(result)"
   ]
  },
  {
   "cell_type": "code",
   "execution_count": null,
   "id": "cosmetic-element",
   "metadata": {},
   "outputs": [],
   "source": [
    "def return_test1():\n",
    "    print('called return_test()')\n",
    "    return\n",
    "    print('call 이후의 문장')\n",
    "    \n",
    "result = return_test1()\n",
    "print(result)"
   ]
  },
  {
   "cell_type": "code",
   "execution_count": null,
   "id": "major-gather",
   "metadata": {},
   "outputs": [],
   "source": [
    " (lambda pi, radius: pi*radius**2)(3.14, 5)\n",
    "    "
   ]
  },
  {
   "cell_type": "code",
   "execution_count": null,
   "id": "fifty-emperor",
   "metadata": {},
   "outputs": [],
   "source": [
    "get_circle_area =  lambda pi, radius: pi*radius**2"
   ]
  },
  {
   "cell_type": "code",
   "execution_count": null,
   "id": "reverse-equilibrium",
   "metadata": {},
   "outputs": [],
   "source": [
    "get_circle_area(3.14,5)"
   ]
  },
  {
   "cell_type": "code",
   "execution_count": null,
   "id": "accessible-importance",
   "metadata": {},
   "outputs": [],
   "source": [
    "a = '1.234'"
   ]
  },
  {
   "cell_type": "code",
   "execution_count": null,
   "id": "mature-relations",
   "metadata": {},
   "outputs": [],
   "source": [
    "a.isnumeric()"
   ]
  },
  {
   "cell_type": "code",
   "execution_count": null,
   "id": "according-heating",
   "metadata": {},
   "outputs": [],
   "source": [
    "a = {'one':1, \"two\": 2}"
   ]
  },
  {
   "cell_type": "code",
   "execution_count": null,
   "id": "metallic-philip",
   "metadata": {},
   "outputs": [],
   "source": [
    "a"
   ]
  },
  {
   "cell_type": "code",
   "execution_count": null,
   "id": "permanent-consolidation",
   "metadata": {},
   "outputs": [],
   "source": [
    "b = set(a)"
   ]
  },
  {
   "cell_type": "code",
   "execution_count": null,
   "id": "promising-effort",
   "metadata": {},
   "outputs": [],
   "source": [
    "b\n"
   ]
  },
  {
   "cell_type": "code",
   "execution_count": null,
   "id": "broadband-present",
   "metadata": {},
   "outputs": [],
   "source": [
    "b = list(a)"
   ]
  },
  {
   "cell_type": "code",
   "execution_count": null,
   "id": "authorized-ghana",
   "metadata": {},
   "outputs": [],
   "source": [
    "b"
   ]
  },
  {
   "cell_type": "code",
   "execution_count": null,
   "id": "encouraging-basic",
   "metadata": {},
   "outputs": [],
   "source": [
    "def pname(name):\n",
    "    if bool(name):\n",
    "        print('입력된 이름:', name)\n",
    "    else:\n",
    "        print('입력된 이름이 없습니다.')\n",
    "pname('')"
   ]
  },
  {
   "cell_type": "code",
   "execution_count": null,
   "id": "recorded-checklist",
   "metadata": {},
   "outputs": [],
   "source": [
    "def pname1(name):\n",
    "    if name:\n",
    "        print('입력된 이름:', name)\n",
    "    else:\n",
    "        print('입력된 이름이 없습니다.')\n",
    "pname('1')"
   ]
  },
  {
   "cell_type": "code",
   "execution_count": null,
   "id": "iraqi-optimum",
   "metadata": {},
   "outputs": [],
   "source": [
    "ymd = input('년 월 일을 입력하세요 ex) 2021 10 15 : ')\n",
    "\n",
    "ymd = [ int(word) for word in ymd.split()]\n",
    "\n",
    "total_days = 0\n",
    "for yr in range(1, ymd[0]):\n",
    "    if (yr % 400 == 0) or (yr % 100 != 0 and yr % 4 == 0):\n",
    "        total_days += 366\n",
    "    else:\n",
    "        total_days += 365\n",
    "    \n",
    "day_list = ['일', '월', '화', '수', '목', '금', '토']\n",
    "mon_dates = [ -1, 31, 28, 31, 30, 31, 30, 31, 31, 30, 31, 30, 31 ]\n",
    "\n",
    "if (ymd[0] % 400 == 0) or (ymd[0] % 100 != 0 and ymd[0] % 4 == 0):\n",
    "    mon_dates[2] = 29\n",
    "\n",
    "for i in range(1, ymd[1]):\n",
    "    total_days += mon_dates[i]\n",
    "\n",
    "total_days +=  ymd[2]\n",
    "\n",
    "rem = total_days % 7\n",
    "day = day_list[rem]\n",
    "print('입력하신 %4d년 %2d월 %2d일은 %s요일 입니다' %(ymd[0], ymd[1], ymd[2], day) )"
   ]
  },
  {
   "cell_type": "code",
   "execution_count": null,
   "id": "academic-identification",
   "metadata": {},
   "outputs": [],
   "source": [
    "def get_year_days(year):\n",
    "    total_days = 0\n",
    "    for yr in range(1, year):\n",
    "        if (yr % 400 == 0) or (yr % 100 != 0 and yr % 4 == 0):\n",
    "            total_days += 366\n",
    "        else:\n",
    "            total_days += 365\n",
    "    return total_days"
   ]
  },
  {
   "cell_type": "code",
   "execution_count": null,
   "id": "respective-small",
   "metadata": {},
   "outputs": [],
   "source": [
    "def get_month_days(year, month):\n",
    "    month_dates = [ -1, 31, 28, 31, 30, 31, 30, 31, 31, 30, 31, 30, 31 ]\n",
    "    if (year % 400 == 0) or (year % 100 != 0 and year % 4 == 0):\n",
    "        month_dates[2] = 29\n",
    "    total_days = 0\n",
    "    for i in range(1, month):\n",
    "        total_days += month_dates[i]\n",
    "    return total_days"
   ]
  },
  {
   "cell_type": "code",
   "execution_count": null,
   "id": "worst-alexandria",
   "metadata": {},
   "outputs": [],
   "source": [
    "def get_week_days(total_days):\n",
    "    day_list = ['일', '월', '화', '수', '목', '금', '토']\n",
    "    week_day = day_list[total_days % 7]\n",
    "    return week_day"
   ]
  },
  {
   "cell_type": "code",
   "execution_count": null,
   "id": "hungarian-keeping",
   "metadata": {},
   "outputs": [],
   "source": []
  },
  {
   "cell_type": "code",
   "execution_count": null,
   "id": "civil-attraction",
   "metadata": {},
   "outputs": [],
   "source": [
    "ymd = input('년 월 일을 입력하세요 ex) 2021 10 15 : ')\n",
    "\n",
    "ymd = [int(word) for word in ymd.split()]\n",
    "total_year_days = get_year_days(ymd[0])\n",
    "total_month_days = get_month_days(ymd[0], ymd[1])\n",
    "total_days = total_year_days + total_month_days + ymd[2]\n",
    "\n",
    "week_day = get_week_days(total_days)\n",
    "\n",
    "print('입력하신 %4d년 %2d월 %2d일은 %s요일 입니다' %(ymd[0], ymd[1], ymd[2], week_day) )"
   ]
  },
  {
   "cell_type": "code",
   "execution_count": 3,
   "id": "hispanic-alignment",
   "metadata": {},
   "outputs": [],
   "source": [
    "# 년도를 입력으로 받아 윤년이면 True, 아니면 False 를 반환하는 함수\n",
    "def is_leap_year(year):\n",
    "    result = False\n",
    "    \n",
    "    if year % 4 == 0 and year % 100 != 0 or year % 400 ==0 :\n",
    "        result = True\n",
    "    \n",
    "    return result"
   ]
  },
  {
   "cell_type": "code",
   "execution_count": 13,
   "id": "hairy-indicator",
   "metadata": {},
   "outputs": [],
   "source": [
    "# 년과 월을 입력으로 받다 입력 받은 월의 마지막 일자를 반환하는 함수\n",
    "def get_month_last_day(year, month):\n",
    "    last_days = [ -1, 31, 28, 31, 30, 31, 30, 31, 31, 30, 31, 30, 31]\n",
    "    \n",
    "    if is_leap_year(year):\n",
    "        last_days[2] = 29\n",
    "        \n",
    "    return last_days[month]"
   ]
  },
  {
   "cell_type": "code",
   "execution_count": 5,
   "id": "settled-residence",
   "metadata": {},
   "outputs": [],
   "source": [
    "# 년, 월, 일을 입력으로 받아 서기 1년 1월 1일부터 전체 총 일수를 계산하여 반환하는 함수\n",
    "def get_total_days(year, month, day):\n",
    "    total_days = 0\n",
    "    \n",
    "    for i in range(1, year):\n",
    "        if is_leap_year(i):\n",
    "            total_days += 366\n",
    "        else:\n",
    "            total_days += 365\n",
    "            \n",
    "    for i in range(1, month):\n",
    "        total_days += get_month_last_day(year, i)\n",
    "        \n",
    "    total_days += day\n",
    "    \n",
    "    return total_days\n"
   ]
  },
  {
   "cell_type": "code",
   "execution_count": 1,
   "id": "endangered-hanging",
   "metadata": {},
   "outputs": [],
   "source": [
    "# 년 월, 일을 입력받아 입력받은 날짜의 요일을 반환하는 함수\n",
    "def get_weekday(year, month, day):\n",
    "    weekdays = ['일', '월', '화', '수', '목', '금', '토']\n",
    "    \n",
    "    total_days = get_total_days(year, month, day)\n",
    "    \n",
    "    return weekdays[total_days % 7]"
   ]
  },
  {
   "cell_type": "code",
   "execution_count": 6,
   "id": "southwest-toner",
   "metadata": {},
   "outputs": [],
   "source": [
    "def play():\n",
    "    ymd = input('요일 확인을 위한 날짜를 입력하세요(ex. 2021 10 19): ')\n",
    "    ymd= [int(word) for word in ymd.split(' ')]\n",
    "    \n",
    "    print('\\n입력사닌 {}년 {}월 {}일은 {}요일입니다.'.format(ymd[0], ymd[1], ymd[2],\n",
    "                                               get_weekday(ymd[0], ymd[1], ymd[2])))\n",
    "    "
   ]
  },
  {
   "cell_type": "code",
   "execution_count": 15,
   "id": "demographic-comedy",
   "metadata": {},
   "outputs": [
    {
     "name": "stdout",
     "output_type": "stream",
     "text": [
      "요일 확인을 위한 날짜를 입력하세요(ex. 2021 10 19): 1 1 1\n",
      "\n",
      "입력사닌 1년 1월 1일은 월요일입니다.\n"
     ]
    }
   ],
   "source": [
    "play()"
   ]
  },
  {
   "cell_type": "code",
   "execution_count": null,
   "id": "brilliant-commercial",
   "metadata": {},
   "outputs": [],
   "source": []
  }
 ],
 "metadata": {
  "kernelspec": {
   "display_name": "Python 3",
   "language": "python",
   "name": "python3"
  },
  "language_info": {
   "codemirror_mode": {
    "name": "ipython",
    "version": 3
   },
   "file_extension": ".py",
   "mimetype": "text/x-python",
   "name": "python",
   "nbconvert_exporter": "python",
   "pygments_lexer": "ipython3",
   "version": "3.9.1"
  }
 },
 "nbformat": 4,
 "nbformat_minor": 5
}
