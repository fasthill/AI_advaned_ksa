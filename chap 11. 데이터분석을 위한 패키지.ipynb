{
 "cells": [
  {
   "cell_type": "code",
   "execution_count": 2,
   "id": "studied-marketplace",
   "metadata": {},
   "outputs": [],
   "source": [
    "import numpy as np"
   ]
  },
  {
   "cell_type": "code",
   "execution_count": 8,
   "id": "positive-bahrain",
   "metadata": {},
   "outputs": [],
   "source": [
    "arr = np.array([0,1,2,3,4,5])"
   ]
  },
  {
   "cell_type": "code",
   "execution_count": 3,
   "id": "median-tamil",
   "metadata": {},
   "outputs": [
    {
     "data": {
      "text/plain": [
       "array('abcd', dtype='<U4')"
      ]
     },
     "execution_count": 3,
     "metadata": {},
     "output_type": "execute_result"
    }
   ],
   "source": [
    "pd.array(a)"
   ]
  },
  {
   "cell_type": "code",
   "execution_count": 9,
   "id": "liked-windows",
   "metadata": {},
   "outputs": [
    {
     "data": {
      "text/plain": [
       "array([ 0.1,  5. ,  4. , 12. ,  0.5])"
      ]
     },
     "execution_count": 9,
     "metadata": {},
     "output_type": "execute_result"
    }
   ],
   "source": [
    "data2 = [0.1, 5, 4, 12, 0.5]\n",
    "a2 = np.array(data2)\n",
    "a2"
   ]
  },
  {
   "cell_type": "code",
   "execution_count": 10,
   "id": "constitutional-tissue",
   "metadata": {},
   "outputs": [
    {
     "data": {
      "text/plain": [
       "array(['0.1', '2', 'sam'], dtype='<U32')"
      ]
     },
     "execution_count": 10,
     "metadata": {},
     "output_type": "execute_result"
    }
   ],
   "source": [
    "com = [0.1, 2, 'sam']\n",
    "a3 = np.array(com)\n",
    "a3"
   ]
  },
  {
   "cell_type": "code",
   "execution_count": 11,
   "id": "emerging-diagram",
   "metadata": {},
   "outputs": [
    {
     "data": {
      "text/plain": [
       "array([1. , 2. , 3.2, 4.5, 5. ])"
      ]
     },
     "execution_count": 11,
     "metadata": {},
     "output_type": "execute_result"
    }
   ],
   "source": [
    "lst = [1,2,3.2,4.5,5]\n",
    "arr = np.array(lst)\n",
    "arr"
   ]
  },
  {
   "cell_type": "code",
   "execution_count": 16,
   "id": "daily-water",
   "metadata": {},
   "outputs": [
    {
     "data": {
      "text/plain": [
       "dtype('<U32')"
      ]
     },
     "execution_count": 16,
     "metadata": {},
     "output_type": "execute_result"
    }
   ],
   "source": [
    "a3.dtype"
   ]
  },
  {
   "cell_type": "code",
   "execution_count": 17,
   "id": "gentle-muslim",
   "metadata": {},
   "outputs": [
    {
     "data": {
      "text/plain": [
       "array([[1, 2, 3],\n",
       "       [4, 5, 6],\n",
       "       [7, 8, 9]])"
      ]
     },
     "execution_count": 17,
     "metadata": {},
     "output_type": "execute_result"
    }
   ],
   "source": [
    "lst = [[1,2,3], [4,5,6], [7,8,9]]\n",
    "arr3 = np.array(lst)\n",
    "arr3"
   ]
  },
  {
   "cell_type": "code",
   "execution_count": 25,
   "id": "aware-upgrade",
   "metadata": {},
   "outputs": [
    {
     "data": {
      "text/plain": [
       "array([ 0,  2,  4,  6,  8, 10])"
      ]
     },
     "execution_count": 25,
     "metadata": {},
     "output_type": "execute_result"
    }
   ],
   "source": [
    "arr_obj = np.arange(0,11,2)\n",
    "arr_obj"
   ]
  },
  {
   "cell_type": "code",
   "execution_count": 21,
   "id": "found-visibility",
   "metadata": {
    "collapsed": true
   },
   "outputs": [
    {
     "name": "stdout",
     "output_type": "stream",
     "text": [
      "0\n",
      "1\n",
      "2\n",
      "3\n"
     ]
    }
   ],
   "source": [
    "for i in np.arange(4):\n",
    "    print(i)"
   ]
  },
  {
   "cell_type": "code",
   "execution_count": 22,
   "id": "manual-monkey",
   "metadata": {},
   "outputs": [
    {
     "data": {
      "text/plain": [
       "array([1, 2, 3, 4, 5, 6, 7, 8, 9])"
      ]
     },
     "execution_count": 22,
     "metadata": {},
     "output_type": "execute_result"
    }
   ],
   "source": [
    "np.arange(1,10)"
   ]
  },
  {
   "cell_type": "code",
   "execution_count": 26,
   "id": "otherwise-microphone",
   "metadata": {},
   "outputs": [
    {
     "data": {
      "text/plain": [
       "array([[ 0,  2],\n",
       "       [ 4,  6],\n",
       "       [ 8, 10]])"
      ]
     },
     "execution_count": 26,
     "metadata": {},
     "output_type": "execute_result"
    }
   ],
   "source": [
    "arr_obj.reshape(3,-1)\n"
   ]
  },
  {
   "cell_type": "code",
   "execution_count": 28,
   "id": "blocked-asian",
   "metadata": {},
   "outputs": [
    {
     "data": {
      "text/plain": [
       "array([[ 0,  1,  2],\n",
       "       [ 3,  4,  5],\n",
       "       [ 6,  7,  8],\n",
       "       [ 9, 10, 11]])"
      ]
     },
     "execution_count": 28,
     "metadata": {},
     "output_type": "execute_result"
    }
   ],
   "source": [
    "arr = np.arange(12).reshape(4,3)\n",
    "arr"
   ]
  },
  {
   "cell_type": "code",
   "execution_count": 31,
   "id": "sitting-kitchen",
   "metadata": {},
   "outputs": [
    {
     "data": {
      "text/plain": [
       "array([[ 0],\n",
       "       [ 1],\n",
       "       [ 2],\n",
       "       [ 3],\n",
       "       [ 4],\n",
       "       [ 5],\n",
       "       [ 6],\n",
       "       [ 7],\n",
       "       [ 8],\n",
       "       [ 9],\n",
       "       [10],\n",
       "       [11]])"
      ]
     },
     "execution_count": 31,
     "metadata": {},
     "output_type": "execute_result"
    }
   ],
   "source": [
    "arr1 = arr.reshape(12,1)\n",
    "arr1"
   ]
  },
  {
   "cell_type": "code",
   "execution_count": 32,
   "id": "streaming-government",
   "metadata": {},
   "outputs": [
    {
     "data": {
      "text/plain": [
       "(12, 1)"
      ]
     },
     "execution_count": 32,
     "metadata": {},
     "output_type": "execute_result"
    }
   ],
   "source": [
    "arr1.shape"
   ]
  },
  {
   "cell_type": "code",
   "execution_count": 33,
   "id": "grand-cedar",
   "metadata": {},
   "outputs": [],
   "source": [
    "arr1 = arr1.reshape(3,-1)"
   ]
  },
  {
   "cell_type": "code",
   "execution_count": 36,
   "id": "funded-subdivision",
   "metadata": {},
   "outputs": [
    {
     "data": {
      "text/plain": [
       "array([[ 0,  1,  2,  3],\n",
       "       [ 4,  5,  6,  7],\n",
       "       [ 8,  9, 10, 11]])"
      ]
     },
     "execution_count": 36,
     "metadata": {},
     "output_type": "execute_result"
    }
   ],
   "source": [
    "arr1"
   ]
  },
  {
   "cell_type": "code",
   "execution_count": 38,
   "id": "received-christopher",
   "metadata": {},
   "outputs": [
    {
     "data": {
      "text/plain": [
       "array([[0, 1],\n",
       "       [8, 9]])"
      ]
     },
     "execution_count": 38,
     "metadata": {},
     "output_type": "execute_result"
    }
   ],
   "source": [
    "arr1[[0,2],:2]"
   ]
  },
  {
   "cell_type": "code",
   "execution_count": 39,
   "id": "finished-midwest",
   "metadata": {},
   "outputs": [
    {
     "data": {
      "text/plain": [
       "2"
      ]
     },
     "execution_count": 39,
     "metadata": {},
     "output_type": "execute_result"
    }
   ],
   "source": [
    "arr1.ndim"
   ]
  },
  {
   "cell_type": "code",
   "execution_count": 54,
   "id": "restricted-spelling",
   "metadata": {},
   "outputs": [],
   "source": [
    "num = np.linspace(0,2*np.pi,50)\n",
    "y = np.sin(num)"
   ]
  },
  {
   "cell_type": "code",
   "execution_count": 41,
   "id": "global-fleet",
   "metadata": {},
   "outputs": [],
   "source": [
    "import matplotlib.pyplot as plt"
   ]
  },
  {
   "cell_type": "code",
   "execution_count": 55,
   "id": "nutritional-violation",
   "metadata": {},
   "outputs": [
    {
     "data": {
      "text/plain": [
       "[<matplotlib.lines.Line2D at 0x22751433310>]"
      ]
     },
     "execution_count": 55,
     "metadata": {},
     "output_type": "execute_result"
    },
    {
     "data": {
      "image/png": "[encoded data removed]",
      "text/plain": [
       "<Figure size 432x288 with 1 Axes>"
      ]
     },
     "metadata": {
      "needs_background": "light"
     },
     "output_type": "display_data"
    }
   ],
   "source": [
    "plt.plot(num,y)"
   ]
  },
  {
   "cell_type": "code",
   "execution_count": 59,
   "id": "indirect-thomas",
   "metadata": {},
   "outputs": [],
   "source": [
    "z = np.zeros((3,5))"
   ]
  },
  {
   "cell_type": "code",
   "execution_count": 61,
   "id": "chubby-acting",
   "metadata": {},
   "outputs": [],
   "source": [
    "z1 = np.ones_like(z)"
   ]
  },
  {
   "cell_type": "code",
   "execution_count": 62,
   "id": "terminal-insulin",
   "metadata": {},
   "outputs": [
    {
     "data": {
      "text/plain": [
       "array([[1., 1., 1., 1., 1.],\n",
       "       [1., 1., 1., 1., 1.],\n",
       "       [1., 1., 1., 1., 1.]])"
      ]
     },
     "execution_count": 62,
     "metadata": {},
     "output_type": "execute_result"
    }
   ],
   "source": [
    "z1"
   ]
  },
  {
   "cell_type": "code",
   "execution_count": 63,
   "id": "executed-championship",
   "metadata": {},
   "outputs": [],
   "source": [
    "o = np.ones((3,5))"
   ]
  },
  {
   "cell_type": "code",
   "execution_count": 64,
   "id": "eight-arbitration",
   "metadata": {},
   "outputs": [
    {
     "data": {
      "text/plain": [
       "array([[1., 1., 1., 1., 1.],\n",
       "       [1., 1., 1., 1., 1.],\n",
       "       [1., 1., 1., 1., 1.]])"
      ]
     },
     "execution_count": 64,
     "metadata": {},
     "output_type": "execute_result"
    }
   ],
   "source": [
    "o"
   ]
  },
  {
   "cell_type": "code",
   "execution_count": 65,
   "id": "eligible-renaissance",
   "metadata": {},
   "outputs": [],
   "source": [
    "o2 = 2*o"
   ]
  },
  {
   "cell_type": "code",
   "execution_count": 66,
   "id": "crucial-hometown",
   "metadata": {},
   "outputs": [
    {
     "data": {
      "text/plain": [
       "array([[2., 2., 2., 2., 2.],\n",
       "       [2., 2., 2., 2., 2.],\n",
       "       [2., 2., 2., 2., 2.]])"
      ]
     },
     "execution_count": 66,
     "metadata": {},
     "output_type": "execute_result"
    }
   ],
   "source": [
    "o2"
   ]
  },
  {
   "cell_type": "code",
   "execution_count": 73,
   "id": "appreciated-tribune",
   "metadata": {},
   "outputs": [],
   "source": [
    "e = np.eye((3))"
   ]
  },
  {
   "cell_type": "code",
   "execution_count": 74,
   "id": "empty-macedonia",
   "metadata": {},
   "outputs": [
    {
     "data": {
      "text/plain": [
       "array([[1., 0., 0.],\n",
       "       [0., 1., 0.],\n",
       "       [0., 0., 1.]])"
      ]
     },
     "execution_count": 74,
     "metadata": {},
     "output_type": "execute_result"
    }
   ],
   "source": [
    "e"
   ]
  },
  {
   "cell_type": "code",
   "execution_count": 78,
   "id": "competent-riding",
   "metadata": {},
   "outputs": [
    {
     "data": {
      "text/plain": [
       "dtype('<U11')"
      ]
     },
     "execution_count": 78,
     "metadata": {},
     "output_type": "execute_result"
    }
   ],
   "source": [
    "str_arr = np.array(['1.', '0.62', '2', '3.14', '3.141592654'])\n",
    "str_arr.dtype"
   ]
  },
  {
   "cell_type": "code",
   "execution_count": 81,
   "id": "identical-privilege",
   "metadata": {},
   "outputs": [],
   "source": [
    "num_arr = str_arr.astype(float)"
   ]
  },
  {
   "cell_type": "code",
   "execution_count": 82,
   "id": "legal-indication",
   "metadata": {},
   "outputs": [
    {
     "data": {
      "text/plain": [
       "array([1.        , 0.62      , 2.        , 3.14      , 3.14159265])"
      ]
     },
     "execution_count": 82,
     "metadata": {},
     "output_type": "execute_result"
    }
   ],
   "source": [
    "num_arr"
   ]
  },
  {
   "cell_type": "code",
   "execution_count": 85,
   "id": "printable-nowhere",
   "metadata": {},
   "outputs": [
    {
     "data": {
      "text/plain": [
       "array([1.       , 0.62     , 2.       , 3.14     , 3.1415927],\n",
       "      dtype=float32)"
      ]
     },
     "execution_count": 85,
     "metadata": {},
     "output_type": "execute_result"
    }
   ],
   "source": [
    "num_arr = str_arr.astype(np.float32)\n",
    "num_arr"
   ]
  },
  {
   "cell_type": "code",
   "execution_count": 87,
   "id": "surprising-summary",
   "metadata": {},
   "outputs": [
    {
     "data": {
      "text/plain": [
       "array([1, 0, 2, 3, 3])"
      ]
     },
     "execution_count": 87,
     "metadata": {},
     "output_type": "execute_result"
    }
   ],
   "source": [
    "num_arr1 = str_arr.astype(float).astype(int)\n",
    "num_arr1"
   ]
  },
  {
   "cell_type": "code",
   "execution_count": 92,
   "id": "whole-processor",
   "metadata": {},
   "outputs": [
    {
     "data": {
      "text/plain": [
       "array([[0.22229132, 0.0615078 , 0.30558055],\n",
       "       [0.76701114, 0.35028191, 0.14122774]])"
      ]
     },
     "execution_count": 92,
     "metadata": {},
     "output_type": "execute_result"
    }
   ],
   "source": [
    "aa = np.random.rand(2,3).astype(np.float64)\n",
    "aa"
   ]
  },
  {
   "cell_type": "code",
   "execution_count": 104,
   "id": "killing-headquarters",
   "metadata": {},
   "outputs": [],
   "source": [
    "np.random.seed(10)"
   ]
  },
  {
   "cell_type": "code",
   "execution_count": 105,
   "id": "smoking-anchor",
   "metadata": {},
   "outputs": [
    {
     "data": {
      "text/plain": [
       "array([[0.77132064, 0.02075195, 0.63364823],\n",
       "       [0.74880388, 0.49850701, 0.22479665]])"
      ]
     },
     "execution_count": 105,
     "metadata": {},
     "output_type": "execute_result"
    }
   ],
   "source": [
    "aa = np.random.rand(2,3).astype(np.float64)\n",
    "aa"
   ]
  },
  {
   "cell_type": "code",
   "execution_count": 116,
   "id": "applicable-indie",
   "metadata": {},
   "outputs": [
    {
     "data": {
      "text/plain": [
       "2"
      ]
     },
     "execution_count": 116,
     "metadata": {},
     "output_type": "execute_result"
    }
   ],
   "source": [
    "bb = np.random.randint(3)\n",
    "bb"
   ]
  },
  {
   "cell_type": "code",
   "execution_count": 118,
   "id": "electoral-treatment",
   "metadata": {},
   "outputs": [
    {
     "data": {
      "text/plain": [
       "array([0, 2, 1, 1, 2])"
      ]
     },
     "execution_count": 118,
     "metadata": {},
     "output_type": "execute_result"
    }
   ],
   "source": [
    "bb1 = np.random.randint(3, size=5)\n",
    "bb1"
   ]
  },
  {
   "cell_type": "code",
   "execution_count": 119,
   "id": "resistant-convertible",
   "metadata": {},
   "outputs": [],
   "source": [
    "ar1 = np.array([10,20,30,40])\n",
    "ar2 = np.array([1,2,3,4])"
   ]
  },
  {
   "cell_type": "code",
   "execution_count": 120,
   "id": "democratic-advertising",
   "metadata": {},
   "outputs": [
    {
     "data": {
      "text/plain": [
       "array([ 10,  40,  90, 160])"
      ]
     },
     "execution_count": 120,
     "metadata": {},
     "output_type": "execute_result"
    }
   ],
   "source": [
    "ar1*ar2"
   ]
  },
  {
   "cell_type": "code",
   "execution_count": 121,
   "id": "orange-soundtrack",
   "metadata": {},
   "outputs": [
    {
     "data": {
      "text/plain": [
       "array([11, 22, 33, 44])"
      ]
     },
     "execution_count": 121,
     "metadata": {},
     "output_type": "execute_result"
    }
   ],
   "source": [
    "ar1.T + ar2"
   ]
  },
  {
   "cell_type": "code",
   "execution_count": 122,
   "id": "compact-honduras",
   "metadata": {},
   "outputs": [],
   "source": [
    "ar3 = np.array([10.,20.,30.,40.])\n",
    "ar4 = np.array([1,2,3,4])"
   ]
  },
  {
   "cell_type": "code",
   "execution_count": 123,
   "id": "patient-metallic",
   "metadata": {},
   "outputs": [],
   "source": [
    "ar3 /= ar4"
   ]
  },
  {
   "cell_type": "code",
   "execution_count": 124,
   "id": "amber-beatles",
   "metadata": {},
   "outputs": [
    {
     "data": {
      "text/plain": [
       "array([10., 10., 10., 10.])"
      ]
     },
     "execution_count": 124,
     "metadata": {},
     "output_type": "execute_result"
    }
   ],
   "source": [
    "ar3"
   ]
  },
  {
   "cell_type": "code",
   "execution_count": 131,
   "id": "ambient-manor",
   "metadata": {},
   "outputs": [
    {
     "data": {
      "text/plain": [
       "[11, 21, 35, 53, 75, 101, 131, 165, 203, 245]"
      ]
     },
     "execution_count": 131,
     "metadata": {},
     "output_type": "execute_result"
    }
   ],
   "source": [
    "x1 = [1,2,3,4,5,6,7,8,9]\n",
    "\n",
    "y = [2*x**2 + x*4 +5 for x in np.arange(1,11)]\n",
    "y"
   ]
  },
  {
   "cell_type": "code",
   "execution_count": 133,
   "id": "challenging-undergraduate",
   "metadata": {},
   "outputs": [
    {
     "data": {
      "text/plain": [
       "array([1, 2, 3, 4, 5, 6, 7, 8, 9])"
      ]
     },
     "execution_count": 133,
     "metadata": {},
     "output_type": "execute_result"
    }
   ],
   "source": [
    "x2 = np.arange(1,10)\n",
    "x2"
   ]
  },
  {
   "cell_type": "code",
   "execution_count": 141,
   "id": "marine-texture",
   "metadata": {},
   "outputs": [
    {
     "data": {
      "text/plain": [
       "array([ True,  True])"
      ]
     },
     "execution_count": 141,
     "metadata": {},
     "output_type": "execute_result"
    }
   ],
   "source": [
    "l1 = np.array([1,2])\n",
    "l2 = np.array([0,1])\n",
    "np.logical_and(l1,l2)\n",
    "np.logical_or(l1,l2)"
   ]
  },
  {
   "cell_type": "code",
   "execution_count": 140,
   "id": "empty-salvation",
   "metadata": {},
   "outputs": [
    {
     "name": "stdout",
     "output_type": "stream",
     "text": [
      "[ True False]\n",
      "[ True  True]\n",
      "[False  True]\n"
     ]
    }
   ],
   "source": [
    "l3 = np.array([True, False])\n",
    "l4 = np.array([True, True])\n",
    "\n",
    "print(l3 & l4)\n",
    "print(l3 | l4)\n",
    "print(~l3)\n"
   ]
  },
  {
   "cell_type": "code",
   "execution_count": 148,
   "id": "champion-davis",
   "metadata": {},
   "outputs": [
    {
     "data": {
      "text/plain": [
       "array([1, 2, 3, 4, 5])"
      ]
     },
     "execution_count": 148,
     "metadata": {},
     "output_type": "execute_result"
    }
   ],
   "source": [
    "arr = np.arange(1, 6)\n",
    "arr"
   ]
  },
  {
   "cell_type": "code",
   "execution_count": 149,
   "id": "resistant-spokesman",
   "metadata": {},
   "outputs": [
    {
     "name": "stdout",
     "output_type": "stream",
     "text": [
      "15, 3.0, 5\n"
     ]
    }
   ],
   "source": [
    "print(arr.sum(), arr.mean(), arr.max(), sep=\", \" )"
   ]
  },
  {
   "cell_type": "code",
   "execution_count": 150,
   "id": "moving-fountain",
   "metadata": {},
   "outputs": [
    {
     "name": "stdout",
     "output_type": "stream",
     "text": [
      "[ 1  3  6 10 15]\n"
     ]
    }
   ],
   "source": [
    "print(arr.cumsum())"
   ]
  },
  {
   "cell_type": "code",
   "execution_count": 151,
   "id": "instructional-attachment",
   "metadata": {},
   "outputs": [
    {
     "name": "stdout",
     "output_type": "stream",
     "text": [
      "[  1   2   6  24 120]\n"
     ]
    }
   ],
   "source": [
    "print(arr.cumprod())"
   ]
  },
  {
   "cell_type": "code",
   "execution_count": 152,
   "id": "homeless-tennis",
   "metadata": {},
   "outputs": [],
   "source": [
    "a = np.arange(4).reshape(2,2)"
   ]
  },
  {
   "cell_type": "code",
   "execution_count": 154,
   "id": "sapphire-banana",
   "metadata": {},
   "outputs": [],
   "source": [
    "b = np.array([3,2,0,1]).reshape(2,2)"
   ]
  },
  {
   "cell_type": "code",
   "execution_count": 155,
   "id": "professional-frontier",
   "metadata": {},
   "outputs": [
    {
     "data": {
      "text/plain": [
       "array([[0, 1],\n",
       "       [6, 7]])"
      ]
     },
     "execution_count": 155,
     "metadata": {},
     "output_type": "execute_result"
    }
   ],
   "source": [
    "a.dot(b)"
   ]
  },
  {
   "cell_type": "code",
   "execution_count": 158,
   "id": "mounted-watson",
   "metadata": {},
   "outputs": [
    {
     "data": {
      "text/plain": [
       "array([[0, 1],\n",
       "       [2, 3]])"
      ]
     },
     "execution_count": 158,
     "metadata": {},
     "output_type": "execute_result"
    }
   ],
   "source": [
    "a\n"
   ]
  },
  {
   "cell_type": "code",
   "execution_count": 159,
   "id": "geographic-encoding",
   "metadata": {},
   "outputs": [
    {
     "data": {
      "text/plain": [
       "array([[3, 2],\n",
       "       [0, 1]])"
      ]
     },
     "execution_count": 159,
     "metadata": {},
     "output_type": "execute_result"
    }
   ],
   "source": [
    "b"
   ]
  },
  {
   "cell_type": "code",
   "execution_count": 164,
   "id": "rapid-robertson",
   "metadata": {},
   "outputs": [],
   "source": [
    "ainv = np.linalg.inv(a)"
   ]
  },
  {
   "cell_type": "code",
   "execution_count": 161,
   "id": "figured-cornell",
   "metadata": {},
   "outputs": [
    {
     "data": {
      "text/plain": [
       "array([[-0. ,  0.5],\n",
       "       [ 2. ,  0. ]])"
      ]
     },
     "execution_count": 161,
     "metadata": {},
     "output_type": "execute_result"
    }
   ],
   "source": [
    "ainv*a"
   ]
  },
  {
   "cell_type": "code",
   "execution_count": 162,
   "id": "flying-benchmark",
   "metadata": {},
   "outputs": [
    {
     "data": {
      "text/plain": [
       "array([[-0. ,  0.5],\n",
       "       [ 2. ,  0. ]])"
      ]
     },
     "execution_count": 162,
     "metadata": {},
     "output_type": "execute_result"
    }
   ],
   "source": [
    "a*ainv"
   ]
  },
  {
   "cell_type": "code",
   "execution_count": 163,
   "id": "alpha-allen",
   "metadata": {},
   "outputs": [
    {
     "data": {
      "text/plain": [
       "array([[0, 1],\n",
       "       [2, 3]])"
      ]
     },
     "execution_count": 163,
     "metadata": {},
     "output_type": "execute_result"
    }
   ],
   "source": [
    "a\n"
   ]
  },
  {
   "cell_type": "code",
   "execution_count": 165,
   "id": "micro-tiffany",
   "metadata": {},
   "outputs": [
    {
     "data": {
      "text/plain": [
       "array([[-0. ,  0.5],\n",
       "       [ 2. ,  0. ]])"
      ]
     },
     "execution_count": 165,
     "metadata": {},
     "output_type": "execute_result"
    }
   ],
   "source": [
    "a*ainv"
   ]
  },
  {
   "cell_type": "code",
   "execution_count": 166,
   "id": "fewer-cycle",
   "metadata": {},
   "outputs": [
    {
     "data": {
      "text/plain": [
       "array([[1., 0.],\n",
       "       [0., 1.]])"
      ]
     },
     "execution_count": 166,
     "metadata": {},
     "output_type": "execute_result"
    }
   ],
   "source": [
    "a.dot(ainv)"
   ]
  },
  {
   "cell_type": "code",
   "execution_count": 168,
   "id": "norman-engagement",
   "metadata": {},
   "outputs": [
    {
     "data": {
      "text/plain": [
       "array([ 0, 10, 20, 30, 40, 50])"
      ]
     },
     "execution_count": 168,
     "metadata": {},
     "output_type": "execute_result"
    }
   ],
   "source": [
    "a1 = np.arange(0, 60,10)\n",
    "a1"
   ]
  },
  {
   "cell_type": "code",
   "execution_count": 169,
   "id": "growing-defense",
   "metadata": {},
   "outputs": [
    {
     "data": {
      "text/plain": [
       "array([50, 40, 30, 20, 10,  0])"
      ]
     },
     "execution_count": 169,
     "metadata": {},
     "output_type": "execute_result"
    }
   ],
   "source": [
    "a1[::-1]"
   ]
  },
  {
   "cell_type": "code",
   "execution_count": 176,
   "id": "charitable-zealand",
   "metadata": {},
   "outputs": [],
   "source": [
    "a2 = np.arange(10,100,10).reshape(3,3,1)"
   ]
  },
  {
   "cell_type": "code",
   "execution_count": 173,
   "id": "protecting-thirty",
   "metadata": {},
   "outputs": [
    {
     "data": {
      "text/plain": [
       "numpy.ndarray"
      ]
     },
     "execution_count": 173,
     "metadata": {},
     "output_type": "execute_result"
    }
   ],
   "source": [
    "type(a2)"
   ]
  },
  {
   "cell_type": "code",
   "execution_count": 174,
   "id": "compressed-speech",
   "metadata": {},
   "outputs": [
    {
     "data": {
      "text/plain": [
       "numpy.ndarray"
      ]
     },
     "execution_count": 174,
     "metadata": {},
     "output_type": "execute_result"
    }
   ],
   "source": [
    "type(a2[0])"
   ]
  },
  {
   "cell_type": "code",
   "execution_count": 177,
   "id": "southeast-twelve",
   "metadata": {},
   "outputs": [
    {
     "data": {
      "text/plain": [
       "numpy.ndarray"
      ]
     },
     "execution_count": 177,
     "metadata": {},
     "output_type": "execute_result"
    }
   ],
   "source": [
    "type(a2[0][0])"
   ]
  },
  {
   "cell_type": "code",
   "execution_count": 178,
   "id": "balanced-geography",
   "metadata": {},
   "outputs": [
    {
     "data": {
      "text/plain": [
       "numpy.int32"
      ]
     },
     "execution_count": 178,
     "metadata": {},
     "output_type": "execute_result"
    }
   ],
   "source": [
    "type(a2[0][0][0])"
   ]
  },
  {
   "cell_type": "code",
   "execution_count": 179,
   "id": "fatty-kingston",
   "metadata": {},
   "outputs": [
    {
     "data": {
      "text/plain": [
       "array([10])"
      ]
     },
     "execution_count": 179,
     "metadata": {},
     "output_type": "execute_result"
    }
   ],
   "source": [
    "a2[0][0]"
   ]
  },
  {
   "cell_type": "code",
   "execution_count": 180,
   "id": "committed-ottawa",
   "metadata": {},
   "outputs": [
    {
     "data": {
      "text/plain": [
       "array([[10, 20, 30],\n",
       "       [40, 50, 60],\n",
       "       [70, 80, 90]])"
      ]
     },
     "execution_count": 180,
     "metadata": {},
     "output_type": "execute_result"
    }
   ],
   "source": [
    "a2.reshape(3,3)"
   ]
  },
  {
   "cell_type": "code",
   "execution_count": 181,
   "id": "imposed-calvin",
   "metadata": {},
   "outputs": [],
   "source": [
    "a2[2,2]= 95"
   ]
  },
  {
   "cell_type": "code",
   "execution_count": 182,
   "id": "sensitive-antique",
   "metadata": {},
   "outputs": [
    {
     "data": {
      "text/plain": [
       "array([[[10],\n",
       "        [20],\n",
       "        [30]],\n",
       "\n",
       "       [[40],\n",
       "        [50],\n",
       "        [60]],\n",
       "\n",
       "       [[70],\n",
       "        [80],\n",
       "        [95]]])"
      ]
     },
     "execution_count": 182,
     "metadata": {},
     "output_type": "execute_result"
    }
   ],
   "source": [
    "a2"
   ]
  },
  {
   "cell_type": "code",
   "execution_count": 183,
   "id": "virtual-violin",
   "metadata": {},
   "outputs": [
    {
     "data": {
      "text/plain": [
       "array([[10],\n",
       "       [80]])"
      ]
     },
     "execution_count": 183,
     "metadata": {},
     "output_type": "execute_result"
    }
   ],
   "source": [
    "a2[[0,2],[0,1]]"
   ]
  },
  {
   "cell_type": "code",
   "execution_count": 187,
   "id": "anonymous-alpha",
   "metadata": {},
   "outputs": [
    {
     "data": {
      "text/plain": [
       "array([40, 50, 60, 70, 80, 95])"
      ]
     },
     "execution_count": 187,
     "metadata": {},
     "output_type": "execute_result"
    }
   ],
   "source": [
    "a2[a2>30]"
   ]
  },
  {
   "cell_type": "code",
   "execution_count": 189,
   "id": "complicated-season",
   "metadata": {},
   "outputs": [
    {
     "data": {
      "text/plain": [
       "array([[[False],\n",
       "        [False],\n",
       "        [False]],\n",
       "\n",
       "       [[ True],\n",
       "        [ True],\n",
       "        [ True]],\n",
       "\n",
       "       [[ True],\n",
       "        [ True],\n",
       "        [ True]]])"
      ]
     },
     "execution_count": 189,
     "metadata": {},
     "output_type": "execute_result"
    }
   ],
   "source": [
    "a2>30"
   ]
  },
  {
   "cell_type": "code",
   "execution_count": 186,
   "id": "cardiovascular-relaxation",
   "metadata": {},
   "outputs": [
    {
     "data": {
      "text/plain": [
       "array([[False, False],\n",
       "       [False, False]])"
      ]
     },
     "execution_count": 186,
     "metadata": {},
     "output_type": "execute_result"
    }
   ],
   "source": [
    "a>30"
   ]
  },
  {
   "cell_type": "code",
   "execution_count": null,
   "id": "loving-customs",
   "metadata": {},
   "outputs": [],
   "source": [
    "with open('data/coffeeShopSales.txt', 'rt') as f:\n",
    "    coffee_data = f.readlines()\n",
    "coffee_name = coffee_data[0].strip('\\n').split('\\t')\n",
    "espresso = []\n",
    "americano = []\n",
    "cafelatte = []\n",
    "capuchino = []\n",
    "for sale in coffee_data[1:]:\n",
    "    sale.split('\\t')\n",
    "    espresso.append(int(sale.split('\\t')[1]))\n",
    "    americano.append(int(sale.split('\\t')[2]))\n",
    "    cafelatte.append(int(sale.split('\\t')[3]))\n",
    "    capuchino.append(int(sale.split('\\t')[4].strip('\\n')))\n",
    "    \n",
    "print ('커피메뉴: {} {}'.format(coffee_name[1], espresso))\n",
    "print( '전체 판매량: {}, 평균 판매량 {}'.format(sum(espresso), sum(espresso)/len(espresso)))\n",
    "print ('커피메뉴: {} {}'.format(coffee_name[2], americano))\n",
    "print( '전체 판매량: {}, 평균 판매량 {}'.format(sum(americano), sum(americano)/len(americano)))\n",
    "print ('커피메뉴: {} {}'.format(coffee_name[3], cafelatte))\n",
    "print( '전체 판매량: {}, 평균 판매량 {}'.format(sum(cafelatte), sum(cafelatte)/len(cafelatte)))\n",
    "print ('커피메뉴: {} {}'.format(coffee_name[4], capuchino))\n",
    "print( '전체 판매량: {}, 평균 판매량 {}'.format(sum(capuchino), sum(capuchino)/len(capuchino)))"
   ]
  },
  {
   "cell_type": "code",
   "execution_count": 1,
   "id": "inclusive-quilt",
   "metadata": {},
   "outputs": [],
   "source": [
    "with open('data/coffeeShopSales.txt', 'rt') as f:\n",
    "    coffee_data = f.readlines()\n"
   ]
  },
  {
   "cell_type": "code",
   "execution_count": 3,
   "id": "hindu-strip",
   "metadata": {},
   "outputs": [
    {
     "data": {
      "text/plain": [
       "['날짜\\t에스프레소\\t아메리카노\\t카페라테\\t카푸치노\\n',\n",
       " '10.15\\t10\\t50\\t45\\t20\\n',\n",
       " '10.16\\t12\\t45\\t41\\t18\\n',\n",
       " '10.17\\t11\\t53\\t32\\t25\\n',\n",
       " '10.18\\t15\\t49\\t38\\t22\\n']"
      ]
     },
     "execution_count": 3,
     "metadata": {},
     "output_type": "execute_result"
    }
   ],
   "source": [
    "coffee_data"
   ]
  },
  {
   "cell_type": "code",
   "execution_count": 6,
   "id": "sustainable-second",
   "metadata": {},
   "outputs": [],
   "source": [
    "coffee_sales1 = coffee_data[1:]"
   ]
  },
  {
   "cell_type": "code",
   "execution_count": 9,
   "id": "demonstrated-lighter",
   "metadata": {},
   "outputs": [],
   "source": [
    "data = []\n",
    "for i in coffee_sales:\n",
    "    data.extend(i.strip('\\n').split('\\t'))"
   ]
  },
  {
   "cell_type": "code",
   "execution_count": 34,
   "id": "executed-bloom",
   "metadata": {},
   "outputs": [
    {
     "data": {
      "text/plain": [
       "array([[10, 50, 45, 20],\n",
       "       [12, 45, 41, 18],\n",
       "       [11, 53, 32, 25],\n",
       "       [15, 49, 38, 22]])"
      ]
     },
     "execution_count": 34,
     "metadata": {},
     "output_type": "execute_result"
    }
   ],
   "source": [
    "np.array(data).reshape(4,5)[:,1:].astype(int)"
   ]
  },
  {
   "cell_type": "code",
   "execution_count": 33,
   "id": "level-wayne",
   "metadata": {},
   "outputs": [
    {
     "ename": "TypeError",
     "evalue": "only size-1 arrays can be converted to Python scalars",
     "output_type": "error",
     "traceback": [
      "\u001b[1;31m---------------------------------------------------------------------------\u001b[0m",
      "\u001b[1;31mTypeError\u001b[0m                                 Traceback (most recent call last)",
      "\u001b[1;32m<ipython-input-33-4f1b5fc15e2f>\u001b[0m in \u001b[0;36m<module>\u001b[1;34m\u001b[0m\n\u001b[1;32m----> 1\u001b[1;33m \u001b[0mint\u001b[0m\u001b[1;33m(\u001b[0m\u001b[0mnp\u001b[0m\u001b[1;33m.\u001b[0m\u001b[0marray\u001b[0m\u001b[1;33m(\u001b[0m\u001b[0mdata\u001b[0m\u001b[1;33m)\u001b[0m\u001b[1;33m.\u001b[0m\u001b[0mreshape\u001b[0m\u001b[1;33m(\u001b[0m\u001b[1;36m4\u001b[0m\u001b[1;33m,\u001b[0m\u001b[1;36m5\u001b[0m\u001b[1;33m)\u001b[0m\u001b[1;33m[\u001b[0m\u001b[1;33m:\u001b[0m\u001b[1;33m,\u001b[0m\u001b[1;36m1\u001b[0m\u001b[1;33m:\u001b[0m\u001b[1;33m]\u001b[0m\u001b[1;33m)\u001b[0m\u001b[1;33m\u001b[0m\u001b[1;33m\u001b[0m\u001b[0m\n\u001b[0m",
      "\u001b[1;31mTypeError\u001b[0m: only size-1 arrays can be converted to Python scalars"
     ]
    }
   ],
   "source": [
    "int(np.array(data).reshape(4,5)[:,1:])"
   ]
  },
  {
   "cell_type": "code",
   "execution_count": 38,
   "id": "eastern-wireless",
   "metadata": {},
   "outputs": [
    {
     "ename": "SyntaxError",
     "evalue": "unexpected EOF while parsing (<ipython-input-38-b69cd5e55e45>, line 19)",
     "output_type": "error",
     "traceback": [
      "\u001b[1;36m  File \u001b[1;32m\"<ipython-input-38-b69cd5e55e45>\"\u001b[1;36m, line \u001b[1;32m19\u001b[0m\n\u001b[1;33m    print('\\t 전체 판매량: {}, 평균판매량: {:.1f} \\n'.format(sum(value), mean(value))\u001b[0m\n\u001b[1;37m                                                                           ^\u001b[0m\n\u001b[1;31mSyntaxError\u001b[0m\u001b[1;31m:\u001b[0m unexpected EOF while parsing\n"
     ]
    }
   ],
   "source": [
    "with open('data/coffeeShopSales.txt', 'rt') as f:\n",
    "    coffee_data = f.readlines()\n",
    "    \n",
    "data = []\n",
    "for i in coffee_data[1:]:\n",
    "    data.extend(i.strip('\\n').split('\\t'))\n",
    "    \n",
    "coffee_name = coffee_data[0].strip('\\n').split('\\t')[1:]\n",
    "coffee_sale = np.array(data).reshape(4,5)[:,1:]\n",
    "\n",
    "coffee_sales_dict = {}\n",
    "for i in range(len(coffee_name)):\n",
    "    coffee_sales_dict[coffee_name[i]] = coffee_sale[:,i].astype(int)\n",
    "\n",
    "coffee_sales_dict\n",
    "\n",
    "for key, value in coffee_sales_dict.items():\n",
    "    print('커피메뉴: {} {}'.format(key, value))\n",
    "    print('\\t 전체 판매량: {}, 평균판매량: {:.1f} \\n'.format(sum(value), mean(value))"
   ]
  },
  {
   "cell_type": "code",
   "execution_count": null,
   "id": "found-petite",
   "metadata": {},
   "outputs": [],
   "source": []
  },
  {
   "cell_type": "code",
   "execution_count": 24,
   "id": "cardiovascular-bikini",
   "metadata": {},
   "outputs": [
    {
     "data": {
      "text/plain": [
       "['에스프레소', '아메리카노', '카페라테', '카푸치노']"
      ]
     },
     "execution_count": 24,
     "metadata": {},
     "output_type": "execute_result"
    }
   ],
   "source": [
    "coffee_name"
   ]
  },
  {
   "cell_type": "code",
   "execution_count": 20,
   "id": "express-folder",
   "metadata": {},
   "outputs": [
    {
     "data": {
      "text/plain": [
       "array([['10', '50', '45', '20'],\n",
       "       ['12', '45', '41', '18'],\n",
       "       ['11', '53', '32', '25'],\n",
       "       ['15', '49', '38', '22']], dtype='<U5')"
      ]
     },
     "execution_count": 20,
     "metadata": {},
     "output_type": "execute_result"
    }
   ],
   "source": [
    "coffee_sales"
   ]
  },
  {
   "cell_type": "code",
   "execution_count": 42,
   "id": "numerous-macro",
   "metadata": {},
   "outputs": [
    {
     "name": "stdout",
     "output_type": "stream",
     "text": [
      "커피메뉴: 12 [11, 15]\n",
      "커피메뉴: 45 [53, 49]\n",
      "커피메뉴: 41 [32, 38]\n",
      "커피메뉴: 18 [25, 22]\n"
     ]
    }
   ],
   "source": [
    "coffee_menu = lines[0].split()[1:]\n",
    "lines = lines[1:]\n",
    "\n",
    "coffee_sales_dict = {}\n",
    "for menu in coffee_menu:\n",
    "    coffee_sales_dict[menu] = []\n",
    "    \n",
    "for line in lines:\n",
    "    temp = line.split()[1:]\n",
    "    \n",
    "    for i in range(len(coffee_menu)):\n",
    "        coffee_sales_dict[coffee_menu[i]].append(int(temp[i]))\n",
    "        \n",
    "for key, value in coffee_sales_dict.items():\n",
    "    print('커피메뉴: {} {}'.format(key, value))\n",
    "#     print('\\t 전체 판매량: {}, 평균판매량: {:.1f} \\n'.format(sum(value), mean(value))"
   ]
  },
  {
   "cell_type": "code",
   "execution_count": 39,
   "id": "operational-pleasure",
   "metadata": {},
   "outputs": [
    {
     "name": "stdout",
     "output_type": "stream",
     "text": [
      "커피메뉴:에스프레소 [10 12 11 15]\n",
      "\t 전체 판매량: 48 평균 판매량: 12.0\n",
      "커피메뉴:아메리카노 [50 45 53 49]\n",
      "\t 전체 판매량: 197 평균 판매량: 49.2\n",
      "커피메뉴:카페라테 [45 41 32 38]\n",
      "\t 전체 판매량: 156 평균 판매량: 39.0\n",
      "커피메뉴:카푸치노 [20 18 25 22]\n",
      "\t 전체 판매량: 85 평균 판매량: 21.2\n"
     ]
    }
   ],
   "source": [
    "with open('data/coffeeShopSales.txt', 'rt') as f:\n",
    "    lines = f.readlines()\n",
    "    \n",
    "header = lines[0].split()[1:]\n",
    "lines = lines[1:]\n",
    "coffee_sales = []\n",
    "\n",
    "for line in lines:\n",
    "    coffee_sales.append(line.split()[1:])\n",
    "    \n",
    "coffee_sales = np.array(coffee_sales)\n",
    "coffee_sales = coffee_sales.astype(np.int32)\n",
    "\n",
    "for i in range(len(header)):\n",
    "    temp = coffee_sales[:, i]\n",
    "    print('커피메뉴:{} {}' .format(header[i], temp))\n",
    "    print('\\t 전체 판매량: {} 평균 판매량: {:.1f}'.format(temp.sum(), temp.mean()))"
   ]
  },
  {
   "cell_type": "code",
   "execution_count": null,
   "id": "elegant-announcement",
   "metadata": {},
   "outputs": [],
   "source": []
  }
 ],
 "metadata": {
  "kernelspec": {
   "display_name": "Python 3",
   "language": "python",
   "name": "python3"
  },
  "language_info": {
   "codemirror_mode": {
    "name": "ipython",
    "version": 3
   },
   "file_extension": ".py",
   "mimetype": "text/x-python",
   "name": "python",
   "nbconvert_exporter": "python",
   "pygments_lexer": "ipython3",
   "version": "3.9.1"
  }
 },
 "nbformat": 4,
 "nbformat_minor": 5
}
