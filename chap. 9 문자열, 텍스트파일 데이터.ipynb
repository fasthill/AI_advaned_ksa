{
 "cells": [
  {
   "cell_type": "code",
   "execution_count": 3,
   "id": "renewable-colors",
   "metadata": {},
   "outputs": [],
   "source": [
    "import os"
   ]
  },
  {
   "cell_type": "code",
   "execution_count": 4,
   "id": "outer-parliament",
   "metadata": {},
   "outputs": [],
   "source": [
    "with open('data/coffeeShopSales.txt', 'rt') as f:\n",
    "    coffee_data = f.readlines()"
   ]
  },
  {
   "cell_type": "code",
   "execution_count": 5,
   "id": "sustained-seven",
   "metadata": {},
   "outputs": [
    {
     "data": {
      "text/plain": [
       "['날짜\\t에스프레소\\t아메리카노\\t카페라테\\t카푸치노\\n',\n",
       " '10.15\\t10\\t50\\t45\\t20\\n',\n",
       " '10.16\\t12\\t45\\t41\\t18\\n',\n",
       " '10.17\\t11\\t53\\t32\\t25\\n',\n",
       " '10.18\\t15\\t49\\t38\\t22\\n']"
      ]
     },
     "execution_count": 5,
     "metadata": {},
     "output_type": "execute_result"
    }
   ],
   "source": [
    "coffee_data"
   ]
  },
  {
   "cell_type": "code",
   "execution_count": 8,
   "id": "statistical-panama",
   "metadata": {},
   "outputs": [
    {
     "data": {
      "text/plain": [
       "'에스프레소'"
      ]
     },
     "execution_count": 8,
     "metadata": {},
     "output_type": "execute_result"
    }
   ],
   "source": [
    "coffee_data[0].split('\\t')[1]"
   ]
  },
  {
   "cell_type": "code",
   "execution_count": 32,
   "id": "visible-factory",
   "metadata": {},
   "outputs": [
    {
     "name": "stdout",
     "output_type": "stream",
     "text": [
      "커피메뉴: 에스프레소 [10, 12, 11, 15]\n",
      "전체 판매량: 48, 평균 판매량 12.0\n",
      "커피메뉴: 아메리카노 [50, 45, 53, 49]\n",
      "전체 판매량: 197, 평균 판매량 49.25\n",
      "커피메뉴: 카페라테 [45, 41, 32, 38]\n",
      "전체 판매량: 156, 평균 판매량 39.0\n",
      "커피메뉴: 카푸치노 [20, 18, 25, 22]\n",
      "전체 판매량: 85, 평균 판매량 21.25\n"
     ]
    }
   ],
   "source": [
    "with open('data/coffeeShopSales.txt', 'rt') as f:\n",
    "    coffee_data = f.readlines()\n",
    "coffee_name = coffee_data[0].strip('\\n').split('\\t')\n",
    "espresso = []\n",
    "americano = []\n",
    "cafelatte = []\n",
    "capuchino = []\n",
    "for sale in coffee_data[1:]:\n",
    "    sale.split('\\t')\n",
    "    espresso.append(int(sale.split('\\t')[1]))\n",
    "    americano.append(int(sale.split('\\t')[2]))\n",
    "    cafelatte.append(int(sale.split('\\t')[3]))\n",
    "    capuchino.append(int(sale.split('\\t')[4].strip('\\n')))\n",
    "    \n",
    "print ('커피메뉴: {} {}'.format(coffee_name[1], espresso))\n",
    "print( '전체 판매량: {}, 평균 판매량 {}'.format(sum(espresso), sum(espresso)/len(espresso)))\n",
    "print ('커피메뉴: {} {}'.format(coffee_name[2], americano))\n",
    "print( '전체 판매량: {}, 평균 판매량 {}'.format(sum(americano), sum(americano)/len(americano)))\n",
    "print ('커피메뉴: {} {}'.format(coffee_name[3], cafelatte))\n",
    "print( '전체 판매량: {}, 평균 판매량 {}'.format(sum(cafelatte), sum(cafelatte)/len(cafelatte)))\n",
    "print ('커피메뉴: {} {}'.format(coffee_name[4], capuchino))\n",
    "print( '전체 판매량: {}, 평균 판매량 {}'.format(sum(capuchino), sum(capuchino)/len(capuchino)))\n",
    "\n",
    "    "
   ]
  },
  {
   "cell_type": "code",
   "execution_count": 36,
   "id": "wooden-democracy",
   "metadata": {},
   "outputs": [
    {
     "name": "stdout",
     "output_type": "stream",
     "text": [
      "커피메뉴: 에스프레소 [10, 12, 11, 15]\n",
      "전체 판매량: 48, 평균 판매량 12.0\n",
      "\n",
      "커피메뉴: 아메리카노 [50, 45, 53, 49]\n",
      "전체 판매량: 197, 평균 판매량 49.25\n",
      "\n",
      "커피메뉴: 카페라테 [45, 41, 32, 38]\n",
      "전체 판매량: 156, 평균 판매량 39.0\n",
      "\n",
      "커피메뉴: 카푸치노 [20, 18, 25, 22]\n",
      "전체 판매량: 85, 평균 판매량 21.25\n",
      "\n"
     ]
    }
   ],
   "source": [
    "def sale_print(name, sales):\n",
    "    print ('커피메뉴: {} {}'.format(name, sales))\n",
    "    print( '전체 판매량: {}, 평균 판매량 {}'.format(sum(sales), sum(sales)/len(sales)))\n",
    "    print()\n",
    "\n",
    "with open('data/coffeeShopSales.txt', 'rt') as f:\n",
    "    coffee_data = f.readlines()\n",
    "    \n",
    "coffee_name = coffee_data[0].strip('\\n').split('\\t')\n",
    "espresso = []\n",
    "americano = []\n",
    "cafelatte = []\n",
    "capuchino = []\n",
    "for sale in coffee_data[1:]:\n",
    "    sale.split('\\t')\n",
    "    espresso.append(int(sale.split('\\t')[1]))\n",
    "    americano.append(int(sale.split('\\t')[2]))\n",
    "    cafelatte.append(int(sale.split('\\t')[3]))\n",
    "    capuchino.append(int(sale.split('\\t')[4].strip('\\n')))\n",
    "    \n",
    "sale_print(coffee_name[1], espresso)\n",
    "sale_print(coffee_name[2], americano)\n",
    "sale_print(coffee_name[3], cafelatte)\n",
    "sale_print(coffee_name[4], capuchino)"
   ]
  },
  {
   "cell_type": "code",
   "execution_count": 29,
   "id": "broke-daily",
   "metadata": {},
   "outputs": [
    {
     "data": {
      "text/plain": [
       "['에스프레소', '아메리카노', '카페라테', '카푸치노']"
      ]
     },
     "execution_count": 29,
     "metadata": {},
     "output_type": "execute_result"
    }
   ],
   "source": [
    "coffee_name = coffee_data[0].strip('\\n').split('\\t')\n",
    "coffee_4 = coffee_name[1:5]\n",
    "coffee_4"
   ]
  },
  {
   "cell_type": "code",
   "execution_count": 41,
   "id": "applied-conservative",
   "metadata": {},
   "outputs": [
    {
     "name": "stdout",
     "output_type": "stream",
     "text": [
      "커피메뉴: 에스프레소 [10, 12, 11, 15]\n",
      "\t 전체 판매량: 48, 평균판매량: 12.0 \n",
      "\n",
      "커피메뉴: 아메리카노 [50, 45, 53, 49]\n",
      "\t 전체 판매량: 197, 평균판매량: 49.2 \n",
      "\n",
      "커피메뉴: 카페라테 [45, 41, 32, 38]\n",
      "\t 전체 판매량: 156, 평균판매량: 39.0 \n",
      "\n",
      "커피메뉴: 카푸치노 [20, 18, 25, 22]\n",
      "\t 전체 판매량: 85, 평균판매량: 21.2 \n",
      "\n"
     ]
    }
   ],
   "source": [
    "with open('data/coffeeShopSales.txt', 'rt') as f:\n",
    "    lines = f.readlines()\n",
    "\n",
    "coffee_menu = lines[0].split()[1:]\n",
    "lines = lines[1:]\n",
    "\n",
    "coffee_sales_dict = {}\n",
    "for menu in coffee_menu:\n",
    "    coffee_sales_dict[menu] = []\n",
    "    \n",
    "for line in lines:\n",
    "    temp = line.split()[1:]\n",
    "    \n",
    "    for i in range(len(coffee_menu)):\n",
    "        coffee_sales_dict[coffee_menu[i]].append(int(temp[i]))\n",
    "        \n",
    "for key, value in coffee_sales_dict.items():\n",
    "    print('커피메뉴: {} {}'.format(key, value))\n",
    "    print('\\t 전체 판매량: {}, 평균판매량: {:.1f} \\n'.format(sum(value), sum(value)/len(value)))"
   ]
  },
  {
   "cell_type": "code",
   "execution_count": null,
   "id": "million-printing",
   "metadata": {},
   "outputs": [],
   "source": []
  }
 ],
 "metadata": {
  "kernelspec": {
   "display_name": "Python 3",
   "language": "python",
   "name": "python3"
  },
  "language_info": {
   "codemirror_mode": {
    "name": "ipython",
    "version": 3
   },
   "file_extension": ".py",
   "mimetype": "text/x-python",
   "name": "python",
   "nbconvert_exporter": "python",
   "pygments_lexer": "ipython3",
   "version": "3.9.1"
  }
 },
 "nbformat": 4,
 "nbformat_minor": 5
}
