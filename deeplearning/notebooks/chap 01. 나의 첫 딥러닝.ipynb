{
 "cells": [
  {
   "cell_type": "code",
   "execution_count": 1,
   "id": "english-denial",
   "metadata": {},
   "outputs": [],
   "source": [
    "import numpy as np\n",
    "import pandas as pd\n",
    "\n",
    "import tensorflow as tf\n",
    "import keras"
   ]
  },
  {
   "cell_type": "code",
   "execution_count": 2,
   "id": "herbal-latex",
   "metadata": {},
   "outputs": [
    {
     "name": "stdout",
     "output_type": "stream",
     "text": [
      "2.5.0\n",
      "2.5.0\n"
     ]
    }
   ],
   "source": [
    "print(tf.__version__)\n",
    "print(keras.__version__)"
   ]
  },
  {
   "cell_type": "code",
   "execution_count": 3,
   "id": "returning-color",
   "metadata": {},
   "outputs": [],
   "source": [
    "from tensorflow.keras.models import Sequential\n",
    "from tensorflow.keras.layers import Dense"
   ]
  },
  {
   "cell_type": "code",
   "execution_count": 4,
   "id": "interested-progress",
   "metadata": {},
   "outputs": [],
   "source": [
    "np.random.seed(3)\n",
    "tf.random.set_seed(3)"
   ]
  },
  {
   "cell_type": "code",
   "execution_count": 13,
   "id": "binding-blade",
   "metadata": {},
   "outputs": [
    {
     "name": "stdout",
     "output_type": "stream",
     "text": [
      "<class 'numpy.ndarray'> (470, 18) float64\n"
     ]
    }
   ],
   "source": [
    "dataset = np.loadtxt('../data/ThoraricSurgery.csv', delimiter=',')\n",
    "print(type(dataset), dataset.shape, dataset.dtype)"
   ]
  },
  {
   "cell_type": "code",
   "execution_count": 14,
   "id": "assisted-architect",
   "metadata": {},
   "outputs": [
    {
     "name": "stdout",
     "output_type": "stream",
     "text": [
      "<class 'numpy.ndarray'> (470, 17) float64\n",
      "<class 'numpy.ndarray'> (470,) float64\n"
     ]
    }
   ],
   "source": [
    "X = dataset[:,0:17]\n",
    "Y = dataset[:,17]\n",
    "\n",
    "print(type(X), X.shape, X.dtype)\n",
    "print(type(Y), Y.shape, Y.dtype)"
   ]
  },
  {
   "cell_type": "code",
   "execution_count": 16,
   "id": "dying-gallery",
   "metadata": {},
   "outputs": [],
   "source": [
    "df = pd.read_csv('../data/ThoraricSurgery.csv', delimiter=',')"
   ]
  },
  {
   "cell_type": "code",
   "execution_count": 17,
   "id": "orange-appliance",
   "metadata": {},
   "outputs": [
    {
     "data": {
      "text/plain": [
       "(469, 18)"
      ]
     },
     "execution_count": 17,
     "metadata": {},
     "output_type": "execute_result"
    }
   ],
   "source": [
    "df.shape"
   ]
  },
  {
   "cell_type": "code",
   "execution_count": 23,
   "id": "ethical-eleven",
   "metadata": {
    "collapsed": true
   },
   "outputs": [
    {
     "name": "stdout",
     "output_type": "stream",
     "text": [
      "<class 'pandas.core.frame.DataFrame'> (469, 17) 293      int64\n",
      "1        int64\n",
      "3.8    float64\n",
      "2.8    float64\n",
      "0        int64\n",
      "0.1      int64\n",
      "0.2      int64\n",
      "0.3      int64\n",
      "0.4      int64\n",
      "0.5      int64\n",
      "12       int64\n",
      "0.6      int64\n",
      "0.7      int64\n",
      "0.8      int64\n",
      "1.1      int64\n",
      "0.9      int64\n",
      "62       int64\n",
      "dtype: object\n",
      "<class 'pandas.core.series.Series'> (469,) int64\n"
     ]
    }
   ],
   "source": [
    "X1 = df.iloc[:,0:17]\n",
    "Y1 = df.iloc[:,17]\n",
    "\n",
    "print(type(X1), X1.shape, X1.dtypes)\n",
    "print(type(Y1), Y1.shape, Y1.dtypes)"
   ]
  },
  {
   "cell_type": "code",
   "execution_count": 24,
   "id": "strategic-serial",
   "metadata": {},
   "outputs": [],
   "source": [
    "model = Sequential()\n",
    "model.add(Dense(30, input_dim=17, activation='relu'))\n",
    "model.add(Dense(1, activation='sigmoid'))"
   ]
  },
  {
   "cell_type": "code",
   "execution_count": 28,
   "id": "patient-baking",
   "metadata": {},
   "outputs": [
    {
     "name": "stdout",
     "output_type": "stream",
     "text": [
      "Epoch 1/100\n",
      "47/47 [==============================] - 1s 3ms/step - loss: 0.3351 - accuracy: 0.8681\n",
      "Epoch 2/100\n",
      "47/47 [==============================] - 0s 3ms/step - loss: 0.3461 - accuracy: 0.8745\n",
      "Epoch 3/100\n",
      "47/47 [==============================] - 0s 3ms/step - loss: 0.3330 - accuracy: 0.8660\n",
      "Epoch 4/100\n",
      "47/47 [==============================] - 0s 3ms/step - loss: 0.3501 - accuracy: 0.8681\n",
      "Epoch 5/100\n",
      "47/47 [==============================] - 0s 3ms/step - loss: 0.3369 - accuracy: 0.8787\n",
      "Epoch 6/100\n",
      "47/47 [==============================] - 0s 3ms/step - loss: 0.3172 - accuracy: 0.8745\n",
      "Epoch 7/100\n",
      "47/47 [==============================] - 0s 4ms/step - loss: 0.3324 - accuracy: 0.8766\n",
      "Epoch 8/100\n",
      "47/47 [==============================] - 0s 4ms/step - loss: 0.3235 - accuracy: 0.8787\n",
      "Epoch 9/100\n",
      "47/47 [==============================] - 0s 3ms/step - loss: 0.3238 - accuracy: 0.8638\n",
      "Epoch 10/100\n",
      "47/47 [==============================] - 0s 3ms/step - loss: 0.3372 - accuracy: 0.8745\n",
      "Epoch 11/100\n",
      "47/47 [==============================] - 0s 3ms/step - loss: 0.3468 - accuracy: 0.8745\n",
      "Epoch 12/100\n",
      "47/47 [==============================] - 0s 3ms/step - loss: 0.3400 - accuracy: 0.8766\n",
      "Epoch 13/100\n",
      "47/47 [==============================] - 0s 4ms/step - loss: 0.3510 - accuracy: 0.8745\n",
      "Epoch 14/100\n",
      "47/47 [==============================] - 0s 4ms/step - loss: 0.3377 - accuracy: 0.8638\n",
      "Epoch 15/100\n",
      "47/47 [==============================] - 0s 3ms/step - loss: 0.3843 - accuracy: 0.8574\n",
      "Epoch 16/100\n",
      "47/47 [==============================] - 0s 3ms/step - loss: 0.3464 - accuracy: 0.8723\n",
      "Epoch 17/100\n",
      "47/47 [==============================] - 0s 3ms/step - loss: 0.3585 - accuracy: 0.8638\n",
      "Epoch 18/100\n",
      "47/47 [==============================] - 0s 3ms/step - loss: 0.3253 - accuracy: 0.8809\n",
      "Epoch 19/100\n",
      "47/47 [==============================] - 0s 4ms/step - loss: 0.3460 - accuracy: 0.8809\n",
      "Epoch 20/100\n",
      "47/47 [==============================] - 0s 4ms/step - loss: 0.3335 - accuracy: 0.8745\n",
      "Epoch 21/100\n",
      "47/47 [==============================] - 0s 3ms/step - loss: 0.3431 - accuracy: 0.8766\n",
      "Epoch 22/100\n",
      "47/47 [==============================] - 0s 3ms/step - loss: 0.3300 - accuracy: 0.8723\n",
      "Epoch 23/100\n",
      "47/47 [==============================] - 0s 3ms/step - loss: 0.3414 - accuracy: 0.8681\n",
      "Epoch 24/100\n",
      "47/47 [==============================] - 0s 3ms/step - loss: 0.3304 - accuracy: 0.8745\n",
      "Epoch 25/100\n",
      "47/47 [==============================] - 0s 5ms/step - loss: 0.3378 - accuracy: 0.8723\n",
      "Epoch 26/100\n",
      "47/47 [==============================] - 0s 3ms/step - loss: 0.3404 - accuracy: 0.8723\n",
      "Epoch 27/100\n",
      "47/47 [==============================] - 0s 3ms/step - loss: 0.3362 - accuracy: 0.8766\n",
      "Epoch 28/100\n",
      "47/47 [==============================] - 0s 3ms/step - loss: 0.3285 - accuracy: 0.8787\n",
      "Epoch 29/100\n",
      "47/47 [==============================] - 0s 3ms/step - loss: 0.3376 - accuracy: 0.8766\n",
      "Epoch 30/100\n",
      "47/47 [==============================] - 0s 3ms/step - loss: 0.3239 - accuracy: 0.8766\n",
      "Epoch 31/100\n",
      "47/47 [==============================] - 0s 4ms/step - loss: 0.3435 - accuracy: 0.8787\n",
      "Epoch 32/100\n",
      "47/47 [==============================] - 0s 3ms/step - loss: 0.3305 - accuracy: 0.8702\n",
      "Epoch 33/100\n",
      "47/47 [==============================] - 0s 3ms/step - loss: 0.3381 - accuracy: 0.8766\n",
      "Epoch 34/100\n",
      "47/47 [==============================] - 0s 3ms/step - loss: 0.3269 - accuracy: 0.8830\n",
      "Epoch 35/100\n",
      "47/47 [==============================] - 0s 3ms/step - loss: 0.3348 - accuracy: 0.8723\n",
      "Epoch 36/100\n",
      "47/47 [==============================] - 0s 7ms/step - loss: 0.3260 - accuracy: 0.8766\n",
      "Epoch 37/100\n",
      "47/47 [==============================] - 0s 4ms/step - loss: 0.3385 - accuracy: 0.8766\n",
      "Epoch 38/100\n",
      "47/47 [==============================] - 0s 3ms/step - loss: 0.3469 - accuracy: 0.8702\n",
      "Epoch 39/100\n",
      "47/47 [==============================] - 0s 4ms/step - loss: 0.3688 - accuracy: 0.8553\n",
      "Epoch 40/100\n",
      "47/47 [==============================] - 0s 3ms/step - loss: 0.3238 - accuracy: 0.8851\n",
      "Epoch 41/100\n",
      "47/47 [==============================] - 0s 3ms/step - loss: 0.3268 - accuracy: 0.8766\n",
      "Epoch 42/100\n",
      "47/47 [==============================] - 0s 6ms/step - loss: 0.3424 - accuracy: 0.8702: 0s - loss: 0.3300 - accuracy: \n",
      "Epoch 43/100\n",
      "47/47 [==============================] - 0s 4ms/step - loss: 0.3256 - accuracy: 0.8723\n",
      "Epoch 44/100\n",
      "47/47 [==============================] - 0s 3ms/step - loss: 0.3237 - accuracy: 0.8723\n",
      "Epoch 45/100\n",
      "47/47 [==============================] - 0s 3ms/step - loss: 0.3219 - accuracy: 0.8702\n",
      "Epoch 46/100\n",
      "47/47 [==============================] - 0s 3ms/step - loss: 0.3266 - accuracy: 0.8851\n",
      "Epoch 47/100\n",
      "47/47 [==============================] - 0s 6ms/step - loss: 0.3344 - accuracy: 0.8660\n",
      "Epoch 48/100\n",
      "47/47 [==============================] - 0s 3ms/step - loss: 0.3218 - accuracy: 0.8681\n",
      "Epoch 49/100\n",
      "47/47 [==============================] - 0s 3ms/step - loss: 0.3289 - accuracy: 0.8809\n",
      "Epoch 50/100\n",
      "47/47 [==============================] - 0s 3ms/step - loss: 0.3306 - accuracy: 0.8830\n",
      "Epoch 51/100\n",
      "47/47 [==============================] - 0s 5ms/step - loss: 0.3255 - accuracy: 0.8766\n",
      "Epoch 52/100\n",
      "47/47 [==============================] - ETA: 0s - loss: 0.3337 - accuracy: 0.87 - 0s 5ms/step - loss: 0.3216 - accuracy: 0.8766\n",
      "Epoch 53/100\n",
      "47/47 [==============================] - 0s 3ms/step - loss: 0.3428 - accuracy: 0.8723\n",
      "Epoch 54/100\n",
      "47/47 [==============================] - 0s 3ms/step - loss: 0.3196 - accuracy: 0.8723\n",
      "Epoch 55/100\n",
      "47/47 [==============================] - 0s 3ms/step - loss: 0.3324 - accuracy: 0.8723\n",
      "Epoch 56/100\n",
      "47/47 [==============================] - 0s 3ms/step - loss: 0.3188 - accuracy: 0.8787\n",
      "Epoch 57/100\n",
      "47/47 [==============================] - 0s 3ms/step - loss: 0.3289 - accuracy: 0.8617\n",
      "Epoch 58/100\n",
      "47/47 [==============================] - 0s 4ms/step - loss: 0.3255 - accuracy: 0.8745\n",
      "Epoch 59/100\n",
      "47/47 [==============================] - 0s 4ms/step - loss: 0.3249 - accuracy: 0.8723\n",
      "Epoch 60/100\n",
      "47/47 [==============================] - 0s 3ms/step - loss: 0.3227 - accuracy: 0.8745\n",
      "Epoch 61/100\n",
      "47/47 [==============================] - 0s 3ms/step - loss: 0.3330 - accuracy: 0.8723\n",
      "Epoch 62/100\n",
      "47/47 [==============================] - 0s 3ms/step - loss: 0.3400 - accuracy: 0.8723\n",
      "Epoch 63/100\n",
      "47/47 [==============================] - 0s 6ms/step - loss: 0.3209 - accuracy: 0.8766\n",
      "Epoch 64/100\n",
      "47/47 [==============================] - 0s 4ms/step - loss: 0.3319 - accuracy: 0.8809\n",
      "Epoch 65/100\n",
      "47/47 [==============================] - 0s 3ms/step - loss: 0.3216 - accuracy: 0.8809\n",
      "Epoch 66/100\n",
      "47/47 [==============================] - 0s 3ms/step - loss: 0.3463 - accuracy: 0.8702\n",
      "Epoch 67/100\n",
      "47/47 [==============================] - 0s 3ms/step - loss: 0.3255 - accuracy: 0.8787\n",
      "Epoch 68/100\n",
      "47/47 [==============================] - 0s 3ms/step - loss: 0.3358 - accuracy: 0.8766: 0s - loss: 0.3440 - accuracy: 0.87\n",
      "Epoch 69/100\n",
      "47/47 [==============================] - 0s 4ms/step - loss: 0.3223 - accuracy: 0.8723\n",
      "Epoch 70/100\n",
      "47/47 [==============================] - 0s 3ms/step - loss: 0.3253 - accuracy: 0.8809\n",
      "Epoch 71/100\n",
      "47/47 [==============================] - 0s 3ms/step - loss: 0.3406 - accuracy: 0.8702\n",
      "Epoch 72/100\n",
      "47/47 [==============================] - 0s 3ms/step - loss: 0.3254 - accuracy: 0.8638\n",
      "Epoch 73/100\n",
      "47/47 [==============================] - 0s 3ms/step - loss: 0.3268 - accuracy: 0.8851\n",
      "Epoch 74/100\n",
      "47/47 [==============================] - 0s 3ms/step - loss: 0.3236 - accuracy: 0.8766\n",
      "Epoch 75/100\n",
      "47/47 [==============================] - 0s 5ms/step - loss: 0.3173 - accuracy: 0.8745\n",
      "Epoch 76/100\n",
      "47/47 [==============================] - 0s 4ms/step - loss: 0.3298 - accuracy: 0.8851\n",
      "Epoch 77/100\n",
      "47/47 [==============================] - 0s 3ms/step - loss: 0.3360 - accuracy: 0.8638\n",
      "Epoch 78/100\n",
      "47/47 [==============================] - ETA: 0s - loss: 0.3361 - accuracy: 0.88 - 0s 3ms/step - loss: 0.3382 - accuracy: 0.8766\n",
      "Epoch 79/100\n",
      "47/47 [==============================] - 0s 4ms/step - loss: 0.3428 - accuracy: 0.8660\n",
      "Epoch 80/100\n",
      "47/47 [==============================] - 0s 4ms/step - loss: 0.3246 - accuracy: 0.8787\n",
      "Epoch 81/100\n"
     ]
    },
    {
     "name": "stdout",
     "output_type": "stream",
     "text": [
      "47/47 [==============================] - 0s 4ms/step - loss: 0.3271 - accuracy: 0.8787\n",
      "Epoch 82/100\n",
      "47/47 [==============================] - 0s 3ms/step - loss: 0.3309 - accuracy: 0.8745\n",
      "Epoch 83/100\n",
      "47/47 [==============================] - 0s 3ms/step - loss: 0.3232 - accuracy: 0.8745\n",
      "Epoch 84/100\n",
      "47/47 [==============================] - 0s 3ms/step - loss: 0.3520 - accuracy: 0.8766\n",
      "Epoch 85/100\n",
      "47/47 [==============================] - 0s 2ms/step - loss: 0.3292 - accuracy: 0.8723\n",
      "Epoch 86/100\n",
      "47/47 [==============================] - 0s 3ms/step - loss: 0.3244 - accuracy: 0.8766\n",
      "Epoch 87/100\n",
      "47/47 [==============================] - 0s 4ms/step - loss: 0.3325 - accuracy: 0.8787\n",
      "Epoch 88/100\n",
      "47/47 [==============================] - 0s 3ms/step - loss: 0.3678 - accuracy: 0.8660\n",
      "Epoch 89/100\n",
      "47/47 [==============================] - 0s 3ms/step - loss: 0.3430 - accuracy: 0.8766\n",
      "Epoch 90/100\n",
      "47/47 [==============================] - 0s 3ms/step - loss: 0.3180 - accuracy: 0.8830\n",
      "Epoch 91/100\n",
      "47/47 [==============================] - 0s 3ms/step - loss: 0.3457 - accuracy: 0.8766\n",
      "Epoch 92/100\n",
      "47/47 [==============================] - 0s 3ms/step - loss: 0.3553 - accuracy: 0.8638\n",
      "Epoch 93/100\n",
      "47/47 [==============================] - 0s 3ms/step - loss: 0.3244 - accuracy: 0.8809\n",
      "Epoch 94/100\n",
      "47/47 [==============================] - 0s 4ms/step - loss: 0.3248 - accuracy: 0.8723\n",
      "Epoch 95/100\n",
      "47/47 [==============================] - 0s 3ms/step - loss: 0.3159 - accuracy: 0.8723\n",
      "Epoch 96/100\n",
      "47/47 [==============================] - 0s 2ms/step - loss: 0.3443 - accuracy: 0.8723\n",
      "Epoch 97/100\n",
      "47/47 [==============================] - 0s 3ms/step - loss: 0.3372 - accuracy: 0.8723\n",
      "Epoch 98/100\n",
      "47/47 [==============================] - 0s 3ms/step - loss: 0.3214 - accuracy: 0.8830\n",
      "Epoch 99/100\n",
      "47/47 [==============================] - 0s 2ms/step - loss: 0.3184 - accuracy: 0.8830\n",
      "Epoch 100/100\n",
      "47/47 [==============================] - 0s 2ms/step - loss: 0.3117 - accuracy: 0.8809\n"
     ]
    },
    {
     "data": {
      "text/plain": [
       "<tensorflow.python.keras.callbacks.History at 0x1be6a91b2e0>"
      ]
     },
     "execution_count": 28,
     "metadata": {},
     "output_type": "execute_result"
    }
   ],
   "source": [
    "model.compile(loss='binary_crossentropy', optimizer='adam', metrics=['accuracy'])\n",
    "model.fit(X, Y, epochs=100, batch_size=10)"
   ]
  },
  {
   "cell_type": "code",
   "execution_count": null,
   "id": "secret-defense",
   "metadata": {},
   "outputs": [],
   "source": []
  }
 ],
 "metadata": {
  "kernelspec": {
   "display_name": "Python 3",
   "language": "python",
   "name": "python3"
  },
  "language_info": {
   "codemirror_mode": {
    "name": "ipython",
    "version": 3
   },
   "file_extension": ".py",
   "mimetype": "text/x-python",
   "name": "python",
   "nbconvert_exporter": "python",
   "pygments_lexer": "ipython3",
   "version": "3.9.1"
  }
 },
 "nbformat": 4,
 "nbformat_minor": 5
}
