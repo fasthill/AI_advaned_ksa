{
 "cells": [
  {
   "cell_type": "code",
   "execution_count": 21,
   "id": "76927796",
   "metadata": {},
   "outputs": [],
   "source": [
    "from tensorflow.keras.datasets import reuters, imdb\n",
    "from tensorflow.keras.preprocessing import sequence\n",
    "from tensorflow.keras.utils import to_categorical\n",
    "from tensorflow.keras.layers import Dense, Dropout, Conv1D, Conv2D, MaxPooling1D,  Embedding, LSTM\n",
    "from tensorflow.keras.models import Sequential\n",
    "\n",
    "import numpy as np\n",
    "import matplotlib.pyplot as plt"
   ]
  },
  {
   "cell_type": "code",
   "execution_count": 2,
   "id": "6c129418",
   "metadata": {},
   "outputs": [],
   "source": [
    "(X_input_train, Y_input_train), (X_input_test, Y_input_test) = reuters.load_data(num_words=1000, test_split=0.2)"
   ]
  },
  {
   "cell_type": "code",
   "execution_count": 3,
   "id": "3dd7f922",
   "metadata": {},
   "outputs": [],
   "source": [
    "category = np.max(Y_input_train) + 1"
   ]
  },
  {
   "cell_type": "code",
   "execution_count": 4,
   "id": "3ff6a677",
   "metadata": {},
   "outputs": [
    {
     "name": "stdout",
     "output_type": "stream",
     "text": [
      "46 카테고리\n",
      "8982 학습용 뉴스 기사\n",
      "2246 테스트용 뉴스 기사\n",
      "[1, 2, 2, 8, 43, 10, 447, 5, 25, 207, 270, 5, 2, 111, 16, 369, 186, 90, 67, 7, 89, 5, 19, 102, 6, 19, 124, 15, 90, 67, 84, 22, 482, 26, 7, 48, 4, 49, 8, 864, 39, 209, 154, 6, 151, 6, 83, 11, 15, 22, 155, 11, 15, 7, 48, 9, 2, 2, 504, 6, 258, 6, 272, 11, 15, 22, 134, 44, 11, 15, 16, 8, 197, 2, 90, 67, 52, 29, 209, 30, 32, 132, 6, 109, 15, 17, 12]\n"
     ]
    }
   ],
   "source": [
    "print(category, '카테고리')\n",
    "print(len(X_input_train), '학습용 뉴스 기사')\n",
    "print(len(X_input_test), '테스트용 뉴스 기사')\n",
    "print(X_input_train[0])"
   ]
  },
  {
   "cell_type": "code",
   "execution_count": 5,
   "id": "ac78824d",
   "metadata": {},
   "outputs": [],
   "source": [
    "X_train = sequence.pad_sequences(X_input_train, maxlen=100)\n",
    "X_test = sequence.pad_sequences(X_input_test, maxlen=100)"
   ]
  },
  {
   "cell_type": "code",
   "execution_count": 6,
   "id": "cb0fd8c2",
   "metadata": {},
   "outputs": [],
   "source": [
    "Y_train = to_categorical(Y_input_train)\n",
    "Y_test = to_categorical(Y_input_test)"
   ]
  },
  {
   "cell_type": "code",
   "execution_count": 7,
   "id": "722d2e85",
   "metadata": {},
   "outputs": [],
   "source": [
    "model = Sequential()\n",
    "model.add(Embedding(1000,100)) # 1000: 불러온 단어의 총 개수, 100: 기사당 단어 수\n",
    "model.add(LSTM(100, activation='tanh')) # 100: 기사당 단어 수, 기타 옵션. 활성화함수는 비선형함수인 tanh를 사용함.\n",
    "model.add(Dense(46, activation='softmax'))"
   ]
  },
  {
   "cell_type": "code",
   "execution_count": 8,
   "id": "41d6b15e",
   "metadata": {},
   "outputs": [],
   "source": [
    "model.compile(loss='categorical_crossentropy', optimizer='adam', metrics=['accuracy'])"
   ]
  },
  {
   "cell_type": "code",
   "execution_count": 9,
   "id": "236a5216",
   "metadata": {},
   "outputs": [
    {
     "name": "stdout",
     "output_type": "stream",
     "text": [
      "Epoch 1/30\n",
      "63/63 [==============================] - 6s 83ms/step - loss: 2.7005 - accuracy: 0.3405 - val_loss: 2.3798 - val_accuracy: 0.3532\n",
      "Epoch 2/30\n",
      "63/63 [==============================] - 5s 77ms/step - loss: 2.2812 - accuracy: 0.3929 - val_loss: 2.0176 - val_accuracy: 0.4857\n",
      "Epoch 3/30\n",
      "63/63 [==============================] - 5s 76ms/step - loss: 1.9406 - accuracy: 0.4990 - val_loss: 1.7827 - val_accuracy: 0.5247\n",
      "Epoch 4/30\n",
      "63/63 [==============================] - 5s 76ms/step - loss: 1.8227 - accuracy: 0.5278 - val_loss: 1.7540 - val_accuracy: 0.5570\n",
      "Epoch 5/30\n",
      "63/63 [==============================] - 5s 77ms/step - loss: 1.7270 - accuracy: 0.5478 - val_loss: 1.7278 - val_accuracy: 0.5417\n",
      "Epoch 6/30\n",
      "63/63 [==============================] - 5s 75ms/step - loss: 1.6905 - accuracy: 0.5591 - val_loss: 1.6841 - val_accuracy: 0.5681\n",
      "Epoch 7/30\n",
      "63/63 [==============================] - 5s 78ms/step - loss: 2.0873 - accuracy: 0.4019 - val_loss: 1.9412 - val_accuracy: 0.3959\n",
      "Epoch 8/30\n",
      "63/63 [==============================] - 5s 77ms/step - loss: 1.8314 - accuracy: 0.4707 - val_loss: 1.7171 - val_accuracy: 0.5536\n",
      "Epoch 9/30\n",
      "63/63 [==============================] - 5s 77ms/step - loss: 1.6732 - accuracy: 0.5551 - val_loss: 1.6369 - val_accuracy: 0.5800\n",
      "Epoch 10/30\n",
      "63/63 [==============================] - 5s 82ms/step - loss: 1.6061 - accuracy: 0.5817 - val_loss: 1.6770 - val_accuracy: 0.5774\n",
      "Epoch 11/30\n",
      "63/63 [==============================] - 5s 77ms/step - loss: 1.6028 - accuracy: 0.5806 - val_loss: 1.6321 - val_accuracy: 0.6089\n",
      "Epoch 12/30\n",
      "63/63 [==============================] - 5s 76ms/step - loss: 1.4962 - accuracy: 0.6249 - val_loss: 1.5368 - val_accuracy: 0.6011\n",
      "Epoch 13/30\n",
      "63/63 [==============================] - 5s 82ms/step - loss: 1.4170 - accuracy: 0.6272 - val_loss: 1.4845 - val_accuracy: 0.6115\n",
      "Epoch 14/30\n",
      "63/63 [==============================] - 5s 77ms/step - loss: 1.3921 - accuracy: 0.6386 - val_loss: 1.4827 - val_accuracy: 0.6241\n",
      "Epoch 15/30\n",
      "63/63 [==============================] - 5s 77ms/step - loss: 1.3530 - accuracy: 0.6470 - val_loss: 1.4527 - val_accuracy: 0.6282\n",
      "Epoch 16/30\n",
      "63/63 [==============================] - 5s 77ms/step - loss: 1.3118 - accuracy: 0.6579 - val_loss: 1.4459 - val_accuracy: 0.6278\n",
      "Epoch 17/30\n",
      "63/63 [==============================] - 5s 77ms/step - loss: 1.2827 - accuracy: 0.6620 - val_loss: 1.4586 - val_accuracy: 0.6282\n",
      "Epoch 18/30\n",
      "63/63 [==============================] - 5s 77ms/step - loss: 1.2452 - accuracy: 0.6720 - val_loss: 1.4085 - val_accuracy: 0.6434\n",
      "Epoch 19/30\n",
      "63/63 [==============================] - 5s 76ms/step - loss: 1.2337 - accuracy: 0.6777 - val_loss: 1.4200 - val_accuracy: 0.6523\n",
      "Epoch 20/30\n",
      "63/63 [==============================] - 5s 77ms/step - loss: 1.1862 - accuracy: 0.6937 - val_loss: 1.3810 - val_accuracy: 0.6594\n",
      "Epoch 21/30\n",
      "63/63 [==============================] - 5s 77ms/step - loss: 1.1543 - accuracy: 0.7019 - val_loss: 1.3977 - val_accuracy: 0.6590\n",
      "Epoch 22/30\n",
      "63/63 [==============================] - 5s 77ms/step - loss: 1.2105 - accuracy: 0.6812 - val_loss: 1.3985 - val_accuracy: 0.6638\n",
      "Epoch 23/30\n",
      "63/63 [==============================] - 5s 77ms/step - loss: 1.1101 - accuracy: 0.7143 - val_loss: 1.3766 - val_accuracy: 0.6583\n",
      "Epoch 24/30\n",
      "63/63 [==============================] - 5s 77ms/step - loss: 1.0784 - accuracy: 0.7226 - val_loss: 1.3719 - val_accuracy: 0.6660\n",
      "Epoch 25/30\n",
      "63/63 [==============================] - 5s 77ms/step - loss: 1.0506 - accuracy: 0.7291 - val_loss: 1.3423 - val_accuracy: 0.6801\n",
      "Epoch 26/30\n",
      "63/63 [==============================] - 5s 76ms/step - loss: 1.0174 - accuracy: 0.7387 - val_loss: 1.3715 - val_accuracy: 0.6664\n",
      "Epoch 27/30\n",
      "63/63 [==============================] - 5s 76ms/step - loss: 1.0060 - accuracy: 0.7425 - val_loss: 1.3431 - val_accuracy: 0.6772\n",
      "Epoch 28/30\n",
      "63/63 [==============================] - 5s 76ms/step - loss: 0.9720 - accuracy: 0.7500 - val_loss: 1.3329 - val_accuracy: 0.6872\n",
      "Epoch 29/30\n",
      "63/63 [==============================] - 5s 76ms/step - loss: 0.9505 - accuracy: 0.7570 - val_loss: 1.3456 - val_accuracy: 0.6872\n",
      "Epoch 30/30\n",
      "63/63 [==============================] - 5s 77ms/step - loss: 0.9134 - accuracy: 0.7644 - val_loss: 1.3496 - val_accuracy: 0.6809\n"
     ]
    }
   ],
   "source": [
    "history = model.fit(X_train, Y_train, batch_size=100, epochs=30, validation_split=0.3)"
   ]
  },
  {
   "cell_type": "code",
   "execution_count": 10,
   "id": "08aead96",
   "metadata": {},
   "outputs": [
    {
     "name": "stdout",
     "output_type": "stream",
     "text": [
      "71/71 [==============================] - 1s 11ms/step - loss: 1.3940 - accuracy: 0.6728\n",
      "\n",
      " Test Accuracy: 0.6728\n"
     ]
    }
   ],
   "source": [
    "print('\\n Test Accuracy: %.4f' %(model.evaluate(X_test, Y_test)[1]))"
   ]
  },
  {
   "cell_type": "code",
   "execution_count": 11,
   "id": "758663c8",
   "metadata": {},
   "outputs": [],
   "source": [
    "v_loss = history.history['val_loss']\n",
    "y_loss = history.history['loss']"
   ]
  },
  {
   "cell_type": "code",
   "execution_count": 12,
   "id": "75dd7f96",
   "metadata": {},
   "outputs": [
    {
     "data": {
      "image/png": "[encoded data removed]",
      "text/plain": [
       "<Figure size 432x288 with 1 Axes>"
      ]
     },
     "metadata": {
      "needs_background": "light"
     },
     "output_type": "display_data"
    }
   ],
   "source": [
    "x_len = np.arange(len(y_loss))\n",
    "plt.plot(x_len, v_loss, marker='.', c='red', label='Testset_loss')\n",
    "plt.plot(x_len, y_loss, marker='.', c='blue', label='Trainset_loss')\n",
    "plt.legend()\n",
    "plt.grid()\n",
    "plt.xlabel('epoch')\n",
    "plt.ylabel('loss')\n",
    "plt.show()"
   ]
  },
  {
   "cell_type": "markdown",
   "id": "8a49821c",
   "metadata": {},
   "source": [
    "### imdb 분석"
   ]
  },
  {
   "cell_type": "code",
   "execution_count": 44,
   "id": "29045cc1",
   "metadata": {},
   "outputs": [],
   "source": [
    "(X_input_train, Y_train), (X_input_test, Y_test) = reuters.load_data(num_words=5000)"
   ]
  },
  {
   "cell_type": "code",
   "execution_count": 45,
   "id": "8f12f7fa",
   "metadata": {},
   "outputs": [],
   "source": [
    "X_train = sequence.pad_sequences(X_input_train, maxlen=100)\n",
    "X_test = sequence.pad_sequences(X_input_test, maxlen=100)"
   ]
  },
  {
   "cell_type": "code",
   "execution_count": 46,
   "id": "540b9cbe",
   "metadata": {},
   "outputs": [
    {
     "name": "stdout",
     "output_type": "stream",
     "text": [
      "Model: \"sequential_4\"\n",
      "_________________________________________________________________\n",
      " Layer (type)                Output Shape              Param #   \n",
      "=================================================================\n",
      " embedding_4 (Embedding)     (None, None, 100)         500000    \n",
      "                                                                 \n",
      " dropout_3 (Dropout)         (None, None, 100)         0         \n",
      "                                                                 \n",
      " conv1d_3 (Conv1D)           (None, None, 64)          32064     \n",
      "                                                                 \n",
      " max_pooling1d_3 (MaxPooling  (None, None, 64)         0         \n",
      " 1D)                                                             \n",
      "                                                                 \n",
      " lstm_4 (LSTM)               (None, 55)                26400     \n",
      "                                                                 \n",
      " dense_4 (Dense)             (None, 1)                 56        \n",
      "                                                                 \n",
      "=================================================================\n",
      "Total params: 558,520\n",
      "Trainable params: 558,520\n",
      "Non-trainable params: 0\n",
      "_________________________________________________________________\n"
     ]
    }
   ],
   "source": [
    "model = Sequential()\n",
    "model.add(Embedding(5000,100)) \n",
    "model.add(Dropout(0.5))\n",
    "model.add(Conv1D(64,5, padding='valid', activation='relu', strides=1))\n",
    "model.add(MaxPooling1D(pool_size=4))\n",
    "model.add(LSTM(55, activation='tanh')) # 활성화함수는 비선형함수인 tanh를 사용함.\n",
    "model.add(Dense(1, activation='sigmoid'))\n",
    "model.summary()"
   ]
  },
  {
   "cell_type": "code",
   "execution_count": 47,
   "id": "34d827dd",
   "metadata": {},
   "outputs": [],
   "source": [
    "model.compile(loss='binary_crossentropy', optimizer='adam', metrics=['accuracy'])"
   ]
  },
  {
   "cell_type": "code",
   "execution_count": 48,
   "id": "b7a2eb6e",
   "metadata": {},
   "outputs": [
    {
     "name": "stdout",
     "output_type": "stream",
     "text": [
      "Epoch 1/5\n",
      "63/63 [==============================] - 4s 47ms/step - loss: -57.2886 - accuracy: 0.0482 - val_loss: -98.0618 - val_accuracy: 0.0479\n",
      "Epoch 2/5\n",
      "63/63 [==============================] - 3s 43ms/step - loss: -115.7879 - accuracy: 0.0482 - val_loss: -130.0075 - val_accuracy: 0.0479\n",
      "Epoch 3/5\n",
      "63/63 [==============================] - 3s 44ms/step - loss: -146.2999 - accuracy: 0.0482 - val_loss: -158.8087 - val_accuracy: 0.0479\n",
      "Epoch 4/5\n",
      "63/63 [==============================] - 3s 41ms/step - loss: -175.1694 - accuracy: 0.0482 - val_loss: -186.8929 - val_accuracy: 0.0479\n",
      "Epoch 5/5\n",
      "63/63 [==============================] - 3s 43ms/step - loss: -203.3564 - accuracy: 0.0482 - val_loss: -214.6634 - val_accuracy: 0.0479\n"
     ]
    }
   ],
   "source": [
    "history = model.fit(X_train, Y_train, batch_size=100, epochs=5, validation_split=0.3)"
   ]
  },
  {
   "cell_type": "code",
   "execution_count": 40,
   "id": "bba11672",
   "metadata": {},
   "outputs": [
    {
     "name": "stdout",
     "output_type": "stream",
     "text": [
      "Epoch 1/5\n",
      "90/90 [==============================] - 5s 43ms/step - loss: -70.1804 - accuracy: 0.0481 - val_loss: -109.6836 - val_accuracy: 0.0467\n",
      "Epoch 2/5\n",
      "90/90 [==============================] - 4s 41ms/step - loss: -130.8311 - accuracy: 0.0481 - val_loss: -152.7218 - val_accuracy: 0.0467\n",
      "Epoch 3/5\n",
      "90/90 [==============================] - 4s 39ms/step - loss: -172.1441 - accuracy: 0.0481 - val_loss: -193.2205 - val_accuracy: 0.0467\n",
      "Epoch 4/5\n",
      "90/90 [==============================] - 4s 40ms/step - loss: -212.0637 - accuracy: 0.0481 - val_loss: -232.8728 - val_accuracy: 0.0467\n",
      "Epoch 5/5\n",
      "90/90 [==============================] - 4s 40ms/step - loss: -251.4079 - accuracy: 0.0481 - val_loss: -272.2291 - val_accuracy: 0.0467\n"
     ]
    }
   ],
   "source": [
    "# history = model.fit(X_train, Y_train, batch_size=100, epochs=5, validation_data=(X_test, Y_test))"
   ]
  },
  {
   "cell_type": "code",
   "execution_count": 49,
   "id": "3b47104f",
   "metadata": {},
   "outputs": [
    {
     "name": "stdout",
     "output_type": "stream",
     "text": [
      "71/71 [==============================] - 0s 3ms/step - loss: -217.5303 - accuracy: 0.0467\n",
      "\n",
      " Test Accuracy: 0.0467\n"
     ]
    }
   ],
   "source": [
    "print('\\n Test Accuracy: %.4f' %(model.evaluate(X_test, Y_test)[1]))"
   ]
  },
  {
   "cell_type": "code",
   "execution_count": 50,
   "id": "80daf09d",
   "metadata": {},
   "outputs": [],
   "source": [
    "v_loss = history.history['val_loss']\n",
    "y_loss = history.history['loss']"
   ]
  },
  {
   "cell_type": "code",
   "execution_count": 51,
   "id": "9b4d8e90",
   "metadata": {},
   "outputs": [
    {
     "data": {
      "image/png": "[encoded data removed]",
      "text/plain": [
       "<Figure size 432x288 with 1 Axes>"
      ]
     },
     "metadata": {
      "needs_background": "light"
     },
     "output_type": "display_data"
    }
   ],
   "source": [
    "x_len = np.arange(len(y_loss))\n",
    "plt.plot(x_len, v_loss, marker='.', c='red', label='Testset_loss')\n",
    "plt.plot(x_len, y_loss, marker='.', c='blue', label='Trainset_loss')\n",
    "plt.legend()\n",
    "plt.grid()\n",
    "plt.xlabel('epoch')\n",
    "plt.ylabel('loss')\n",
    "plt.show()"
   ]
  },
  {
   "cell_type": "code",
   "execution_count": null,
   "id": "2eab56f8",
   "metadata": {},
   "outputs": [],
   "source": []
  }
 ],
 "metadata": {
  "kernelspec": {
   "display_name": "Python 3",
   "language": "python",
   "name": "python3"
  },
  "language_info": {
   "codemirror_mode": {
    "name": "ipython",
    "version": 3
   },
   "file_extension": ".py",
   "mimetype": "text/x-python",
   "name": "python",
   "nbconvert_exporter": "python",
   "pygments_lexer": "ipython3",
   "version": "3.9.1"
  }
 },
 "nbformat": 4,
 "nbformat_minor": 5
}
