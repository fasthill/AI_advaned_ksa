{
  "cells": [
    {
      "cell_type": "markdown",
      "metadata": {
        "id": "view-in-github",
        "colab_type": "text"
      },
      "source": [
        "<a href=\"https://colab.research.google.com/github/fasthill/AI_advaned_ksa/blob/main/deeplearning/notebooks/chap%2017%20%EC%9E%90%EC%97%B0%EC%96%B4%EC%B2%98%EB%A6%AC-%EC%97%B0%EC%8A%B5%EC%8B%A4%EC%8A%B5.ipynb\" target=\"_parent\"><img src=\"https://colab.research.google.com/assets/colab-badge.svg\" alt=\"Open In Colab\"/></a>"
      ]
    },
    {
      "cell_type": "code",
      "execution_count": 1,
      "id": "ab845209",
      "metadata": {
        "id": "ab845209"
      },
      "outputs": [],
      "source": [
        "from tensorflow.keras.preprocessing.text import text_to_word_sequence, Tokenizer\n",
        "from tensorflow.keras.preprocessing.sequence import pad_sequences\n",
        "from tensorflow.keras.models import Sequential, load_model\n",
        "from tensorflow.keras.layers import Dense, Flatten, Embedding\n",
        "from tensorflow.keras.utils import to_categorical\n",
        "\n",
        "import numpy as np\n",
        "import tensorflow as tf"
      ]
    },
    {
      "cell_type": "code",
      "source": [
        "text = '해보지 않으면 해낼 수 없다'"
      ],
      "metadata": {
        "id": "zT0fvVNQLVuH"
      },
      "id": "zT0fvVNQLVuH",
      "execution_count": 2,
      "outputs": []
    },
    {
      "cell_type": "code",
      "execution_count": 3,
      "id": "520580d4",
      "metadata": {
        "id": "520580d4",
        "outputId": "5859b4bb-b248-4800-f847-8841ccd96329",
        "colab": {
          "base_uri": "https://localhost:8080/"
        }
      },
      "outputs": [
        {
          "output_type": "stream",
          "name": "stdout",
          "text": [
            "\n",
            "원문:\n",
            " 해보지 않으면 해낼 수 없다\n",
            "\n",
            "토큰화:\n",
            " ['해보지', '않으면', '해낼', '수', '없다']\n"
          ]
        }
      ],
      "source": [
        "result = text_to_word_sequence(text)\n",
        "print('\\n원문:\\n',text)\n",
        "print('\\n토큰화:\\n',result)"
      ]
    },
    {
      "cell_type": "code",
      "execution_count": 4,
      "id": "49f0f2ef",
      "metadata": {
        "id": "49f0f2ef"
      },
      "outputs": [],
      "source": [
        "docs = ['먼저 텍스트의 각 단어를 나누어 토근화 합니다.',\n",
        "       '텍스트의 단어로 토큰화 해야 딥러닝에서 인식됩니다.',\n",
        "       '토큰화 한 결과는 딥러닝에서 사용할 수 있습니다.',\n",
        "       ]"
      ]
    },
    {
      "cell_type": "code",
      "execution_count": 5,
      "id": "d7f65381",
      "metadata": {
        "id": "d7f65381"
      },
      "outputs": [],
      "source": [
        "token = Tokenizer()  # 토큰화 함수 지정\n",
        "token.fit_on_texts(docs) # 토큰화 함수에 문장 적용하기"
      ]
    },
    {
      "cell_type": "code",
      "execution_count": 6,
      "id": "ecc1ae7b",
      "metadata": {
        "id": "ecc1ae7b",
        "outputId": "e357d3e5-3cfb-478e-dc1e-ac83f0a2a463",
        "colab": {
          "base_uri": "https://localhost:8080/"
        }
      },
      "outputs": [
        {
          "output_type": "stream",
          "name": "stdout",
          "text": [
            "\n",
            "단어 카운트: \n",
            " OrderedDict([('먼저', 1), ('텍스트의', 2), ('각', 1), ('단어를', 1), ('나누어', 1), ('토근화', 1), ('합니다', 1), ('단어로', 1), ('토큰화', 2), ('해야', 1), ('딥러닝에서', 2), ('인식됩니다', 1), ('한', 1), ('결과는', 1), ('사용할', 1), ('수', 1), ('있습니다', 1)])\n"
          ]
        }
      ],
      "source": [
        "print('\\n단어 카운트: \\n', token.word_counts)  # 전체 문장에서 사욛된 단어와 사용빈도"
      ]
    },
    {
      "cell_type": "code",
      "execution_count": 7,
      "id": "b9453877",
      "metadata": {
        "id": "b9453877",
        "outputId": "63c31da1-8757-4a12-e736-80947dc8d653",
        "colab": {
          "base_uri": "https://localhost:8080/"
        }
      },
      "outputs": [
        {
          "output_type": "stream",
          "name": "stdout",
          "text": [
            "\n",
            "각 단어에 매겨진 인덱스 값:\n",
            " {'텍스트의': 1, '토큰화': 2, '딥러닝에서': 3, '먼저': 4, '각': 5, '단어를': 6, '나누어': 7, '토근화': 8, '합니다': 9, '단어로': 10, '해야': 11, '인식됩니다': 12, '한': 13, '결과는': 14, '사용할': 15, '수': 16, '있습니다': 17}\n"
          ]
        }
      ],
      "source": [
        "print('\\n각 단어에 매겨진 인덱스 값:\\n', token.word_index) # 가장 먼저 가장 많이 사용된 순서로 토근에 indexing. 각 단어에 0을 제외한 고유번호(index) 부여"
      ]
    },
    {
      "cell_type": "code",
      "source": [
        "print('\\n각 단어가 몇 개의 문장에 포함되어 있는가:\\n', token.word_docs) # 몇개의 문장에서 사용되었나?"
      ],
      "metadata": {
        "id": "6Te2q10wc4dP",
        "outputId": "424ae5c6-8ce5-4ccf-99c4-aec8fdb14190",
        "colab": {
          "base_uri": "https://localhost:8080/"
        }
      },
      "id": "6Te2q10wc4dP",
      "execution_count": 8,
      "outputs": [
        {
          "output_type": "stream",
          "name": "stdout",
          "text": [
            "\n",
            "각 단어가 몇 개의 문장에 포함되어 있는가:\n",
            " defaultdict(<class 'int'>, {'텍스트의': 2, '토근화': 1, '각': 1, '합니다': 1, '나누어': 1, '단어를': 1, '먼저': 1, '해야': 1, '인식됩니다': 1, '토큰화': 2, '단어로': 1, '딥러닝에서': 2, '있습니다': 1, '수': 1, '사용할': 1, '한': 1, '결과는': 1})\n"
          ]
        }
      ]
    },
    {
      "cell_type": "code",
      "source": [
        "print('\\n문장 카운트:', token.document_count) # 몇 개의 문장이 있나?"
      ],
      "metadata": {
        "id": "D0A-thLadKOe",
        "outputId": "9a9baeb1-e005-4f89-abdd-e16c0dfb53ba",
        "colab": {
          "base_uri": "https://localhost:8080/"
        }
      },
      "id": "D0A-thLadKOe",
      "execution_count": 9,
      "outputs": [
        {
          "output_type": "stream",
          "name": "stdout",
          "text": [
            "\n",
            "문장 카운트: 3\n"
          ]
        }
      ]
    },
    {
      "cell_type": "code",
      "source": [
        "doc_seq = token.texts_to_sequences(docs)"
      ],
      "metadata": {
        "id": "HraQqqfndpp_"
      },
      "id": "HraQqqfndpp_",
      "execution_count": 10,
      "outputs": []
    },
    {
      "cell_type": "code",
      "source": [
        "doc_seq"
      ],
      "metadata": {
        "id": "ZZGXDlsbdptF",
        "outputId": "0b333251-ef0f-4d3d-e381-fbddf70917b9",
        "colab": {
          "base_uri": "https://localhost:8080/"
        }
      },
      "id": "ZZGXDlsbdptF",
      "execution_count": 11,
      "outputs": [
        {
          "output_type": "execute_result",
          "data": {
            "text/plain": [
              "[[4, 1, 5, 6, 7, 8, 9], [1, 10, 2, 11, 3, 12], [2, 13, 14, 3, 15, 16, 17]]"
            ]
          },
          "metadata": {},
          "execution_count": 11
        }
      ]
    },
    {
      "cell_type": "code",
      "source": [
        "to_categorical(doc_seq[0], num_classes=10)"
      ],
      "metadata": {
        "id": "-ywGhf8ddpwe",
        "outputId": "fd06d06b-fe05-4b5d-d689-16f583dc47a5",
        "colab": {
          "base_uri": "https://localhost:8080/"
        }
      },
      "id": "-ywGhf8ddpwe",
      "execution_count": 12,
      "outputs": [
        {
          "output_type": "execute_result",
          "data": {
            "text/plain": [
              "array([[0., 0., 0., 0., 1., 0., 0., 0., 0., 0.],\n",
              "       [0., 1., 0., 0., 0., 0., 0., 0., 0., 0.],\n",
              "       [0., 0., 0., 0., 0., 1., 0., 0., 0., 0.],\n",
              "       [0., 0., 0., 0., 0., 0., 1., 0., 0., 0.],\n",
              "       [0., 0., 0., 0., 0., 0., 0., 1., 0., 0.],\n",
              "       [0., 0., 0., 0., 0., 0., 0., 0., 1., 0.],\n",
              "       [0., 0., 0., 0., 0., 0., 0., 0., 0., 1.]], dtype=float32)"
            ]
          },
          "metadata": {},
          "execution_count": 12
        }
      ]
    },
    {
      "cell_type": "code",
      "execution_count": 13,
      "id": "e2205b6e",
      "metadata": {
        "id": "e2205b6e"
      },
      "outputs": [],
      "source": [
        "text = '오랫동안 꿈꾸는 이는 그 꿈을 닮아간다'"
      ]
    },
    {
      "cell_type": "code",
      "execution_count": 14,
      "id": "9818322b",
      "metadata": {
        "id": "9818322b",
        "outputId": "1ebbebef-df9b-4aca-c272-10cf0dfb57f2",
        "colab": {
          "base_uri": "https://localhost:8080/"
        }
      },
      "outputs": [
        {
          "output_type": "stream",
          "name": "stdout",
          "text": [
            "{'오랫동안': 1, '꿈꾸는': 2, '이는': 3, '그': 4, '꿈을': 5, '닮아간다': 6}\n"
          ]
        }
      ],
      "source": [
        "token = Tokenizer()\n",
        "token.fit_on_texts([text])\n",
        "print(token.word_index)"
      ]
    },
    {
      "cell_type": "code",
      "execution_count": 15,
      "id": "d1727058",
      "metadata": {
        "id": "d1727058",
        "outputId": "5d2bc3fe-1cac-4f36-f2d3-5409be11b49a",
        "colab": {
          "base_uri": "https://localhost:8080/"
        }
      },
      "outputs": [
        {
          "output_type": "stream",
          "name": "stdout",
          "text": [
            "[[1, 2, 3, 4, 5, 6]]\n"
          ]
        }
      ],
      "source": [
        "x = token.texts_to_sequences([text])\n",
        "print(x)"
      ]
    },
    {
      "cell_type": "code",
      "execution_count": 16,
      "id": "3e6207fc",
      "metadata": {
        "id": "3e6207fc",
        "outputId": "faf82924-975f-44c5-8760-7033350e467d",
        "colab": {
          "base_uri": "https://localhost:8080/"
        }
      },
      "outputs": [
        {
          "output_type": "stream",
          "name": "stdout",
          "text": [
            "[[[0. 1. 0. 0. 0. 0. 0.]\n",
            "  [0. 0. 1. 0. 0. 0. 0.]\n",
            "  [0. 0. 0. 1. 0. 0. 0.]\n",
            "  [0. 0. 0. 0. 1. 0. 0.]\n",
            "  [0. 0. 0. 0. 0. 1. 0.]\n",
            "  [0. 0. 0. 0. 0. 0. 1.]]]\n"
          ]
        }
      ],
      "source": [
        "word_size = len(token.word_index) + 1\n",
        "x = to_categorical(x, num_classes=word_size)\n",
        "print(x)"
      ]
    },
    {
      "cell_type": "code",
      "execution_count": 17,
      "id": "310e08ae",
      "metadata": {
        "id": "310e08ae"
      },
      "outputs": [],
      "source": [
        "docs = ['너무 재밌네요', '최고예요', '참 잘 만든 영화예요', '추천하고 싶은 영화입니다', '한 번 더 보고싶네요',\n",
        "        '글쎄요', '별로예요','생각보다 지루하네요','연기가 어색해요','재미없어요']"
      ]
    },
    {
      "cell_type": "code",
      "execution_count": 18,
      "id": "6037de2d",
      "metadata": {
        "id": "6037de2d"
      },
      "outputs": [],
      "source": [
        "classes = np.array([1,1,1,1,1,0,0,0,0,0])"
      ]
    },
    {
      "cell_type": "code",
      "execution_count": 19,
      "id": "e4d15b0b",
      "metadata": {
        "id": "e4d15b0b",
        "outputId": "5b0ab69f-d20b-4d53-e50f-af1b943d0edd",
        "colab": {
          "base_uri": "https://localhost:8080/"
        }
      },
      "outputs": [
        {
          "output_type": "stream",
          "name": "stdout",
          "text": [
            "{'너무': 1, '재밌네요': 2, '최고예요': 3, '참': 4, '잘': 5, '만든': 6, '영화예요': 7, '추천하고': 8, '싶은': 9, '영화입니다': 10, '한': 11, '번': 12, '더': 13, '보고싶네요': 14, '글쎄요': 15, '별로예요': 16, '생각보다': 17, '지루하네요': 18, '연기가': 19, '어색해요': 20, '재미없어요': 21}\n"
          ]
        }
      ],
      "source": [
        "token = Tokenizer()\n",
        "token.fit_on_texts(docs)\n",
        "print(token.word_index)"
      ]
    },
    {
      "cell_type": "code",
      "execution_count": 20,
      "id": "f1d51e28",
      "metadata": {
        "id": "f1d51e28"
      },
      "outputs": [],
      "source": [
        "x = token.texts_to_sequences(docs)"
      ]
    },
    {
      "cell_type": "code",
      "execution_count": 21,
      "id": "f45afdab",
      "metadata": {
        "id": "f45afdab",
        "outputId": "9e94873c-91ed-4a2d-cb8e-0291cc7550d3",
        "colab": {
          "base_uri": "https://localhost:8080/"
        }
      },
      "outputs": [
        {
          "output_type": "execute_result",
          "data": {
            "text/plain": [
              "[[1, 2],\n",
              " [3],\n",
              " [4, 5, 6, 7],\n",
              " [8, 9, 10],\n",
              " [11, 12, 13, 14],\n",
              " [15],\n",
              " [16],\n",
              " [17, 18],\n",
              " [19, 20],\n",
              " [21]]"
            ]
          },
          "metadata": {},
          "execution_count": 21
        }
      ],
      "source": [
        "x"
      ]
    },
    {
      "cell_type": "code",
      "execution_count": 22,
      "id": "9df7955b",
      "metadata": {
        "id": "9df7955b",
        "outputId": "6be39bd8-6f0a-481e-9304-e0d064a1bb8e",
        "colab": {
          "base_uri": "https://localhost:8080/"
        }
      },
      "outputs": [
        {
          "output_type": "stream",
          "name": "stdout",
          "text": [
            "[[ 0  0  1  2]\n",
            " [ 0  0  0  3]\n",
            " [ 4  5  6  7]\n",
            " [ 0  8  9 10]\n",
            " [11 12 13 14]\n",
            " [ 0  0  0 15]\n",
            " [ 0  0  0 16]\n",
            " [ 0  0 17 18]\n",
            " [ 0  0 19 20]\n",
            " [ 0  0  0 21]]\n"
          ]
        }
      ],
      "source": [
        "padded_x = pad_sequences(x,4) # padding 작업 적은 것은 0, 긴 것은 잘라버림\n",
        "print(padded_x)"
      ]
    },
    {
      "cell_type": "code",
      "source": [
        "word_size = len(token.word_index) + 1 # 0 포함\n",
        "Embedding(word_size, 8, input_length=4) # input_length: one sentence 길이"
      ],
      "metadata": {
        "id": "oQdt9zH8iy3d",
        "outputId": "be19cb9a-acea-440f-aea2-1da0cec74198",
        "colab": {
          "base_uri": "https://localhost:8080/"
        }
      },
      "id": "oQdt9zH8iy3d",
      "execution_count": 23,
      "outputs": [
        {
          "output_type": "execute_result",
          "data": {
            "text/plain": [
              "<keras.layers.embeddings.Embedding at 0x7fc2d86b6490>"
            ]
          },
          "metadata": {},
          "execution_count": 23
        }
      ]
    },
    {
      "cell_type": "code",
      "source": [
        "model = Sequential()\n",
        "model.add(Embedding(word_size, 8, input_length=4))\n",
        "model.add(Flatten())\n",
        "model.add(Dense(8, activation='relu'))\n",
        "model.add(Dense(1, activation='sigmoid'))"
      ],
      "metadata": {
        "id": "bt36rpQniy6t"
      },
      "id": "bt36rpQniy6t",
      "execution_count": 24,
      "outputs": []
    },
    {
      "cell_type": "code",
      "source": [
        "model.summary()"
      ],
      "metadata": {
        "id": "sgYSdquBuUHA",
        "outputId": "5d55e994-ac6c-40ad-da33-fa4428acbcde",
        "colab": {
          "base_uri": "https://localhost:8080/"
        }
      },
      "id": "sgYSdquBuUHA",
      "execution_count": 25,
      "outputs": [
        {
          "output_type": "stream",
          "name": "stdout",
          "text": [
            "Model: \"sequential\"\n",
            "_________________________________________________________________\n",
            " Layer (type)                Output Shape              Param #   \n",
            "=================================================================\n",
            " embedding_1 (Embedding)     (None, 4, 8)              176       \n",
            "                                                                 \n",
            " flatten (Flatten)           (None, 32)                0         \n",
            "                                                                 \n",
            " dense (Dense)               (None, 8)                 264       \n",
            "                                                                 \n",
            " dense_1 (Dense)             (None, 1)                 9         \n",
            "                                                                 \n",
            "=================================================================\n",
            "Total params: 449\n",
            "Trainable params: 449\n",
            "Non-trainable params: 0\n",
            "_________________________________________________________________\n"
          ]
        }
      ]
    },
    {
      "cell_type": "code",
      "source": [
        "model.compile(optimizer='adam', loss='binary_crossentropy', metrics=['accuracy'])"
      ],
      "metadata": {
        "id": "7O7VLKTBuUKH"
      },
      "id": "7O7VLKTBuUKH",
      "execution_count": 26,
      "outputs": []
    },
    {
      "cell_type": "code",
      "source": [
        "model.fit(padded_x, classes, epochs=20, verbose=1)"
      ],
      "metadata": {
        "id": "ICJPoHsguUNp",
        "outputId": "5b88cda7-b914-4b58-fdf9-31753560ca90",
        "colab": {
          "base_uri": "https://localhost:8080/"
        }
      },
      "id": "ICJPoHsguUNp",
      "execution_count": 27,
      "outputs": [
        {
          "output_type": "stream",
          "name": "stdout",
          "text": [
            "Epoch 1/20\n",
            "1/1 [==============================] - 2s 2s/step - loss: 0.6931 - accuracy: 0.5000\n",
            "Epoch 2/20\n",
            "1/1 [==============================] - 0s 21ms/step - loss: 0.6914 - accuracy: 0.5000\n",
            "Epoch 3/20\n",
            "1/1 [==============================] - 0s 18ms/step - loss: 0.6898 - accuracy: 0.5000\n",
            "Epoch 4/20\n",
            "1/1 [==============================] - 0s 25ms/step - loss: 0.6881 - accuracy: 0.6000\n",
            "Epoch 5/20\n",
            "1/1 [==============================] - 0s 13ms/step - loss: 0.6865 - accuracy: 0.7000\n",
            "Epoch 6/20\n",
            "1/1 [==============================] - 0s 9ms/step - loss: 0.6849 - accuracy: 0.8000\n",
            "Epoch 7/20\n",
            "1/1 [==============================] - 0s 13ms/step - loss: 0.6832 - accuracy: 0.8000\n",
            "Epoch 8/20\n",
            "1/1 [==============================] - 0s 10ms/step - loss: 0.6817 - accuracy: 0.8000\n",
            "Epoch 9/20\n",
            "1/1 [==============================] - 0s 10ms/step - loss: 0.6801 - accuracy: 0.8000\n",
            "Epoch 10/20\n",
            "1/1 [==============================] - 0s 18ms/step - loss: 0.6785 - accuracy: 0.7000\n",
            "Epoch 11/20\n",
            "1/1 [==============================] - 0s 9ms/step - loss: 0.6770 - accuracy: 0.7000\n",
            "Epoch 12/20\n",
            "1/1 [==============================] - 0s 11ms/step - loss: 0.6754 - accuracy: 0.7000\n",
            "Epoch 13/20\n",
            "1/1 [==============================] - 0s 7ms/step - loss: 0.6738 - accuracy: 0.7000\n",
            "Epoch 14/20\n",
            "1/1 [==============================] - 0s 8ms/step - loss: 0.6723 - accuracy: 0.7000\n",
            "Epoch 15/20\n",
            "1/1 [==============================] - 0s 10ms/step - loss: 0.6708 - accuracy: 0.7000\n",
            "Epoch 16/20\n",
            "1/1 [==============================] - 0s 7ms/step - loss: 0.6693 - accuracy: 0.7000\n",
            "Epoch 17/20\n",
            "1/1 [==============================] - 0s 10ms/step - loss: 0.6678 - accuracy: 0.7000\n",
            "Epoch 18/20\n",
            "1/1 [==============================] - 0s 8ms/step - loss: 0.6662 - accuracy: 0.7000\n",
            "Epoch 19/20\n",
            "1/1 [==============================] - 0s 25ms/step - loss: 0.6646 - accuracy: 0.8000\n",
            "Epoch 20/20\n",
            "1/1 [==============================] - 0s 34ms/step - loss: 0.6629 - accuracy: 0.8000\n"
          ]
        },
        {
          "output_type": "execute_result",
          "data": {
            "text/plain": [
              "<keras.callbacks.History at 0x7fc2d4529810>"
            ]
          },
          "metadata": {},
          "execution_count": 27
        }
      ]
    },
    {
      "cell_type": "code",
      "source": [
        "print('\\n Accuracy: %.4f' %(model.evaluate(padded_x, classes)[1]))"
      ],
      "metadata": {
        "id": "-NPFbERL4Yo-",
        "outputId": "40d21512-32e0-4e91-d9bd-08ec8baab640",
        "colab": {
          "base_uri": "https://localhost:8080/"
        }
      },
      "id": "-NPFbERL4Yo-",
      "execution_count": 28,
      "outputs": [
        {
          "output_type": "stream",
          "name": "stdout",
          "text": [
            "1/1 [==============================] - 0s 342ms/step - loss: 0.6612 - accuracy: 0.9000\n",
            "\n",
            " Accuracy: 0.9000\n"
          ]
        }
      ]
    },
    {
      "cell_type": "markdown",
      "source": [
        "nltk"
      ],
      "metadata": {
        "id": "RrBdrwiH5Bf2"
      },
      "id": "RrBdrwiH5Bf2"
    },
    {
      "cell_type": "code",
      "source": [
        "import nltk\n",
        "from nltk.tokenize import word_tokenize\n",
        "from nltk.tokenize import WordPunctTokenizer \n",
        "from nltk.tokenize import TreebankWordTokenizer"
      ],
      "metadata": {
        "id": "9H78JTL95xn2"
      },
      "id": "9H78JTL95xn2",
      "execution_count": 29,
      "outputs": []
    },
    {
      "cell_type": "code",
      "source": [
        "nltk.download('punkt')"
      ],
      "metadata": {
        "id": "_El_FC-Q5xrO",
        "outputId": "25480db0-7847-498b-b09c-7c6692b4f4ae",
        "colab": {
          "base_uri": "https://localhost:8080/"
        }
      },
      "id": "_El_FC-Q5xrO",
      "execution_count": 30,
      "outputs": [
        {
          "output_type": "stream",
          "name": "stdout",
          "text": [
            "[nltk_data] Downloading package punkt to /root/nltk_data...\n",
            "[nltk_data]   Unzipping tokenizers/punkt.zip.\n"
          ]
        },
        {
          "output_type": "execute_result",
          "data": {
            "text/plain": [
              "True"
            ]
          },
          "metadata": {},
          "execution_count": 30
        }
      ]
    },
    {
      "cell_type": "code",
      "execution_count": 31,
      "id": "e09a42d6",
      "metadata": {
        "id": "e09a42d6",
        "outputId": "93fcd31b-af1e-4aa1-f4f7-343aab5b6d29",
        "colab": {
          "base_uri": "https://localhost:8080/"
        }
      },
      "outputs": [
        {
          "output_type": "stream",
          "name": "stdout",
          "text": [
            "['Do', \"n't\", 'be', 'fooled', 'by', 'the', 'dark', 'sounding', 'name', ',', 'Mr.', 'Jone', \"'s\", 'Orphanage', 'is', 'as', 'cheery', 'as', 'cheery', 'goes', 'for', 'a', 'pastry', 'shop', '.']\n"
          ]
        }
      ],
      "source": [
        "print(word_tokenize(\"Don't be fooled by the dark sounding name, Mr. Jone's Orphanage is as cheery as cheery goes for a pastry shop.\"))  "
      ]
    },
    {
      "cell_type": "code",
      "execution_count": 32,
      "id": "fb982177",
      "metadata": {
        "id": "fb982177",
        "outputId": "03d0c247-b0cd-41dc-cddc-4c243d28465e",
        "colab": {
          "base_uri": "https://localhost:8080/"
        }
      },
      "outputs": [
        {
          "output_type": "stream",
          "name": "stdout",
          "text": [
            "['Don', \"'\", 't', 'be', 'fooled', 'by', 'the', 'dark', 'sounding', 'name', ',', 'Mr', '.', 'Jone', \"'\", 's', 'Orphanage', 'is', 'as', 'cheery', 'as', 'cheery', 'goes', 'for', 'a', 'pastry', 'shop', '.']\n"
          ]
        }
      ],
      "source": [
        "tokenizer = WordPunctTokenizer()\n",
        "print(tokenizer.tokenize(\"Don't be fooled by the dark sounding name, Mr. Jone's Orphanage is as cheery as cheery goes for a pastry shop.\"))"
      ]
    },
    {
      "cell_type": "code",
      "source": [
        "tokenizer = TreebankWordTokenizer()\n",
        "print(tokenizer.tokenize(\"Don't be fooled by the dark sounding name, Mr. Jone's Orphanage is as cheery as cheery goes for a pastry shop.\"))"
      ],
      "metadata": {
        "id": "6u_DVqA290cd",
        "outputId": "560562fc-21b3-4d27-f5bf-add402cbccbb",
        "colab": {
          "base_uri": "https://localhost:8080/"
        }
      },
      "id": "6u_DVqA290cd",
      "execution_count": 33,
      "outputs": [
        {
          "output_type": "stream",
          "name": "stdout",
          "text": [
            "['Do', \"n't\", 'be', 'fooled', 'by', 'the', 'dark', 'sounding', 'name', ',', 'Mr.', 'Jone', \"'s\", 'Orphanage', 'is', 'as', 'cheery', 'as', 'cheery', 'goes', 'for', 'a', 'pastry', 'shop', '.']\n"
          ]
        }
      ]
    },
    {
      "cell_type": "code",
      "execution_count": 34,
      "id": "9ab65238",
      "metadata": {
        "id": "9ab65238",
        "outputId": "7780e527-cae9-4144-cb88-ff15c549ec97",
        "colab": {
          "base_uri": "https://localhost:8080/"
        }
      },
      "outputs": [
        {
          "output_type": "stream",
          "name": "stdout",
          "text": [
            "['Starting', 'a', 'home-based', 'restaurant', 'may', 'be', 'an', 'ideal.', 'it', 'does', \"n't\", 'have', 'a', 'food', 'chain', 'or', 'restaurant', 'of', 'their', 'own', '.']\n"
          ]
        }
      ],
      "source": [
        "tokenizer = TreebankWordTokenizer()\n",
        "text = \"Starting a home-based restaurant may be an ideal. it doesn't have a food chain or restaurant of their own.\"\n",
        "print(tokenizer.tokenize(text))"
      ]
    },
    {
      "cell_type": "code",
      "source": [
        "token = Tokenizer()\n",
        "token.fit_on_texts([\"Don't be fooled by the dark sounding name, Mr. Jone's Orphanage is as cheery as cheery goes for a pastry shop.\"])\n",
        "print(token.word_counts)"
      ],
      "metadata": {
        "id": "LLpbRplm7lmF",
        "outputId": "89e5cb36-5998-4099-cd0d-a95586fac657",
        "colab": {
          "base_uri": "https://localhost:8080/"
        }
      },
      "id": "LLpbRplm7lmF",
      "execution_count": 35,
      "outputs": [
        {
          "output_type": "stream",
          "name": "stdout",
          "text": [
            "OrderedDict([(\"don't\", 1), ('be', 1), ('fooled', 1), ('by', 1), ('the', 1), ('dark', 1), ('sounding', 1), ('name', 1), ('mr', 1), (\"jone's\", 1), ('orphanage', 1), ('is', 1), ('as', 2), ('cheery', 2), ('goes', 1), ('for', 1), ('a', 1), ('pastry', 1), ('shop', 1)])\n"
          ]
        }
      ]
    }
  ],
  "metadata": {
    "kernelspec": {
      "display_name": "Python 3",
      "language": "python",
      "name": "python3"
    },
    "language_info": {
      "codemirror_mode": {
        "name": "ipython",
        "version": 3
      },
      "file_extension": ".py",
      "mimetype": "text/x-python",
      "name": "python",
      "nbconvert_exporter": "python",
      "pygments_lexer": "ipython3",
      "version": "3.9.1"
    },
    "colab": {
      "name": "chap 17 자연어처리.ipynb",
      "provenance": [],
      "include_colab_link": true
    }
  },
  "nbformat": 4,
  "nbformat_minor": 5
}