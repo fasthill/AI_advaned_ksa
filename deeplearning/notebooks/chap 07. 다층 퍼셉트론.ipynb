{
 "cells": [
  {
   "cell_type": "code",
   "execution_count": 2,
   "id": "invisible-collector",
   "metadata": {},
   "outputs": [],
   "source": [
    "import numpy as np"
   ]
  },
  {
   "cell_type": "code",
   "execution_count": 1,
   "id": "checked-series",
   "metadata": {},
   "outputs": [],
   "source": [
    "def GATE(x,w,b):\n",
    "    ws = (x*w).sum() + b\n",
    "    \n",
    "    if ws > 0 :\n",
    "        return 1\n",
    "    \n",
    "    return 0"
   ]
  },
  {
   "cell_type": "code",
   "execution_count": 4,
   "id": "corresponding-layer",
   "metadata": {},
   "outputs": [],
   "source": [
    "x_data = np.array([[0,0], [0,1], [1,0], [1,1]]) # AND, OR, NAND\n",
    "w = np.array([[0.5, 0.5], [0.5, 0.5], [-0.5, -0.5]])\n",
    "b = np.array([-0.7, -0.2, 0.7])"
   ]
  },
  {
   "cell_type": "code",
   "execution_count": 14,
   "id": "spiritual-trademark",
   "metadata": {},
   "outputs": [
    {
     "name": "stdout",
     "output_type": "stream",
     "text": [
      "OR NAND XOR\n",
      "=== === ===\n",
      " 0   1   0\n",
      " 1   1   1\n",
      " 1   1   1\n",
      " 1   0   0\n"
     ]
    }
   ],
   "source": [
    "print(\"OR\", \"NAND\", \"XOR\")\n",
    "print(\"===\",'===','===')\n",
    "for x in x_data:\n",
    "    or_g = GATE(x, w[1], b[1])\n",
    "    nand_g = GATE(x, w[2], b[2])\n",
    "    xor_g = GATE((or_g, nand_g), w[0], b[0])\n",
    "    print(' {}   {}   {}'.format(or_g, nand_g, xor_g))"
   ]
  },
  {
   "cell_type": "code",
   "execution_count": 16,
   "id": "absent-treat",
   "metadata": {},
   "outputs": [
    {
     "name": "stdout",
     "output_type": "stream",
     "text": [
      "x1: 0, x2:  0, n1: 1, n2: 0, y_out: 0\n",
      "x1: 0, x2:  1, n1: 1, n2: 1, y_out: 1\n",
      "x1: 1, x2:  0, n1: 1, n2: 1, y_out: 1\n",
      "x1: 1, x2:  1, n1: 0, n2: 1, y_out: 0\n"
     ]
    }
   ],
   "source": [
    "for x in x_data:\n",
    "    n1 = GATE(x, w[2], b[2])\n",
    "    n2 = GATE(x, w[1], b[1])\n",
    "    n = np.array([n1,n2])\n",
    "    y_out = GATE(n, w[0], b[0])\n",
    "    print('x1: {}, x2:  {}, n1: {}, n2: {}, y_out: {}'.format(x[0], x[1], n1, n2, y_out))"
   ]
  },
  {
   "cell_type": "code",
   "execution_count": 61,
   "id": "lined-column",
   "metadata": {},
   "outputs": [],
   "source": [
    "w1 = np.array([[1, 2], [3, 4]])\n",
    "b1 = np.array([1, 2])\n",
    "w2 = np.array([1, 2])\n",
    "b2 = np.array([1])\n",
    "x = np.array([1, 2])"
   ]
  },
  {
   "cell_type": "code",
   "execution_count": 68,
   "id": "varying-domain",
   "metadata": {},
   "outputs": [
    {
     "name": "stdout",
     "output_type": "stream",
     "text": [
      "8 12\n",
      "33\n"
     ]
    }
   ],
   "source": [
    "n = x.dot(w1) + b1\n",
    "print( '{} {}'.format(n[0], n[1]))\n",
    "y = n.dot(w2) + b2\n",
    "print('{}'.format(y[0]))"
   ]
  },
  {
   "cell_type": "code",
   "execution_count": 86,
   "id": "noble-canberra",
   "metadata": {},
   "outputs": [],
   "source": [
    "def GATE1(x,w,b):\n",
    "    ws = x.dot(w) + b\n",
    "   \n",
    "    return ws > 0"
   ]
  },
  {
   "cell_type": "code",
   "execution_count": 91,
   "id": "valued-shoulder",
   "metadata": {},
   "outputs": [
    {
     "name": "stdout",
     "output_type": "stream",
     "text": [
      "x1: 0, x2:  0, n1: 1, n2: 0, y_out: 0\n",
      "x1: 0, x2:  1, n1: 1, n2: 1, y_out: 1\n",
      "x1: 1, x2:  0, n1: 1, n2: 1, y_out: 1\n",
      "x1: 1, x2:  1, n1: 0, n2: 1, y_out: 0\n"
     ]
    }
   ],
   "source": [
    "w1 = np.array([[-0.5, 0.5], [-0.5, 0.5]])\n",
    "b1 = np.array([0.7, -0.2])\n",
    "w2 = np.array([0.5, 0.5])\n",
    "b2 = np.array([-0.7])\n",
    "for x in x_data:\n",
    "    n = GATE1(x, w1, b1)\n",
    "    y_out = GATE1(n, w2, b2)\n",
    "    print('x1: {}, x2:  {}, n1: {:1d}, n2: {:1d}, y_out: {:1d}'.format(x[0], x[1], n[0], n[1], y_out[0]))"
   ]
  },
  {
   "cell_type": "code",
   "execution_count": 94,
   "id": "serial-expert",
   "metadata": {},
   "outputs": [
    {
     "name": "stdout",
     "output_type": "stream",
     "text": [
      "x1: 0, x2:  0, n1: 1, n2: 0, y_out: 0\n",
      "x1: 0, x2:  1, n1: 1, n2: 1, y_out: 1\n",
      "x1: 1, x2:  0, n1: 1, n2: 1, y_out: 1\n",
      "x1: 1, x2:  1, n1: 0, n2: 1, y_out: 0\n"
     ]
    }
   ],
   "source": [
    "for x in x_data:\n",
    "    tmp1 = GATE1(x, w1, b1)\n",
    "    tmp2 = GATE1(tmp1, w2, b2)\n",
    "    print('x1: {}, x2:  {}, n1: {:1}, n2: {:1}, y_out: {:1}'.format(x[0], x[1], tmp1[0], tmp1[1], tmp2[0]))"
   ]
  },
  {
   "cell_type": "code",
   "execution_count": null,
   "id": "threaded-victorian",
   "metadata": {},
   "outputs": [],
   "source": [
    "'''\n",
    "ws1 > 0 => [ True,  False]\n",
    "ws2 > 0 => [ True,  True ]\n",
    "ws3 > 0 => [ True,  True ]\n",
    "ws4 > 0 => [ False, True ] 이라면\n",
    "\n",
    "여기서 w2, b2를 사용하지 않고, 그냥 \n",
    "\n",
    "ws1[0] * ws1[1] => False\n",
    "ws2[0] * ws2[1] => True\n",
    "ws3[0] * ws3[1] => True\n",
    "ws4[0] * ws4[1] => False\n",
    "\n",
    "로 결과를 낼 수 있는 건 아닌가요?\n",
    "'''"
   ]
  }
 ],
 "metadata": {
  "kernelspec": {
   "display_name": "Python 3",
   "language": "python",
   "name": "python3"
  },
  "language_info": {
   "codemirror_mode": {
    "name": "ipython",
    "version": 3
   },
   "file_extension": ".py",
   "mimetype": "text/x-python",
   "name": "python",
   "nbconvert_exporter": "python",
   "pygments_lexer": "ipython3",
   "version": "3.9.1"
  }
 },
 "nbformat": 4,
 "nbformat_minor": 5
}
