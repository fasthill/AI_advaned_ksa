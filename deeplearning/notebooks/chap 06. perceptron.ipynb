{
 "cells": [
  {
   "cell_type": "raw",
   "id": "conceptual-hierarchy",
   "metadata": {},
   "source": [
    "단순 퍼셉트론을 이용한 AND gate 구현 - Step 1\n",
    "===> 편향(bias)을 적용하지 않은 구현\n",
    "\n",
    " x1  x2 AND\n",
    "=== === ===\n",
    "  0   0   0\n",
    "  0   1   0\n",
    "  1   0   0\n",
    "  1   1   1\n",
    "  \n",
    " (w1 * x1) + (w2 * x2) ==> theta 보다 크면 1, 작으면 0\n",
    " =====================\n",
    "  위 계산 결과가 참이면 1을,\n",
    "                 거짓이면 0을 반환하는 경우 AND 연산의 결과와 동일한 결과를 나타내는\n",
    "  w1, w2, theta를 찾는 문제\n",
    "  (w1 * 0) + (w2 * 0) > theta F\n",
    "  (w1 * 0) + (w2 * 1) > theta F\n",
    "  (w1 * 1) + (w2 * 0) > theta F\n",
    "  (w1 * 1) + (w2 * 1) > theta T\n",
    "  \n",
    "  이 결과를 만족하는 w1, w2, theta는 무엇인가? 이것을 찾아라!\n",
    "    "
   ]
  },
  {
   "cell_type": "code",
   "execution_count": 1,
   "id": "southwest-words",
   "metadata": {},
   "outputs": [],
   "source": [
    "def AND(x1, x2):\n",
    "    w1 = 0.5\n",
    "    w2 = 0.5\n",
    "    theta = 0.7\n",
    "    \n",
    "    ws = w1 * x1 + w2 * x2\n",
    "    \n",
    "    if(ws > theta):\n",
    "        return 1\n",
    "    \n",
    "    return 0"
   ]
  },
  {
   "cell_type": "code",
   "execution_count": 5,
   "id": "proud-motorcycle",
   "metadata": {},
   "outputs": [
    {
     "name": "stdout",
     "output_type": "stream",
     "text": [
      "AND(0, 0) = 0\n",
      "AND(0, 1) = 0\n",
      "AND(1, 0) = 0\n",
      "AND(1, 1) = 1\n"
     ]
    }
   ],
   "source": [
    "X1 = [0 ,0, 1, 1]\n",
    "X2 = [0,1,0,1]\n",
    "\n",
    "for x1, x2 in zip(X1, X2):\n",
    "    print('AND({}, {}) = {}'.format(x1, x2, AND(x1, x2)))"
   ]
  },
  {
   "cell_type": "code",
   "execution_count": null,
   "id": "continued-climb",
   "metadata": {},
   "outputs": [],
   "source": [
    "'''단순 퍼센트론을 이용한 AND gate 구현 Step2 \n",
    " x1  x2 AND\n",
    "=== === ===\n",
    "  0   0   0\n",
    "  0   1   0\n",
    "  1   0   0\n",
    "  1   1   1\n",
    "\n",
    "\n",
    "(w1 * x1) + (w2 * x2) - theta 가 0보다 크면 1, 작으면 0\n",
    " =====================\n",
    "  위 계산 결과가 참이면 1을,\n",
    "                 거짓이면 0을 반환하는 경우 AND 연산의 결과와 동일한 결과를 나타내는\n",
    "  w1, w2, theta를 찾는 문제'''"
   ]
  },
  {
   "cell_type": "code",
   "execution_count": 8,
   "id": "injured-burns",
   "metadata": {},
   "outputs": [
    {
     "name": "stdout",
     "output_type": "stream",
     "text": [
      "AND(0, 0) = 0\n",
      "AND(0, 1) = 0\n",
      "AND(1, 0) = 0\n",
      "AND(1, 1) = 1\n"
     ]
    }
   ],
   "source": [
    "def AND2(x1, x2):\n",
    "    w1 = 0.5\n",
    "    w2 = 0.5\n",
    "    b = -0.7\n",
    "    \n",
    "    ws = w1 * x1 + w2 * x2 + b\n",
    "    \n",
    "    if(ws > 0 ):\n",
    "        return 1\n",
    "    \n",
    "    return 0\n",
    "\n",
    "X1 = [0 ,0, 1, 1]\n",
    "X2 = [0, 1, 0, 1]\n",
    "\n",
    "for x1, x2 in zip(X1, X2):\n",
    "    print('AND({}, {}) = {}'.format(x1, x2, AND2(x1, x2)))"
   ]
  },
  {
   "cell_type": "markdown",
   "id": "heavy-remedy",
   "metadata": {},
   "source": [
    "단순 퍼센트론을 이용한 OR gate 구현\n",
    " x1  x2  OR  NAND  AND\n",
    "=== === ===  ====  ===\n",
    "  0   0   0   1     0\n",
    "  0   1   1   1     0\n",
    "  1   0   1   1     0\n",
    "  1   1   1   0     1\n",
    "  "
   ]
  },
  {
   "cell_type": "code",
   "execution_count": null,
   "id": "adapted-impact",
   "metadata": {},
   "outputs": [],
   "source": [
    "'''단순 퍼셉트론을 이용하여 OR, NAND 게이트를 구현하는 코드를 작성하세요'''"
   ]
  },
  {
   "cell_type": "code",
   "execution_count": 14,
   "id": "exempt-decimal",
   "metadata": {},
   "outputs": [],
   "source": [
    "def OR(x1, x2):\n",
    "    w1 = 0.5\n",
    "    w2 = 0.5\n",
    "    b = -0.7\n",
    "    \n",
    "    ws = w1 * x1 + w2 * x2 + b\n",
    "    \n",
    "    if(ws != b ):\n",
    "        return 1\n",
    "    \n",
    "    return 0"
   ]
  },
  {
   "cell_type": "code",
   "execution_count": 17,
   "id": "spread-checklist",
   "metadata": {},
   "outputs": [],
   "source": [
    "def OR2(x1, x2):\n",
    "    w1, w2, b = 0.5, 0.5, -0.2\n",
    "    \n",
    "    ws = w1 * x1 + w2 * x2 + b\n",
    "    \n",
    "    if(ws > 0 ):\n",
    "        return 1\n",
    "    \n",
    "    return 0"
   ]
  },
  {
   "cell_type": "code",
   "execution_count": 18,
   "id": "abstract-savannah",
   "metadata": {},
   "outputs": [
    {
     "name": "stdout",
     "output_type": "stream",
     "text": [
      "OR(0, 0) = 0\n",
      "OR(0, 1) = 1\n",
      "OR(1, 0) = 1\n",
      "OR(1, 1) = 1\n"
     ]
    }
   ],
   "source": [
    "X1 = [0 ,0, 1, 1]\n",
    "X2 = [0, 1, 0, 1]\n",
    "\n",
    "for x1, x2 in zip(X1, X2):\n",
    "    print('OR({}, {}) = {}'.format(x1, x2, OR2(x1, x2)))"
   ]
  },
  {
   "cell_type": "code",
   "execution_count": 19,
   "id": "enhanced-marijuana",
   "metadata": {},
   "outputs": [],
   "source": [
    "def NAND(x1, x2):\n",
    "    w1 = 0.5\n",
    "    w2 = 0.5\n",
    "    b = -0.7\n",
    "    \n",
    "    ws = w1 * x1 + w2 * x2 + b\n",
    "    \n",
    "    if(ws > 0 ):\n",
    "        return 1\n",
    "    \n",
    "    return 0"
   ]
  },
  {
   "cell_type": "code",
   "execution_count": 46,
   "id": "built-wisdom",
   "metadata": {},
   "outputs": [],
   "source": [
    "def NAND2(x1, x2):\n",
    "    w1, w2, b = -0.5, -0.5, 0.7\n",
    "    \n",
    "    ws = w1 * x1 + w2 * x2 + b\n",
    "    \n",
    "    if(ws > 0 ):\n",
    "        return 1\n",
    "    \n",
    "    return 0"
   ]
  },
  {
   "cell_type": "code",
   "execution_count": 47,
   "id": "printable-license",
   "metadata": {},
   "outputs": [
    {
     "name": "stdout",
     "output_type": "stream",
     "text": [
      "NAND(0, 0) = 1\n",
      "NAND(0, 1) = 1\n",
      "NAND(1, 0) = 1\n",
      "NAND(1, 1) = 0\n"
     ]
    }
   ],
   "source": [
    "X1 = [0 ,0, 1, 1]\n",
    "X2 = [0, 1, 0, 1]\n",
    "\n",
    "for x1, x2 in zip(X1, X2):\n",
    "    print('NAND({}, {}) = {}'.format(x1, x2, NAND2(x1, x2)))"
   ]
  },
  {
   "cell_type": "code",
   "execution_count": 23,
   "id": "emerging-league",
   "metadata": {},
   "outputs": [
    {
     "data": {
      "text/plain": [
       "'and, or, nand 함수를 통합하는 gate를 생성하고, and, or, nand 연산을 출력하는 코드를 작성하세요'"
      ]
     },
     "execution_count": 23,
     "metadata": {},
     "output_type": "execute_result"
    }
   ],
   "source": [
    "'''and, or, nand 함수를 통합하는 gate를 생성하고, and, or, nand 연산을 출력하는 코드를 작성하세요'''"
   ]
  },
  {
   "cell_type": "code",
   "execution_count": 48,
   "id": "analyzed-raise",
   "metadata": {},
   "outputs": [],
   "source": [
    "wb = [[0.5, 0.5, -0.7], [0.5, 0.5, -0.2], [-0.5, -0.5, 0.7]]\n",
    "# wb = [[0.5, 0.5, 0.5], [0.5, 0.5, -0.5], [0.7, -0.2, -0.2]]\n",
    "def gate(x1, x2, gname):\n",
    "    if gname == 'AND':\n",
    "        w1, w2, b = wb[0]\n",
    "        ws = w1 * x1 + w2 * x2 + b\n",
    "    elif gname == 'OR':\n",
    "        w1, w2, b = wb[1]\n",
    "        ws = w1 * x1 + w2 * x2 + b\n",
    "    elif gname == 'NAND':\n",
    "        w1, w2, b = wb[2]\n",
    "        ws = w1 * x1 + w2 * x2 + b\n",
    "    \n",
    "    if(ws > 0 ):\n",
    "        return 1\n",
    "    \n",
    "    return 0\n",
    "        "
   ]
  },
  {
   "cell_type": "code",
   "execution_count": 49,
   "id": "fiscal-affect",
   "metadata": {},
   "outputs": [
    {
     "name": "stdout",
     "output_type": "stream",
     "text": [
      "AND(0, 0) = 0\n",
      "AND(0, 1) = 0\n",
      "AND(1, 0) = 0\n",
      "AND(1, 1) = 1\n",
      "OR(0, 0) = 0\n",
      "OR(0, 1) = 1\n",
      "OR(1, 0) = 1\n",
      "OR(1, 1) = 1\n",
      "NAND(0, 0) = 1\n",
      "NAND(0, 1) = 1\n",
      "NAND(1, 0) = 1\n",
      "NAND(1, 1) = 0\n"
     ]
    }
   ],
   "source": [
    "X1 = [0 ,0, 1, 1]\n",
    "X2 = [0, 1, 0, 1]\n",
    "gname = ['AND', 'OR', 'NAND']\n",
    "\n",
    "for gn in gname:\n",
    "    for x1, x2 in zip(X1, X2):\n",
    "        print('{}({}, {}) = {}'.format(gn, x1, x2, gate(x1, x2, gn)))\n",
    "        \n",
    "# for x1, x2 in zip(X1, X2):\n",
    "#     for gn in gname:\n",
    "#         print('{}({}, {}) = {}'.format(gn, x1, x2, gate(x1, x2, gn)))"
   ]
  },
  {
   "cell_type": "code",
   "execution_count": 39,
   "id": "silver-socket",
   "metadata": {},
   "outputs": [
    {
     "name": "stdout",
     "output_type": "stream",
     "text": [
      "[0.5 0.5 0.7]\n"
     ]
    }
   ],
   "source": [
    "import numpy as np\n",
    "npgate = np.array([[0.5, 0.5, -0.7], [0.5, 0.5, -0.2], [-0.5, -0.5, 0.7]])"
   ]
  },
  {
   "cell_type": "code",
   "execution_count": 60,
   "id": "skilled-swedish",
   "metadata": {},
   "outputs": [],
   "source": [
    "def gate(x1, x2, npgate, gname):\n",
    "    if gname == 'AND':\n",
    "        w1, w2, b = npgate[0]\n",
    "    elif gname == 'OR':\n",
    "        w1, w2, b = npgate[1]\n",
    "    elif gname == 'NAND':\n",
    "        w1, w2, b = npgate[2]\n",
    "        \n",
    "    ws = w1 * x1 + w2 * x2 + b\n",
    "    if(ws > 0 ):\n",
    "        return 1\n",
    "    \n",
    "    return 0"
   ]
  },
  {
   "cell_type": "code",
   "execution_count": 63,
   "id": "hungry-albania",
   "metadata": {},
   "outputs": [
    {
     "name": "stdout",
     "output_type": "stream",
     "text": [
      "AND(0, 0) = 0AND(0, 1) = 0AND(1, 0) = 0AND(1, 1) = 1\n",
      "OR(0, 0) = 0OR(0, 1) = 1OR(1, 0) = 1OR(1, 1) = 1\n",
      "NAND(0, 0) = 1NAND(0, 1) = 1NAND(1, 0) = 1NAND(1, 1) = 0\n"
     ]
    }
   ],
   "source": [
    "X1 = [0 ,0, 1, 1]\n",
    "X2 = [0, 1, 0, 1]\n",
    "npgate = np.array([[0.5, 0.5, -0.7], [0.5, 0.5, -0.2], [-0.5, -0.5, 0.7]])\n",
    "gname = ['AND', 'OR', 'NAND']\n",
    "\n",
    "for gn in gname:\n",
    "    for x1, x2 in zip(X1, X2):\n",
    "        print('{}({}, {}) = {}'.format(gn, x1, x2, gate(x1, x2, npgate, gn)), end=\"\")\n",
    "    print()"
   ]
  },
  {
   "cell_type": "code",
   "execution_count": 65,
   "id": "liquid-retail",
   "metadata": {},
   "outputs": [
    {
     "data": {
      "text/plain": [
       "array([-0.2])"
      ]
     },
     "execution_count": 65,
     "metadata": {},
     "output_type": "execute_result"
    }
   ],
   "source": [
    "x = np.array([1,0])\n",
    "w = np.array([0.5, 0.5])\n",
    "b = np.array([-0.7])\n",
    "\n",
    "(x*w).sum() + b"
   ]
  },
  {
   "cell_type": "code",
   "execution_count": 66,
   "id": "final-minority",
   "metadata": {},
   "outputs": [],
   "source": [
    "x = np.array([[0,0], [0,1], [1,0], [1,1]])\n",
    "w = np.array([[0.5, 0.5], [0.5, 0.5], [-0.5, -0.5]])\n",
    "b = np.array([-0.7, -0.2, 0.7])"
   ]
  },
  {
   "cell_type": "code",
   "execution_count": 69,
   "id": "alike-wound",
   "metadata": {},
   "outputs": [
    {
     "name": "stdout",
     "output_type": "stream",
     "text": [
      "False\n",
      "False\n",
      "False\n",
      "True\n"
     ]
    }
   ],
   "source": [
    "print((x[0]*w[0]).sum() + b[0] > 0)\n",
    "print((x[1]*w[0]).sum() + b[0] > 0)\n",
    "print((x[2]*w[0]).sum() + b[0] > 0)\n",
    "print((x[3]*w[0]).sum() + b[0] > 0)"
   ]
  },
  {
   "cell_type": "code",
   "execution_count": 71,
   "id": "finnish-seminar",
   "metadata": {},
   "outputs": [
    {
     "name": "stdout",
     "output_type": "stream",
     "text": [
      "False\n",
      "True\n",
      "True\n",
      "True\n"
     ]
    }
   ],
   "source": [
    "print((x[0]*w[1]).sum() + b[1] > 0)\n",
    "print((x[1]*w[1]).sum() + b[1] > 0)\n",
    "print((x[2]*w[1]).sum() + b[1] > 0)\n",
    "print((x[3]*w[1]).sum() + b[1] > 0)"
   ]
  },
  {
   "cell_type": "code",
   "execution_count": 72,
   "id": "engaged-dominant",
   "metadata": {},
   "outputs": [
    {
     "name": "stdout",
     "output_type": "stream",
     "text": [
      "True\n",
      "True\n",
      "True\n",
      "False\n"
     ]
    }
   ],
   "source": [
    "print((x[0]*w[2]).sum() + b[2] > 0)\n",
    "print((x[1]*w[2]).sum() + b[2] > 0)\n",
    "print((x[2]*w[2]).sum() + b[2] > 0)\n",
    "print((x[3]*w[2]).sum() + b[2] > 0)"
   ]
  },
  {
   "cell_type": "code",
   "execution_count": 74,
   "id": "tutorial-saying",
   "metadata": {},
   "outputs": [],
   "source": [
    "def GATE(x,w,b):\n",
    "    ws = (x*w).sum() + b\n",
    "    \n",
    "    if ws > 0 :\n",
    "        return 1\n",
    "    \n",
    "    return 0"
   ]
  },
  {
   "cell_type": "code",
   "execution_count": 75,
   "id": "neither-interest",
   "metadata": {},
   "outputs": [
    {
     "name": "stdout",
     "output_type": "stream",
     "text": [
      "AND(1, 1) = 0\n",
      "AND(1, 1) = 0\n",
      "AND(1, 1) = 0\n",
      "AND(1, 1) = 1\n"
     ]
    }
   ],
   "source": [
    "x_data = np.array([[0,0], [0,1], [1,0], [1,1]])\n",
    "w = np.array([[0.5, 0.5], [0.5, 0.5], [-0.5, -0.5]])\n",
    "b = np.array([-0.7, -0.2, 0.7])\n",
    "\n",
    "for x in x_data:\n",
    "    print('AND({}, {}) = {}'.format(x1, x2, GATE(x, w[0], b[0])))"
   ]
  },
  {
   "cell_type": "code",
   "execution_count": 76,
   "id": "fantastic-bacteria",
   "metadata": {},
   "outputs": [
    {
     "name": "stdout",
     "output_type": "stream",
     "text": [
      "OR(1, 1) = 0\n",
      "OR(1, 1) = 1\n",
      "OR(1, 1) = 1\n",
      "OR(1, 1) = 1\n"
     ]
    }
   ],
   "source": [
    "for x in x_data:\n",
    "    print('OR({}, {}) = {}'.format(x1, x2, GATE(x, w[1], b[1])))"
   ]
  },
  {
   "cell_type": "code",
   "execution_count": 77,
   "id": "fitting-notion",
   "metadata": {},
   "outputs": [
    {
     "name": "stdout",
     "output_type": "stream",
     "text": [
      "NAND(1, 1) = 1\n",
      "NAND(1, 1) = 1\n",
      "NAND(1, 1) = 1\n",
      "NAND(1, 1) = 0\n"
     ]
    }
   ],
   "source": [
    "for x in x_data:\n",
    "    print('NAND({}, {}) = {}'.format(x1, x2, GATE(x, w[2], b[2])))"
   ]
  },
  {
   "cell_type": "code",
   "execution_count": null,
   "id": "behind-copying",
   "metadata": {},
   "outputs": [],
   "source": []
  }
 ],
 "metadata": {
  "kernelspec": {
   "display_name": "Python 3",
   "language": "python",
   "name": "python3"
  },
  "language_info": {
   "codemirror_mode": {
    "name": "ipython",
    "version": 3
   },
   "file_extension": ".py",
   "mimetype": "text/x-python",
   "name": "python",
   "nbconvert_exporter": "python",
   "pygments_lexer": "ipython3",
   "version": "3.9.1"
  }
 },
 "nbformat": 4,
 "nbformat_minor": 5
}
