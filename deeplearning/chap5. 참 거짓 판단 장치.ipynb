{
 "cells": [
  {
   "cell_type": "code",
   "execution_count": 1,
   "id": "dependent-cookie",
   "metadata": {},
   "outputs": [],
   "source": [
    "import numpy as np\n",
    "import matplotlib.pyplot as plt"
   ]
  },
  {
   "cell_type": "code",
   "execution_count": 2,
   "id": "velvet-supervision",
   "metadata": {},
   "outputs": [],
   "source": [
    "X = np.array([2,4,6,8,10,12,14])\n",
    "Y = np.array([0,0,0,1,1,1,1])"
   ]
  },
  {
   "cell_type": "code",
   "execution_count": 4,
   "id": "automotive-dimension",
   "metadata": {},
   "outputs": [
    {
     "name": "stdout",
     "output_type": "stream",
     "text": [
      "x: 2, y: 0\n",
      "x: 4, y: 0\n",
      "x: 6, y: 0\n",
      "x: 8, y: 1\n",
      "x: 10, y: 1\n",
      "x: 12, y: 1\n",
      "x: 14, y: 1\n"
     ]
    }
   ],
   "source": [
    "for x, y in zip(X,Y):\n",
    "    print('x: {}, y: {}'.format(x,y))"
   ]
  },
  {
   "cell_type": "code",
   "execution_count": 5,
   "id": "satisfied-sharing",
   "metadata": {},
   "outputs": [],
   "source": [
    "a , b = 0,0\n",
    "lr = 0.05\n",
    "epochs = 2001"
   ]
  },
  {
   "cell_type": "code",
   "execution_count": 6,
   "id": "imperial-scanner",
   "metadata": {},
   "outputs": [],
   "source": [
    "def sigmoid(x):\n",
    "    return 1/(1+ np.e ** (-x))"
   ]
  },
  {
   "cell_type": "code",
   "execution_count": 7,
   "id": "breathing-science",
   "metadata": {},
   "outputs": [
    {
     "name": "stdout",
     "output_type": "stream",
     "text": [
      "epochs : 0000, x: 02, y: 0, a: -0.0500, b: -0.0250\n",
      "epochs : 0000, x: 04, y: 0, a: -0.1388, b: -0.0472\n",
      "epochs : 0000, x: 06, y: 0, a: -0.2268, b: -0.0619\n",
      "epochs : 0000, x: 08, y: 1, a: 0.1201, b: -0.0185\n",
      "epochs : 0000, x: 10, y: 1, a: 0.2374, b: -0.0068\n",
      "epochs : 0000, x: 12, y: 1, a: 0.2705, b: -0.0040\n",
      "epochs : 0000, x: 14, y: 1, a: 0.2860, b: -0.0029\n",
      "epochs : 1000, x: 02, y: 0, a: 1.4978, b: -9.9401\n",
      "epochs : 1000, x: 04, y: 0, a: 1.4940, b: -9.9411\n",
      "epochs : 1000, x: 06, y: 0, a: 1.4120, b: -9.9547\n",
      "epochs : 1000, x: 08, y: 1, a: 1.4949, b: -9.9444\n",
      "epochs : 1000, x: 10, y: 1, a: 1.4982, b: -9.9440\n",
      "epochs : 1000, x: 12, y: 1, a: 1.4984, b: -9.9440\n",
      "epochs : 1000, x: 14, y: 1, a: 1.4985, b: -9.9440\n",
      "epochs : 2000, x: 02, y: 0, a: 1.9065, b: -12.9489\n",
      "epochs : 2000, x: 04, y: 0, a: 1.9055, b: -12.9491\n",
      "epochs : 2000, x: 06, y: 0, a: 1.8515, b: -12.9581\n",
      "epochs : 2000, x: 08, y: 1, a: 1.9057, b: -12.9514\n",
      "epochs : 2000, x: 10, y: 1, a: 1.9068, b: -12.9513\n",
      "epochs : 2000, x: 12, y: 1, a: 1.9068, b: -12.9513\n",
      "epochs : 2000, x: 14, y: 1, a: 1.9068, b: -12.9513\n"
     ]
    }
   ],
   "source": [
    "for i in range(epochs):\n",
    "    for x,y in zip(X, Y):\n",
    "        a_diff = x * (sigmoid(a *x +b) -y)\n",
    "        b_diff = sigmoid(a *x +b) -y\n",
    "        \n",
    "        a = a - lr*a_diff\n",
    "        b = b - lr*b_diff\n",
    "        \n",
    "        if i% 1000 ==0 :\n",
    "            print('epochs : {:04d}, x: {:02d}, y: {}, a: {:.4f}, b: {:.4f}'.format(i,x,y,a,b))"
   ]
  },
  {
   "cell_type": "code",
   "execution_count": 9,
   "id": "weekly-destiny",
   "metadata": {},
   "outputs": [
    {
     "name": "stdout",
     "output_type": "stream",
     "text": [
      "실제 값: [0 0 0 1 1 1 1]\n",
      "예측 값: [0.00010752874730640028, 0.004849415540171216, 0.18087552663081788, 0.9091402249431002, 0.9977993312175377, 0.9999513300357458, 0.9999989258810245]\n"
     ]
    }
   ],
   "source": [
    "Y_pred = [sigmoid(a*x+b) for x in X]\n",
    "\n",
    "print('실제 값:', Y)\n",
    "print('예측 값:', Y_pred)"
   ]
  },
  {
   "cell_type": "code",
   "execution_count": 10,
   "id": "plastic-kidney",
   "metadata": {},
   "outputs": [
    {
     "data": {
      "image/png": "[encoded data removed]",
      "text/plain": [
       "<Figure size 432x288 with 1 Axes>"
      ]
     },
     "metadata": {
      "needs_background": "light"
     },
     "output_type": "display_data"
    }
   ],
   "source": [
    "X_range = np.arange(2, 14.1, 0.1)\n",
    "Y_range = [sigmoid(a*x+b) for x in X_range]\n",
    "\n",
    "plt.scatter(X,Y)\n",
    "plt.plot(X_range, Y_range)\n",
    "plt.grid()\n",
    "\n",
    "plt.show()"
   ]
  },
  {
   "cell_type": "code",
   "execution_count": null,
   "id": "virgin-invalid",
   "metadata": {},
   "outputs": [],
   "source": []
  }
 ],
 "metadata": {
  "kernelspec": {
   "display_name": "Python 3",
   "language": "python",
   "name": "python3"
  },
  "language_info": {
   "codemirror_mode": {
    "name": "ipython",
    "version": 3
   },
   "file_extension": ".py",
   "mimetype": "text/x-python",
   "name": "python",
   "nbconvert_exporter": "python",
   "pygments_lexer": "ipython3",
   "version": "3.9.1"
  }
 },
 "nbformat": 4,
 "nbformat_minor": 5
}
