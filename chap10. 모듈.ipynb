{
 "cells": [
  {
   "cell_type": "code",
   "execution_count": 1,
   "id": "bound-rough",
   "metadata": {},
   "outputs": [
    {
     "name": "stdout",
     "output_type": "stream",
     "text": [
      "Writing first_module.py\n"
     ]
    }
   ],
   "source": [
    "%%writefile first_module.py\n",
    "def my_func():\n",
    "    print('module test')"
   ]
  },
  {
   "cell_type": "code",
   "execution_count": 2,
   "id": "published-graham",
   "metadata": {},
   "outputs": [],
   "source": [
    "import first_module"
   ]
  },
  {
   "cell_type": "code",
   "execution_count": 4,
   "id": "consolidated-church",
   "metadata": {},
   "outputs": [
    {
     "name": "stdout",
     "output_type": "stream",
     "text": [
      "module test\n"
     ]
    }
   ],
   "source": [
    "first_module.my_func()"
   ]
  },
  {
   "cell_type": "code",
   "execution_count": null,
   "id": "stable-forward",
   "metadata": {},
   "outputs": [],
   "source": []
  }
 ],
 "metadata": {
  "kernelspec": {
   "display_name": "Python 3",
   "language": "python",
   "name": "python3"
  },
  "language_info": {
   "codemirror_mode": {
    "name": "ipython",
    "version": 3
   },
   "file_extension": ".py",
   "mimetype": "text/x-python",
   "name": "python",
   "nbconvert_exporter": "python",
   "pygments_lexer": "ipython3",
   "version": "3.9.1"
  }
 },
 "nbformat": 4,
 "nbformat_minor": 5
}
