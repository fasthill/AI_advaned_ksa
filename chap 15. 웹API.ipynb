{
 "cells": [
  {
   "cell_type": "code",
   "execution_count": 10,
   "id": "fc595916",
   "metadata": {},
   "outputs": [],
   "source": [
    "import json\n",
    "import requests\n",
    "import numpy as np\n",
    "import pandas as pd\n",
    "from bs4 import BeautifulSoup as bs\n",
    "import xmltodict"
   ]
  },
  {
   "cell_type": "code",
   "execution_count": 3,
   "id": "9339a09b",
   "metadata": {},
   "outputs": [
    {
     "data": {
      "text/plain": [
       "dict"
      ]
     },
     "execution_count": 3,
     "metadata": {},
     "output_type": "execute_result"
    }
   ],
   "source": [
    "python_dict = {\n",
    "    '이름': '홍길동',\n",
    "    '나이': 25,\n",
    "    '거주지': '서울',\n",
    "    '신체정보': {\n",
    "        '키': 175.4,\n",
    "        '몸무게': 71.2\n",
    "    },\n",
    "    '취미': [\n",
    "        '등산',\n",
    "        '자전거타기',\n",
    "        '독서'\n",
    "    ]\n",
    "}\n",
    "\n",
    "type(python_dict)"
   ]
  },
  {
   "cell_type": "code",
   "execution_count": 4,
   "id": "ae2121ea",
   "metadata": {},
   "outputs": [
    {
     "data": {
      "text/plain": [
       "'{\"\\\\uc774\\\\ub984\": \"\\\\ud64d\\\\uae38\\\\ub3d9\", \"\\\\ub098\\\\uc774\": 25, \"\\\\uac70\\\\uc8fc\\\\uc9c0\": \"\\\\uc11c\\\\uc6b8\", \"\\\\uc2e0\\\\uccb4\\\\uc815\\\\ubcf4\": {\"\\\\ud0a4\": 175.4, \"\\\\ubab8\\\\ubb34\\\\uac8c\": 71.2}, \"\\\\ucde8\\\\ubbf8\": [\"\\\\ub4f1\\\\uc0b0\", \"\\\\uc790\\\\uc804\\\\uac70\\\\ud0c0\\\\uae30\", \"\\\\ub3c5\\\\uc11c\"]}'"
      ]
     },
     "execution_count": 4,
     "metadata": {},
     "output_type": "execute_result"
    }
   ],
   "source": [
    "json_data = json.dumps(python_dict)\n",
    "json_data"
   ]
  },
  {
   "cell_type": "code",
   "execution_count": 5,
   "id": "a2476a77",
   "metadata": {},
   "outputs": [
    {
     "data": {
      "text/plain": [
       "'{\"이름\": \"홍길동\", \"나이\": 25, \"거주지\": \"서울\", \"신체정보\": {\"키\": 175.4, \"몸무게\": 71.2}, \"취미\": [\"등산\", \"자전거타기\", \"독서\"]}'"
      ]
     },
     "execution_count": 5,
     "metadata": {},
     "output_type": "execute_result"
    }
   ],
   "source": [
    "json_data = json.dumps(python_dict, ensure_ascii=False)\n",
    "json_data"
   ]
  },
  {
   "cell_type": "code",
   "execution_count": 6,
   "id": "f5d6af2d",
   "metadata": {
    "scrolled": true
   },
   "outputs": [
    {
     "name": "stdout",
     "output_type": "stream",
     "text": [
      "{\n",
      "    \"이름\": \"홍길동\",\n",
      "    \"나이\": 25,\n",
      "    \"거주지\": \"서울\",\n",
      "    \"신체정보\": {\n",
      "        \"키\": 175.4,\n",
      "        \"몸무게\": 71.2\n",
      "    },\n",
      "    \"취미\": [\n",
      "        \"등산\",\n",
      "        \"자전거타기\",\n",
      "        \"독서\"\n",
      "    ]\n",
      "}\n"
     ]
    }
   ],
   "source": [
    "json_data = json.dumps(python_dict, indent=4, ensure_ascii=False)\n",
    "print(json_data)"
   ]
  },
  {
   "cell_type": "code",
   "execution_count": 7,
   "id": "07a03b96",
   "metadata": {},
   "outputs": [
    {
     "name": "stdout",
     "output_type": "stream",
     "text": [
      "{\n",
      "    \"거주지\": \"서울\",\n",
      "    \"나이\": 25,\n",
      "    \"신체정보\": {\n",
      "        \"몸무게\": 71.2,\n",
      "        \"키\": 175.4\n",
      "    },\n",
      "    \"이름\": \"홍길동\",\n",
      "    \"취미\": [\n",
      "        \"등산\",\n",
      "        \"자전거타기\",\n",
      "        \"독서\"\n",
      "    ]\n",
      "}\n"
     ]
    }
   ],
   "source": [
    "json_data = json.dumps(python_dict, indent=4, sort_keys=True, ensure_ascii=False)\n",
    "print(json_data)"
   ]
  },
  {
   "cell_type": "code",
   "execution_count": 8,
   "id": "f296da6e",
   "metadata": {},
   "outputs": [
    {
     "data": {
      "text/plain": [
       "{'거주지': '서울',\n",
       " '나이': 25,\n",
       " '신체정보': {'몸무게': 71.2, '키': 175.4},\n",
       " '이름': '홍길동',\n",
       " '취미': ['등산', '자전거타기', '독서']}"
      ]
     },
     "execution_count": 8,
     "metadata": {},
     "output_type": "execute_result"
    }
   ],
   "source": [
    "p_data = json.loads(json_data)\n",
    "p_data"
   ]
  },
  {
   "cell_type": "code",
   "execution_count": 9,
   "id": "ac32d5c7",
   "metadata": {},
   "outputs": [
    {
     "data": {
      "text/plain": [
       "dict"
      ]
     },
     "execution_count": 9,
     "metadata": {},
     "output_type": "execute_result"
    }
   ],
   "source": [
    "type(p_data)"
   ]
  },
  {
   "cell_type": "code",
   "execution_count": null,
   "id": "00ce311b",
   "metadata": {},
   "outputs": [],
   "source": []
  },
  {
   "cell_type": "code",
   "execution_count": 21,
   "id": "98192f3c",
   "metadata": {},
   "outputs": [],
   "source": [
    "xml_data = '''<?xml version='1.0' encoding='UTF-8' ?>\n",
    "<사용자정보>\n",
    "    <이름>홍길동</이름>\n",
    "    <나이>25</나이>\n",
    "    <거주지>서울</거주지>\n",
    "    <신체정보>\n",
    "        <키 unit='cm'>175.4</키>\n",
    "        <몸무게 unit='kg'>71.2</몸무게>\n",
    "    </신체정보>\n",
    "    <취미>등산</취미>\n",
    "    <취미>자전거타기</취미>\n",
    "    <취미>독서</취미>\n",
    "</사용자정보>\\\n",
    "'''"
   ]
  },
  {
   "cell_type": "code",
   "execution_count": 22,
   "id": "197f8c2c",
   "metadata": {},
   "outputs": [
    {
     "name": "stdout",
     "output_type": "stream",
     "text": [
      "<?xml version='1.0' encoding='UTF-8' ?>\n",
      "<사용자정보>\n",
      "    <이름>홍길동</이름>\n",
      "    <나이>25</나이>\n",
      "    <거주지>서울</거주지>\n",
      "    <신체정보>\n",
      "        <키 unit='cm'>175.4</키>\n",
      "        <몸무게 unit='kg'>71.2</몸무게>\n",
      "    </신체정보>\n",
      "    <취미>등산</취미>\n",
      "    <취미>자전거타기</취미>\n",
      "    <취미>독서</취미>\n",
      "</사용자정보>\n"
     ]
    }
   ],
   "source": [
    "print(xml_data)"
   ]
  },
  {
   "cell_type": "code",
   "execution_count": 23,
   "id": "d79931d7",
   "metadata": {},
   "outputs": [],
   "source": [
    "dict_data = xmltodict.parse(xml_data, xml_attribs=True)"
   ]
  },
  {
   "cell_type": "code",
   "execution_count": 24,
   "id": "470aa677",
   "metadata": {},
   "outputs": [
    {
     "data": {
      "text/plain": [
       "OrderedDict([('사용자정보',\n",
       "              OrderedDict([('이름', '홍길동'),\n",
       "                           ('나이', '25'),\n",
       "                           ('거주지', '서울'),\n",
       "                           ('신체정보',\n",
       "                            OrderedDict([('키',\n",
       "                                          OrderedDict([('@unit', 'cm'),\n",
       "                                                       ('#text', '175.4')])),\n",
       "                                         ('몸무게',\n",
       "                                          OrderedDict([('@unit', 'kg'),\n",
       "                                                       ('#text', '71.2')]))])),\n",
       "                           ('취미', ['등산', '자전거타기', '독서'])]))])"
      ]
     },
     "execution_count": 24,
     "metadata": {},
     "output_type": "execute_result"
    }
   ],
   "source": [
    "dict_data"
   ]
  },
  {
   "cell_type": "code",
   "execution_count": 25,
   "id": "b66e3e50",
   "metadata": {},
   "outputs": [
    {
     "data": {
      "text/plain": [
       "'홍길동'"
      ]
     },
     "execution_count": 25,
     "metadata": {},
     "output_type": "execute_result"
    }
   ],
   "source": [
    "dict_data['사용자정보']['이름']"
   ]
  },
  {
   "cell_type": "code",
   "execution_count": 26,
   "id": "1efa5288",
   "metadata": {},
   "outputs": [
    {
     "data": {
      "text/plain": [
       "OrderedDict([('키', OrderedDict([('@unit', 'cm'), ('#text', '175.4')])),\n",
       "             ('몸무게', OrderedDict([('@unit', 'kg'), ('#text', '71.2')]))])"
      ]
     },
     "execution_count": 26,
     "metadata": {},
     "output_type": "execute_result"
    }
   ],
   "source": [
    "dict_data['사용자정보']['신체정보']"
   ]
  },
  {
   "cell_type": "code",
   "execution_count": 27,
   "id": "2885feea",
   "metadata": {},
   "outputs": [
    {
     "data": {
      "text/plain": [
       "'cm'"
      ]
     },
     "execution_count": 27,
     "metadata": {},
     "output_type": "execute_result"
    }
   ],
   "source": [
    "dict_data['사용자정보']['신체정보']['키']['@unit']"
   ]
  },
  {
   "cell_type": "code",
   "execution_count": 28,
   "id": "71b24cf4",
   "metadata": {},
   "outputs": [
    {
     "data": {
      "text/plain": [
       "'175.4'"
      ]
     },
     "execution_count": 28,
     "metadata": {},
     "output_type": "execute_result"
    }
   ],
   "source": [
    "dict_data['사용자정보']['신체정보']['키']['#text']"
   ]
  },
  {
   "cell_type": "code",
   "execution_count": null,
   "id": "f141f2fb",
   "metadata": {},
   "outputs": [],
   "source": []
  }
 ],
 "metadata": {
  "kernelspec": {
   "display_name": "Python 3",
   "language": "python",
   "name": "python3"
  },
  "language_info": {
   "codemirror_mode": {
    "name": "ipython",
    "version": 3
   },
   "file_extension": ".py",
   "mimetype": "text/x-python",
   "name": "python",
   "nbconvert_exporter": "python",
   "pygments_lexer": "ipython3",
   "version": "3.9.1"
  }
 },
 "nbformat": 4,
 "nbformat_minor": 5
}
