{
 "cells": [
  {
   "cell_type": "code",
   "execution_count": null,
   "id": "limited-celebrity",
   "metadata": {},
   "outputs": [],
   "source": [
    "class Bicycle():\n",
    "    \n",
    "    def __init__(self, wheel_size=60, color=\"black\"):\n",
    "        self.wheel_size = wheel_size\n",
    "        self.color = color\n",
    "        \n",
    "    def move(self, speed):\n",
    "        print('자전거: 시속 {}킬로미터로 전진'.format(speed))\n",
    "        \n",
    "    def turn(self, direction):\n",
    "        print('자전거 {}회전'.format(direction))\n",
    "        \n",
    "    def stop(self):\n",
    "        print('자전거: ({}, {}) 정지'.format(self.wheel_size, self.color))\n",
    "                "
   ]
  },
  {
   "cell_type": "code",
   "execution_count": null,
   "id": "excessive-thesis",
   "metadata": {},
   "outputs": [],
   "source": [
    "bicycle = Bicycle(26, 'red')\n",
    "print(bicycle.wheel_size, bicycle.color)"
   ]
  },
  {
   "cell_type": "code",
   "execution_count": null,
   "id": "overhead-array",
   "metadata": {},
   "outputs": [],
   "source": [
    "bicycle.move(25)\n",
    "bicycle.turn('우')\n",
    "bicycle.stop()"
   ]
  },
  {
   "cell_type": "code",
   "execution_count": null,
   "id": "heavy-youth",
   "metadata": {},
   "outputs": [],
   "source": [
    "import class"
   ]
  },
  {
   "cell_type": "code",
   "execution_count": null,
   "id": "prostate-embassy",
   "metadata": {},
   "outputs": [],
   "source": [
    "from class import Bicycle\n"
   ]
  },
  {
   "cell_type": "code",
   "execution_count": null,
   "id": "comprehensive-girlfriend",
   "metadata": {},
   "outputs": [],
   "source": [
    "%%writefile my_first_module.py\n",
    "## file name: my_first_module.py\n",
    "def my_function():\n",
    "    print('This is my first module')\n",
    "    print('나의 첫 모듈입니다')"
   ]
  },
  {
   "cell_type": "code",
   "execution_count": null,
   "id": "excessive-license",
   "metadata": {},
   "outputs": [],
   "source": [
    "from my_first_module import my_function"
   ]
  },
  {
   "cell_type": "code",
   "execution_count": null,
   "id": "recreational-footage",
   "metadata": {},
   "outputs": [],
   "source": [
    "my_function()\n"
   ]
  },
  {
   "cell_type": "code",
   "execution_count": null,
   "id": "obvious-dover",
   "metadata": {},
   "outputs": [],
   "source": [
    "import  my_first_module"
   ]
  },
  {
   "cell_type": "code",
   "execution_count": null,
   "id": "cubic-potential",
   "metadata": {},
   "outputs": [],
   "source": [
    "my_first_module.my_function()"
   ]
  },
  {
   "cell_type": "code",
   "execution_count": null,
   "id": "ethical-annex",
   "metadata": {},
   "outputs": [],
   "source": [
    "%%writefile modules/my_area.py\n",
    "PI =  3.14\n",
    "def square_area(a):\n",
    "    return a **2\n",
    "\n",
    "def circle_area(r):\n",
    "    return PI*r**2\n"
   ]
  },
  {
   "cell_type": "code",
   "execution_count": null,
   "id": "chief-treatment",
   "metadata": {},
   "outputs": [],
   "source": [
    "import modules.my_area as my"
   ]
  },
  {
   "cell_type": "code",
   "execution_count": null,
   "id": "cultural-tactics",
   "metadata": {},
   "outputs": [],
   "source": [
    "my.square_area(10)"
   ]
  },
  {
   "cell_type": "code",
   "execution_count": null,
   "id": "political-recommendation",
   "metadata": {},
   "outputs": [],
   "source": [
    "my.PI"
   ]
  },
  {
   "cell_type": "code",
   "execution_count": 1,
   "id": "addressed-environment",
   "metadata": {},
   "outputs": [
    {
     "name": "stdout",
     "output_type": "stream",
     "text": [
      "Overwriting my_module_test1.py\n"
     ]
    }
   ],
   "source": [
    "%%writefile my_module_test1.py\n",
    "# file name : my+modulw_test1.py\n",
    "\n",
    "def func(a):\n",
    "    print('입력 숫자', a)\n",
    "    \n",
    "func(3)"
   ]
  },
  {
   "cell_type": "code",
   "execution_count": 2,
   "id": "heavy-musical",
   "metadata": {},
   "outputs": [
    {
     "name": "stdout",
     "output_type": "stream",
     "text": [
      "입력 숫자 3\n"
     ]
    }
   ],
   "source": [
    "import my_module_test1"
   ]
  },
  {
   "cell_type": "code",
   "execution_count": 3,
   "id": "descending-playing",
   "metadata": {},
   "outputs": [],
   "source": [
    "import my_module_test1"
   ]
  },
  {
   "cell_type": "code",
   "execution_count": 4,
   "id": "nervous-filename",
   "metadata": {},
   "outputs": [],
   "source": [
    "import my_module_test1"
   ]
  },
  {
   "cell_type": "code",
   "execution_count": 5,
   "id": "published-projection",
   "metadata": {},
   "outputs": [
    {
     "name": "stdout",
     "output_type": "stream",
     "text": [
      "입력 숫자 3\n"
     ]
    }
   ],
   "source": [
    "%run my_module_test1.py"
   ]
  },
  {
   "cell_type": "code",
   "execution_count": 6,
   "id": "inner-wages",
   "metadata": {},
   "outputs": [
    {
     "name": "stdout",
     "output_type": "stream",
     "text": [
      "입력 숫자 3\n"
     ]
    }
   ],
   "source": [
    "%run my_module_test1.py"
   ]
  },
  {
   "cell_type": "code",
   "execution_count": 7,
   "id": "alleged-premium",
   "metadata": {},
   "outputs": [
    {
     "name": "stdout",
     "output_type": "stream",
     "text": [
      "입력 숫자 3\n"
     ]
    }
   ],
   "source": [
    "%run my_module_test1.py"
   ]
  },
  {
   "cell_type": "code",
   "execution_count": null,
   "id": "comic-tower",
   "metadata": {},
   "outputs": [],
   "source": []
  }
 ],
 "metadata": {
  "kernelspec": {
   "display_name": "Python 3",
   "language": "python",
   "name": "python3"
  },
  "language_info": {
   "codemirror_mode": {
    "name": "ipython",
    "version": 3
   },
   "file_extension": ".py",
   "mimetype": "text/x-python",
   "name": "python",
   "nbconvert_exporter": "python",
   "pygments_lexer": "ipython3",
   "version": "3.9.1"
  }
 },
 "nbformat": 4,
 "nbformat_minor": 5
}
