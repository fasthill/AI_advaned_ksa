{
 "cells": [
  {
   "cell_type": "code",
   "execution_count": 19,
   "id": "limited-celebrity",
   "metadata": {},
   "outputs": [],
   "source": [
    "class Bicycle():\n",
    "    \n",
    "    def __init__(self, wheel_size=60, color=\"black\"):\n",
    "        self.wheel_size = wheel_size\n",
    "        self.color = color\n",
    "        \n",
    "    def move(self, speed):\n",
    "        print('자전거: 시속 {}킬로미터로 전진'.format(speed))\n",
    "        \n",
    "    def turn(self, direction):\n",
    "        print('자전거 {}회전'.format(direction))\n",
    "        \n",
    "    def stop(self):\n",
    "        print('자전거: ({}, {}) 정지'.format(self.wheel_size, self.color))\n",
    "                "
   ]
  },
  {
   "cell_type": "code",
   "execution_count": 24,
   "id": "excessive-thesis",
   "metadata": {},
   "outputs": [
    {
     "name": "stdout",
     "output_type": "stream",
     "text": [
      "26 red\n"
     ]
    }
   ],
   "source": [
    "bicycle = Bicycle(26, 'red')\n",
    "print(bicycle.wheel_size, bicycle.color)"
   ]
  },
  {
   "cell_type": "code",
   "execution_count": 26,
   "id": "overhead-array",
   "metadata": {},
   "outputs": [
    {
     "name": "stdout",
     "output_type": "stream",
     "text": [
      "자전거: 시속 25킬로미터로 전진\n",
      "자전거 우회전\n",
      "자전거: (26, red) 정지\n"
     ]
    }
   ],
   "source": [
    "bicycle.move(25)\n",
    "bicycle.turn('우')\n",
    "bicycle.stop()"
   ]
  },
  {
   "cell_type": "code",
   "execution_count": null,
   "id": "heavy-youth",
   "metadata": {},
   "outputs": [],
   "source": []
  }
 ],
 "metadata": {
  "kernelspec": {
   "display_name": "Python 3",
   "language": "python",
   "name": "python3"
  },
  "language_info": {
   "codemirror_mode": {
    "name": "ipython",
    "version": 3
   },
   "file_extension": ".py",
   "mimetype": "text/x-python",
   "name": "python",
   "nbconvert_exporter": "python",
   "pygments_lexer": "ipython3",
   "version": "3.9.1"
  }
 },
 "nbformat": 4,
 "nbformat_minor": 5
}
