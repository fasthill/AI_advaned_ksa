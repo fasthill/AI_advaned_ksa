{
  "cells": [
    {
      "cell_type": "markdown",
      "metadata": {
        "id": "view-in-github",
        "colab_type": "text"
      },
      "source": [
        "<a href=\"https://colab.research.google.com/github/fasthill/AI_advaned_ksa/blob/main/tree/main/deeplearning/notebooks/chap_18_rnn_%EC%97%B0%EC%8A%B5.ipynb\" target=\"_parent\"><img src=\"https://colab.research.google.com/assets/colab-badge.svg\" alt=\"Open In Colab\"/></a>"
      ]
    },
    {
      "cell_type": "code",
      "source": [
        "from tensorflow.keras.datasets import reuters, imdb\n",
        "from tensorflow.keras.preprocessing.sequence import pad_sequences\n",
        "from tensorflow.keras.utils import to_categorical\n",
        "from tensorflow.keras.layers import Dense, Dropout, Conv1D, Conv2D, MaxPooling1D, MaxPooling2D, Embedding, LSTM, SimpleRNN\n",
        "from tensorflow.keras.models import Sequential\n",
        "from tensorflow.keras.callbacks import ModelCheckpoint, EarlyStopping\n",
        "from tensorflow.keras.optimizers import Adam"
      ],
      "metadata": {
        "id": "ZeLLE56FCo8h"
      },
      "id": "ZeLLE56FCo8h",
      "execution_count": 21,
      "outputs": []
    },
    {
      "cell_type": "code",
      "source": [
        "import numpy as np\n",
        "import matplotlib.pyplot as plt"
      ],
      "metadata": {
        "id": "iFLRcfU0DY7t"
      },
      "id": "iFLRcfU0DY7t",
      "execution_count": 4,
      "outputs": []
    },
    {
      "cell_type": "code",
      "source": [
        "(X_train, Y_train), (X_test, Y_test) = reuters.load_data(num_words=1000, test_split=0.2)"
      ],
      "metadata": {
        "colab": {
          "base_uri": "https://localhost:8080/"
        },
        "id": "0wX_yj7gDjN7",
        "outputId": "afa4cb41-183b-4e10-a201-ee13791d22db"
      },
      "id": "0wX_yj7gDjN7",
      "execution_count": 5,
      "outputs": [
        {
          "output_type": "stream",
          "name": "stdout",
          "text": [
            "Downloading data from https://storage.googleapis.com/tensorflow/tf-keras-datasets/reuters.npz\n",
            "2113536/2110848 [==============================] - 0s 0us/step\n",
            "2121728/2110848 [==============================] - 0s 0us/step\n"
          ]
        }
      ]
    },
    {
      "cell_type": "code",
      "execution_count": 12,
      "id": "3dd7f922",
      "metadata": {
        "id": "3dd7f922"
      },
      "outputs": [],
      "source": [
        "category = np.max(Y_train) + 1"
      ]
    },
    {
      "cell_type": "code",
      "execution_count": 13,
      "id": "3ff6a677",
      "metadata": {
        "id": "3ff6a677",
        "outputId": "91923e8a-c839-4e02-ddb8-5cc35cf9cc3f",
        "colab": {
          "base_uri": "https://localhost:8080/"
        }
      },
      "outputs": [
        {
          "output_type": "stream",
          "name": "stdout",
          "text": [
            "46 카테고리\n",
            "8982 학습용 뉴스 기사\n",
            "2246 테스트용 뉴스 기사\n",
            "[1, 2, 2, 8, 43, 10, 447, 5, 25, 207, 270, 5, 2, 111, 16, 369, 186, 90, 67, 7, 89, 5, 19, 102, 6, 19, 124, 15, 90, 67, 84, 22, 482, 26, 7, 48, 4, 49, 8, 864, 39, 209, 154, 6, 151, 6, 83, 11, 15, 22, 155, 11, 15, 7, 48, 9, 2, 2, 504, 6, 258, 6, 272, 11, 15, 22, 134, 44, 11, 15, 16, 8, 197, 2, 90, 67, 52, 29, 209, 30, 32, 132, 6, 109, 15, 17, 12]\n"
          ]
        }
      ],
      "source": [
        "print(category, '카테고리')\n",
        "print(len(X_train), '학습용 뉴스 기사')\n",
        "print(len(X_test), '테스트용 뉴스 기사')\n",
        "print(X_train[0])"
      ]
    },
    {
      "cell_type": "code",
      "source": [
        "x_train_seq = pad_sequences(X_train, maxlen=100)\n",
        "x_test_seq = pad_sequences(X_test, maxlen=100)"
      ],
      "metadata": {
        "id": "xAZoAUtFFTvS"
      },
      "id": "xAZoAUtFFTvS",
      "execution_count": 16,
      "outputs": []
    },
    {
      "cell_type": "code",
      "source": [
        "model = Sequential()\n",
        "model.add(Embedding(1000, 50, input_length=100))\n",
        "model.add(SimpleRNN(46, dropout=0.3))\n",
        "model.add(Dense(46, activation='softmax'))"
      ],
      "metadata": {
        "id": "3s6QudbYFTyV"
      },
      "id": "3s6QudbYFTyV",
      "execution_count": 43,
      "outputs": []
    },
    {
      "cell_type": "code",
      "source": [
        "early_stopping_cb = EarlyStopping(patience=10, restore_best_weights=True)\n",
        "checkout_cb = ModelCheckpoint('best_model.h5', save_best_only=True)"
      ],
      "metadata": {
        "id": "CRxwuT_mFT1U"
      },
      "id": "CRxwuT_mFT1U",
      "execution_count": 42,
      "outputs": []
    },
    {
      "cell_type": "code",
      "source": [
        "adam = Adam(learning_rate=0.0001)"
      ],
      "metadata": {
        "id": "Fv7wrCJ2H-Lp"
      },
      "id": "Fv7wrCJ2H-Lp",
      "execution_count": 44,
      "outputs": []
    },
    {
      "cell_type": "code",
      "source": [
        "model.compile(optimizer=adam, loss='sparse_categorical_crossentropy', metrics=['accuracy'])"
      ],
      "metadata": {
        "id": "BKNEN92FFT4e"
      },
      "id": "BKNEN92FFT4e",
      "execution_count": 45,
      "outputs": []
    },
    {
      "cell_type": "code",
      "source": [
        "history = model.fit(x_train_seq, Y_train,\n",
        "                    epochs=100, batch_size=300,\n",
        "                    validation_split=0.2,\n",
        "                    callbacks=[checkout_cb, early_stopping_cb],\n",
        "                    verbose=1)"
      ],
      "metadata": {
        "colab": {
          "base_uri": "https://localhost:8080/"
        },
        "id": "rxeojWOsFT7q",
        "outputId": "5ae608b8-2272-49fd-aff2-a9ed36ee357d"
      },
      "id": "rxeojWOsFT7q",
      "execution_count": 46,
      "outputs": [
        {
          "output_type": "stream",
          "name": "stdout",
          "text": [
            "Epoch 1/100\n",
            "24/24 [==============================] - 4s 117ms/step - loss: 3.8021 - accuracy: 0.0341 - val_loss: 3.7651 - val_accuracy: 0.0523\n",
            "Epoch 2/100\n",
            "24/24 [==============================] - 2s 93ms/step - loss: 3.7196 - accuracy: 0.1029 - val_loss: 3.6585 - val_accuracy: 0.1814\n",
            "Epoch 3/100\n",
            "24/24 [==============================] - 2s 93ms/step - loss: 3.5750 - accuracy: 0.2327 - val_loss: 3.4672 - val_accuracy: 0.2315\n",
            "Epoch 4/100\n",
            "24/24 [==============================] - 2s 95ms/step - loss: 3.3734 - accuracy: 0.2502 - val_loss: 3.2549 - val_accuracy: 0.2582\n",
            "Epoch 5/100\n",
            "24/24 [==============================] - 2s 95ms/step - loss: 3.1769 - accuracy: 0.3042 - val_loss: 3.0735 - val_accuracy: 0.3066\n",
            "Epoch 6/100\n",
            "24/24 [==============================] - 2s 95ms/step - loss: 3.0133 - accuracy: 0.3692 - val_loss: 2.9229 - val_accuracy: 0.4380\n",
            "Epoch 7/100\n",
            "24/24 [==============================] - 2s 92ms/step - loss: 2.8785 - accuracy: 0.4205 - val_loss: 2.8023 - val_accuracy: 0.4558\n",
            "Epoch 8/100\n",
            "24/24 [==============================] - 2s 92ms/step - loss: 2.7628 - accuracy: 0.4548 - val_loss: 2.7027 - val_accuracy: 0.4324\n",
            "Epoch 9/100\n",
            "24/24 [==============================] - 2s 94ms/step - loss: 2.6702 - accuracy: 0.4708 - val_loss: 2.6143 - val_accuracy: 0.4869\n",
            "Epoch 10/100\n",
            "24/24 [==============================] - 2s 94ms/step - loss: 2.5885 - accuracy: 0.4841 - val_loss: 2.5342 - val_accuracy: 0.5003\n",
            "Epoch 11/100\n",
            "24/24 [==============================] - 2s 93ms/step - loss: 2.5184 - accuracy: 0.4932 - val_loss: 2.4772 - val_accuracy: 0.5086\n",
            "Epoch 12/100\n",
            "24/24 [==============================] - 2s 93ms/step - loss: 2.4595 - accuracy: 0.4919 - val_loss: 2.4187 - val_accuracy: 0.5175\n",
            "Epoch 13/100\n",
            "24/24 [==============================] - 2s 92ms/step - loss: 2.4025 - accuracy: 0.5051 - val_loss: 2.3649 - val_accuracy: 0.5170\n",
            "Epoch 14/100\n",
            "24/24 [==============================] - 2s 95ms/step - loss: 2.3528 - accuracy: 0.5100 - val_loss: 2.3375 - val_accuracy: 0.5014\n",
            "Epoch 15/100\n",
            "24/24 [==============================] - 2s 94ms/step - loss: 2.3154 - accuracy: 0.5081 - val_loss: 2.2870 - val_accuracy: 0.5181\n",
            "Epoch 16/100\n",
            "24/24 [==============================] - 2s 92ms/step - loss: 2.2747 - accuracy: 0.5123 - val_loss: 2.2581 - val_accuracy: 0.5164\n",
            "Epoch 17/100\n",
            "24/24 [==============================] - 2s 93ms/step - loss: 2.2398 - accuracy: 0.5158 - val_loss: 2.2289 - val_accuracy: 0.5175\n",
            "Epoch 18/100\n",
            "24/24 [==============================] - 2s 94ms/step - loss: 2.2106 - accuracy: 0.5204 - val_loss: 2.1967 - val_accuracy: 0.5237\n",
            "Epoch 19/100\n",
            "24/24 [==============================] - 2s 95ms/step - loss: 2.1757 - accuracy: 0.5218 - val_loss: 2.1746 - val_accuracy: 0.5237\n",
            "Epoch 20/100\n",
            "24/24 [==============================] - 2s 95ms/step - loss: 2.1488 - accuracy: 0.5255 - val_loss: 2.1453 - val_accuracy: 0.5237\n",
            "Epoch 21/100\n",
            "24/24 [==============================] - 2s 93ms/step - loss: 2.1284 - accuracy: 0.5235 - val_loss: 2.1311 - val_accuracy: 0.5225\n",
            "Epoch 22/100\n",
            "24/24 [==============================] - 2s 92ms/step - loss: 2.1094 - accuracy: 0.5232 - val_loss: 2.1125 - val_accuracy: 0.5203\n",
            "Epoch 23/100\n",
            "24/24 [==============================] - 2s 96ms/step - loss: 2.0874 - accuracy: 0.5257 - val_loss: 2.0903 - val_accuracy: 0.5242\n",
            "Epoch 24/100\n",
            "24/24 [==============================] - 2s 94ms/step - loss: 2.0657 - accuracy: 0.5253 - val_loss: 2.0742 - val_accuracy: 0.5292\n",
            "Epoch 25/100\n",
            "24/24 [==============================] - 2s 93ms/step - loss: 2.0456 - accuracy: 0.5282 - val_loss: 2.0664 - val_accuracy: 0.5259\n",
            "Epoch 26/100\n",
            "24/24 [==============================] - 2s 92ms/step - loss: 2.0330 - accuracy: 0.5273 - val_loss: 2.0635 - val_accuracy: 0.5147\n",
            "Epoch 27/100\n",
            "24/24 [==============================] - 2s 93ms/step - loss: 2.0147 - accuracy: 0.5335 - val_loss: 2.0449 - val_accuracy: 0.5275\n",
            "Epoch 28/100\n",
            "24/24 [==============================] - 2s 94ms/step - loss: 2.0021 - accuracy: 0.5308 - val_loss: 2.0252 - val_accuracy: 0.5242\n",
            "Epoch 29/100\n",
            "24/24 [==============================] - 2s 94ms/step - loss: 1.9870 - accuracy: 0.5305 - val_loss: 2.0116 - val_accuracy: 0.5287\n",
            "Epoch 30/100\n",
            "24/24 [==============================] - 2s 94ms/step - loss: 1.9710 - accuracy: 0.5361 - val_loss: 2.0049 - val_accuracy: 0.5253\n",
            "Epoch 31/100\n",
            "24/24 [==============================] - 2s 96ms/step - loss: 1.9572 - accuracy: 0.5390 - val_loss: 1.9932 - val_accuracy: 0.5253\n",
            "Epoch 32/100\n",
            "24/24 [==============================] - 2s 96ms/step - loss: 1.9472 - accuracy: 0.5396 - val_loss: 1.9799 - val_accuracy: 0.5264\n",
            "Epoch 33/100\n",
            "24/24 [==============================] - 2s 95ms/step - loss: 1.9318 - accuracy: 0.5403 - val_loss: 1.9748 - val_accuracy: 0.5314\n",
            "Epoch 34/100\n",
            "24/24 [==============================] - 2s 93ms/step - loss: 1.9241 - accuracy: 0.5425 - val_loss: 1.9609 - val_accuracy: 0.5314\n",
            "Epoch 35/100\n",
            "24/24 [==============================] - 2s 95ms/step - loss: 1.9103 - accuracy: 0.5464 - val_loss: 1.9487 - val_accuracy: 0.5353\n",
            "Epoch 36/100\n",
            "24/24 [==============================] - 2s 97ms/step - loss: 1.8957 - accuracy: 0.5495 - val_loss: 1.9469 - val_accuracy: 0.5409\n",
            "Epoch 37/100\n",
            "24/24 [==============================] - 2s 97ms/step - loss: 1.8875 - accuracy: 0.5510 - val_loss: 1.9459 - val_accuracy: 0.5259\n",
            "Epoch 38/100\n",
            "24/24 [==============================] - 2s 95ms/step - loss: 1.8828 - accuracy: 0.5491 - val_loss: 1.9206 - val_accuracy: 0.5387\n",
            "Epoch 39/100\n",
            "24/24 [==============================] - 2s 96ms/step - loss: 1.8648 - accuracy: 0.5567 - val_loss: 1.9169 - val_accuracy: 0.5381\n",
            "Epoch 40/100\n",
            "24/24 [==============================] - 2s 94ms/step - loss: 1.8597 - accuracy: 0.5538 - val_loss: 1.9049 - val_accuracy: 0.5448\n",
            "Epoch 41/100\n",
            "24/24 [==============================] - 2s 100ms/step - loss: 1.8496 - accuracy: 0.5557 - val_loss: 1.8993 - val_accuracy: 0.5470\n",
            "Epoch 42/100\n",
            "24/24 [==============================] - 2s 97ms/step - loss: 1.8313 - accuracy: 0.5627 - val_loss: 1.8925 - val_accuracy: 0.5431\n",
            "Epoch 43/100\n",
            "24/24 [==============================] - 2s 95ms/step - loss: 1.8237 - accuracy: 0.5614 - val_loss: 1.8815 - val_accuracy: 0.5448\n",
            "Epoch 44/100\n",
            "24/24 [==============================] - 2s 95ms/step - loss: 1.8171 - accuracy: 0.5649 - val_loss: 1.8843 - val_accuracy: 0.5537\n",
            "Epoch 45/100\n",
            "24/24 [==============================] - 2s 97ms/step - loss: 1.8046 - accuracy: 0.5663 - val_loss: 1.8680 - val_accuracy: 0.5498\n",
            "Epoch 46/100\n",
            "24/24 [==============================] - 2s 98ms/step - loss: 1.7956 - accuracy: 0.5684 - val_loss: 1.8639 - val_accuracy: 0.5509\n",
            "Epoch 47/100\n",
            "24/24 [==============================] - 2s 99ms/step - loss: 1.7890 - accuracy: 0.5708 - val_loss: 1.8533 - val_accuracy: 0.5509\n",
            "Epoch 48/100\n",
            "24/24 [==============================] - 2s 98ms/step - loss: 1.7742 - accuracy: 0.5768 - val_loss: 1.8481 - val_accuracy: 0.5520\n",
            "Epoch 49/100\n",
            "24/24 [==============================] - 2s 99ms/step - loss: 1.7657 - accuracy: 0.5748 - val_loss: 1.8408 - val_accuracy: 0.5548\n",
            "Epoch 50/100\n",
            "24/24 [==============================] - 2s 97ms/step - loss: 1.7583 - accuracy: 0.5744 - val_loss: 1.8313 - val_accuracy: 0.5548\n",
            "Epoch 51/100\n",
            "24/24 [==============================] - 2s 93ms/step - loss: 1.7518 - accuracy: 0.5763 - val_loss: 1.8363 - val_accuracy: 0.5554\n",
            "Epoch 52/100\n",
            "24/24 [==============================] - 2s 94ms/step - loss: 1.7469 - accuracy: 0.5733 - val_loss: 1.8291 - val_accuracy: 0.5582\n",
            "Epoch 53/100\n",
            "24/24 [==============================] - 2s 94ms/step - loss: 1.7338 - accuracy: 0.5809 - val_loss: 1.8140 - val_accuracy: 0.5570\n",
            "Epoch 54/100\n",
            "24/24 [==============================] - 2s 95ms/step - loss: 1.7256 - accuracy: 0.5811 - val_loss: 1.8156 - val_accuracy: 0.5537\n",
            "Epoch 55/100\n",
            "24/24 [==============================] - 2s 94ms/step - loss: 1.7252 - accuracy: 0.5827 - val_loss: 1.8026 - val_accuracy: 0.5593\n",
            "Epoch 56/100\n",
            "24/24 [==============================] - 2s 94ms/step - loss: 1.7090 - accuracy: 0.5791 - val_loss: 1.8089 - val_accuracy: 0.5582\n",
            "Epoch 57/100\n",
            "24/24 [==============================] - 2s 97ms/step - loss: 1.7044 - accuracy: 0.5823 - val_loss: 1.7947 - val_accuracy: 0.5559\n",
            "Epoch 58/100\n",
            "24/24 [==============================] - 2s 98ms/step - loss: 1.7018 - accuracy: 0.5823 - val_loss: 1.7921 - val_accuracy: 0.5587\n",
            "Epoch 59/100\n",
            "24/24 [==============================] - 2s 94ms/step - loss: 1.6879 - accuracy: 0.5866 - val_loss: 1.7860 - val_accuracy: 0.5593\n",
            "Epoch 60/100\n",
            "24/24 [==============================] - 2s 93ms/step - loss: 1.6821 - accuracy: 0.5858 - val_loss: 1.7908 - val_accuracy: 0.5554\n",
            "Epoch 61/100\n",
            "24/24 [==============================] - 2s 94ms/step - loss: 1.6867 - accuracy: 0.5827 - val_loss: 1.7781 - val_accuracy: 0.5576\n",
            "Epoch 62/100\n",
            "24/24 [==============================] - 2s 95ms/step - loss: 1.6800 - accuracy: 0.5861 - val_loss: 1.7761 - val_accuracy: 0.5582\n",
            "Epoch 63/100\n",
            "24/24 [==============================] - 2s 94ms/step - loss: 1.6669 - accuracy: 0.5852 - val_loss: 1.7765 - val_accuracy: 0.5570\n",
            "Epoch 64/100\n",
            "24/24 [==============================] - 2s 94ms/step - loss: 1.6591 - accuracy: 0.5896 - val_loss: 1.7698 - val_accuracy: 0.5587\n",
            "Epoch 65/100\n",
            "24/24 [==============================] - 2s 96ms/step - loss: 1.6546 - accuracy: 0.5889 - val_loss: 1.7634 - val_accuracy: 0.5609\n",
            "Epoch 66/100\n",
            "24/24 [==============================] - 2s 95ms/step - loss: 1.6445 - accuracy: 0.5887 - val_loss: 1.7608 - val_accuracy: 0.5620\n",
            "Epoch 67/100\n",
            "24/24 [==============================] - 2s 95ms/step - loss: 1.6441 - accuracy: 0.5904 - val_loss: 1.7692 - val_accuracy: 0.5531\n",
            "Epoch 68/100\n",
            "24/24 [==============================] - 2s 94ms/step - loss: 1.6370 - accuracy: 0.5901 - val_loss: 1.7547 - val_accuracy: 0.5615\n",
            "Epoch 69/100\n",
            "24/24 [==============================] - 2s 93ms/step - loss: 1.6312 - accuracy: 0.5894 - val_loss: 1.7628 - val_accuracy: 0.5598\n",
            "Epoch 70/100\n",
            "24/24 [==============================] - 2s 93ms/step - loss: 1.6262 - accuracy: 0.5928 - val_loss: 1.7687 - val_accuracy: 0.5515\n",
            "Epoch 71/100\n",
            "24/24 [==============================] - 2s 95ms/step - loss: 1.6181 - accuracy: 0.5939 - val_loss: 1.7529 - val_accuracy: 0.5615\n",
            "Epoch 72/100\n",
            "24/24 [==============================] - 2s 97ms/step - loss: 1.6125 - accuracy: 0.5961 - val_loss: 1.7517 - val_accuracy: 0.5615\n",
            "Epoch 73/100\n",
            "24/24 [==============================] - 2s 95ms/step - loss: 1.6101 - accuracy: 0.5936 - val_loss: 1.7461 - val_accuracy: 0.5609\n",
            "Epoch 74/100\n",
            "24/24 [==============================] - 2s 99ms/step - loss: 1.6020 - accuracy: 0.5969 - val_loss: 1.7415 - val_accuracy: 0.5626\n",
            "Epoch 75/100\n",
            "24/24 [==============================] - 2s 95ms/step - loss: 1.6015 - accuracy: 0.5950 - val_loss: 1.7549 - val_accuracy: 0.5570\n",
            "Epoch 76/100\n",
            "24/24 [==============================] - 2s 95ms/step - loss: 1.5930 - accuracy: 0.5979 - val_loss: 1.7425 - val_accuracy: 0.5620\n",
            "Epoch 77/100\n",
            "24/24 [==============================] - 2s 93ms/step - loss: 1.5959 - accuracy: 0.5971 - val_loss: 1.7470 - val_accuracy: 0.5587\n",
            "Epoch 78/100\n",
            "24/24 [==============================] - 2s 94ms/step - loss: 1.5842 - accuracy: 0.6004 - val_loss: 1.7385 - val_accuracy: 0.5637\n",
            "Epoch 79/100\n",
            "24/24 [==============================] - 2s 94ms/step - loss: 1.5812 - accuracy: 0.5976 - val_loss: 1.7409 - val_accuracy: 0.5615\n",
            "Epoch 80/100\n",
            "24/24 [==============================] - 2s 96ms/step - loss: 1.5830 - accuracy: 0.5999 - val_loss: 1.7353 - val_accuracy: 0.5665\n",
            "Epoch 81/100\n",
            "24/24 [==============================] - 2s 95ms/step - loss: 1.5702 - accuracy: 0.6004 - val_loss: 1.7394 - val_accuracy: 0.5648\n",
            "Epoch 82/100\n",
            "24/24 [==============================] - 2s 95ms/step - loss: 1.5714 - accuracy: 0.6040 - val_loss: 1.7346 - val_accuracy: 0.5665\n",
            "Epoch 83/100\n",
            "24/24 [==============================] - 2s 96ms/step - loss: 1.5678 - accuracy: 0.6017 - val_loss: 1.7308 - val_accuracy: 0.5659\n",
            "Epoch 84/100\n",
            "24/24 [==============================] - 2s 96ms/step - loss: 1.5556 - accuracy: 0.6032 - val_loss: 1.7308 - val_accuracy: 0.5632\n",
            "Epoch 85/100\n",
            "24/24 [==============================] - 2s 97ms/step - loss: 1.5515 - accuracy: 0.6051 - val_loss: 1.7301 - val_accuracy: 0.5648\n",
            "Epoch 86/100\n",
            "24/24 [==============================] - 2s 94ms/step - loss: 1.5473 - accuracy: 0.6054 - val_loss: 1.7265 - val_accuracy: 0.5665\n",
            "Epoch 87/100\n",
            "24/24 [==============================] - 2s 94ms/step - loss: 1.5469 - accuracy: 0.6049 - val_loss: 1.7239 - val_accuracy: 0.5665\n",
            "Epoch 88/100\n",
            "24/24 [==============================] - 2s 98ms/step - loss: 1.5389 - accuracy: 0.6057 - val_loss: 1.7228 - val_accuracy: 0.5682\n",
            "Epoch 89/100\n",
            "24/24 [==============================] - 2s 97ms/step - loss: 1.5410 - accuracy: 0.6029 - val_loss: 1.7287 - val_accuracy: 0.5654\n",
            "Epoch 90/100\n",
            "24/24 [==============================] - 2s 96ms/step - loss: 1.5332 - accuracy: 0.6077 - val_loss: 1.7305 - val_accuracy: 0.5637\n",
            "Epoch 91/100\n",
            "24/24 [==============================] - 2s 95ms/step - loss: 1.5341 - accuracy: 0.6074 - val_loss: 1.7209 - val_accuracy: 0.5682\n",
            "Epoch 92/100\n",
            "24/24 [==============================] - 2s 95ms/step - loss: 1.5251 - accuracy: 0.6102 - val_loss: 1.7202 - val_accuracy: 0.5698\n",
            "Epoch 93/100\n",
            "24/24 [==============================] - 2s 95ms/step - loss: 1.5253 - accuracy: 0.6089 - val_loss: 1.7210 - val_accuracy: 0.5710\n",
            "Epoch 94/100\n",
            "24/24 [==============================] - 2s 95ms/step - loss: 1.5214 - accuracy: 0.6081 - val_loss: 1.7206 - val_accuracy: 0.5659\n",
            "Epoch 95/100\n",
            "24/24 [==============================] - 2s 93ms/step - loss: 1.5144 - accuracy: 0.6135 - val_loss: 1.7210 - val_accuracy: 0.5671\n",
            "Epoch 96/100\n",
            "24/24 [==============================] - 2s 94ms/step - loss: 1.5105 - accuracy: 0.6117 - val_loss: 1.7209 - val_accuracy: 0.5665\n",
            "Epoch 97/100\n",
            "24/24 [==============================] - 2s 95ms/step - loss: 1.5112 - accuracy: 0.6109 - val_loss: 1.7328 - val_accuracy: 0.5710\n",
            "Epoch 98/100\n",
            "24/24 [==============================] - 2s 96ms/step - loss: 1.5103 - accuracy: 0.6121 - val_loss: 1.7239 - val_accuracy: 0.5659\n",
            "Epoch 99/100\n",
            "24/24 [==============================] - 2s 96ms/step - loss: 1.5041 - accuracy: 0.6132 - val_loss: 1.7212 - val_accuracy: 0.5626\n",
            "Epoch 100/100\n",
            "24/24 [==============================] - 2s 94ms/step - loss: 1.4996 - accuracy: 0.6141 - val_loss: 1.7233 - val_accuracy: 0.5632\n"
          ]
        }
      ]
    },
    {
      "cell_type": "code",
      "source": [
        "plt.plot(history.history['loss'], label='loss')\n",
        "plt.plot(history.history['val_loss'], label='val_loss')\n",
        "plt.xlabel('epoch')\n",
        "plt.ylabel('loss')\n",
        "plt.legend()\n",
        "plt.show()"
      ],
      "metadata": {
        "colab": {
          "base_uri": "https://localhost:8080/",
          "height": 278
        },
        "id": "rDJlHZPUFT-h",
        "outputId": "eee63c1a-c038-445a-a72e-066263c0a10b"
      },
      "id": "rDJlHZPUFT-h",
      "execution_count": 47,
      "outputs": [
        {
          "output_type": "display_data",
          "data": {
            "image/png": "[encoded data removed]",
            "text/plain": [
              "<Figure size 432x288 with 1 Axes>"
            ]
          },
          "metadata": {
            "needs_background": "light"
          }
        }
      ]
    },
    {
      "cell_type": "code",
      "source": [
        "print('\\n Test Accuracy: %.4f' %(model.evaluate(x_test_seq, Y_test)[1]))"
      ],
      "metadata": {
        "colab": {
          "base_uri": "https://localhost:8080/"
        },
        "id": "iFxScKKGFUBn",
        "outputId": "0b698795-3812-4c6d-878d-f58d120a6140"
      },
      "id": "iFxScKKGFUBn",
      "execution_count": 49,
      "outputs": [
        {
          "output_type": "stream",
          "name": "stdout",
          "text": [
            "71/71 [==============================] - 1s 7ms/step - loss: 1.7846 - accuracy: 0.5579\n",
            "\n",
            " Test Accuracy: 0.5579\n"
          ]
        }
      ]
    },
    {
      "cell_type": "code",
      "source": [
        "model2 = Sequential()\n",
        "model2.add(Embedding(1000, 50, input_length=100))\n",
        "model2.add(LSTM(46, dropout=0.3))\n",
        "model2.add(Dense(46, activation='softmax'))"
      ],
      "metadata": {
        "id": "B0DaU8CgJI-v"
      },
      "id": "B0DaU8CgJI-v",
      "execution_count": 50,
      "outputs": []
    },
    {
      "cell_type": "code",
      "source": [
        "model2.compile(optimizer=adam, loss='sparse_categorical_crossentropy', metrics=['accuracy'])"
      ],
      "metadata": {
        "id": "eaH4whH6JJCQ"
      },
      "id": "eaH4whH6JJCQ",
      "execution_count": 51,
      "outputs": []
    },
    {
      "cell_type": "code",
      "source": [
        "history = model2.fit(x_train_seq, Y_train,\n",
        "                    epochs=100, batch_size=300,\n",
        "                    validation_split=0.2,\n",
        "                    callbacks=[checkout_cb, early_stopping_cb],\n",
        "                    verbose=1)"
      ],
      "metadata": {
        "colab": {
          "base_uri": "https://localhost:8080/"
        },
        "id": "vgz4NQtmJJGy",
        "outputId": "66c41f1a-620a-4b11-f69a-bd02890c19b2"
      },
      "id": "vgz4NQtmJJGy",
      "execution_count": 52,
      "outputs": [
        {
          "output_type": "stream",
          "name": "stdout",
          "text": [
            "Epoch 1/100\n",
            "24/24 [==============================] - 8s 254ms/step - loss: 3.7552 - accuracy: 0.3008 - val_loss: 3.5025 - val_accuracy: 0.3450\n",
            "Epoch 2/100\n",
            "24/24 [==============================] - 6s 242ms/step - loss: 2.9448 - accuracy: 0.3534 - val_loss: 2.6494 - val_accuracy: 0.3450\n",
            "Epoch 3/100\n",
            "24/24 [==============================] - 6s 242ms/step - loss: 2.5447 - accuracy: 0.3534 - val_loss: 2.4862 - val_accuracy: 0.3450\n",
            "Epoch 4/100\n",
            "24/24 [==============================] - 5s 230ms/step - loss: 2.4578 - accuracy: 0.3534 - val_loss: 2.4428 - val_accuracy: 0.3450\n",
            "Epoch 5/100\n",
            "24/24 [==============================] - 6s 238ms/step - loss: 2.4314 - accuracy: 0.3534 - val_loss: 2.4259 - val_accuracy: 0.3450\n",
            "Epoch 6/100\n",
            "24/24 [==============================] - 5s 228ms/step - loss: 2.4195 - accuracy: 0.3534 - val_loss: 2.4166 - val_accuracy: 0.3450\n",
            "Epoch 7/100\n",
            "24/24 [==============================] - 5s 229ms/step - loss: 2.4117 - accuracy: 0.3534 - val_loss: 2.4090 - val_accuracy: 0.3450\n",
            "Epoch 8/100\n",
            "24/24 [==============================] - 5s 229ms/step - loss: 2.4018 - accuracy: 0.3534 - val_loss: 2.3923 - val_accuracy: 0.3450\n",
            "Epoch 9/100\n",
            "24/24 [==============================] - 5s 227ms/step - loss: 2.3657 - accuracy: 0.3534 - val_loss: 2.3417 - val_accuracy: 0.3450\n",
            "Epoch 10/100\n",
            "24/24 [==============================] - 6s 230ms/step - loss: 2.3120 - accuracy: 0.3534 - val_loss: 2.2827 - val_accuracy: 0.3450\n",
            "Epoch 11/100\n",
            "24/24 [==============================] - 6s 230ms/step - loss: 2.2461 - accuracy: 0.4180 - val_loss: 2.2073 - val_accuracy: 0.4797\n",
            "Epoch 12/100\n",
            "24/24 [==============================] - 6s 230ms/step - loss: 2.1646 - accuracy: 0.4821 - val_loss: 2.1343 - val_accuracy: 0.4769\n",
            "Epoch 13/100\n",
            "24/24 [==============================] - 5s 227ms/step - loss: 2.1078 - accuracy: 0.4932 - val_loss: 2.0796 - val_accuracy: 0.4986\n",
            "Epoch 14/100\n",
            "24/24 [==============================] - 5s 229ms/step - loss: 2.0609 - accuracy: 0.5054 - val_loss: 2.0416 - val_accuracy: 0.5103\n",
            "Epoch 15/100\n",
            "24/24 [==============================] - 5s 229ms/step - loss: 2.0307 - accuracy: 0.5088 - val_loss: 2.0230 - val_accuracy: 0.5131\n",
            "Epoch 16/100\n",
            "24/24 [==============================] - 5s 228ms/step - loss: 2.0051 - accuracy: 0.5104 - val_loss: 1.9951 - val_accuracy: 0.5175\n",
            "Epoch 17/100\n",
            "24/24 [==============================] - 5s 230ms/step - loss: 1.9771 - accuracy: 0.5105 - val_loss: 1.9661 - val_accuracy: 0.5181\n",
            "Epoch 18/100\n",
            "24/24 [==============================] - 6s 236ms/step - loss: 1.9516 - accuracy: 0.5147 - val_loss: 1.9387 - val_accuracy: 0.5170\n",
            "Epoch 19/100\n",
            "24/24 [==============================] - 5s 229ms/step - loss: 1.9254 - accuracy: 0.5137 - val_loss: 1.9159 - val_accuracy: 0.5153\n",
            "Epoch 20/100\n",
            "24/24 [==============================] - 5s 229ms/step - loss: 1.8947 - accuracy: 0.5183 - val_loss: 1.8957 - val_accuracy: 0.5170\n",
            "Epoch 21/100\n",
            "24/24 [==============================] - 6s 231ms/step - loss: 1.8689 - accuracy: 0.5201 - val_loss: 1.8737 - val_accuracy: 0.5070\n",
            "Epoch 22/100\n",
            "24/24 [==============================] - 6s 232ms/step - loss: 1.8540 - accuracy: 0.5201 - val_loss: 1.8541 - val_accuracy: 0.5186\n",
            "Epoch 23/100\n",
            "24/24 [==============================] - 5s 229ms/step - loss: 1.8300 - accuracy: 0.5403 - val_loss: 1.8431 - val_accuracy: 0.5309\n",
            "Epoch 24/100\n",
            "24/24 [==============================] - 6s 230ms/step - loss: 1.8134 - accuracy: 0.5567 - val_loss: 1.8223 - val_accuracy: 0.5526\n",
            "Epoch 25/100\n",
            "24/24 [==============================] - 5s 228ms/step - loss: 1.7974 - accuracy: 0.5624 - val_loss: 1.8202 - val_accuracy: 0.5520\n",
            "Epoch 26/100\n",
            "24/24 [==============================] - 6s 232ms/step - loss: 1.7774 - accuracy: 0.5658 - val_loss: 1.7963 - val_accuracy: 0.5604\n",
            "Epoch 27/100\n",
            "24/24 [==============================] - 5s 229ms/step - loss: 1.7683 - accuracy: 0.5651 - val_loss: 1.7874 - val_accuracy: 0.5598\n",
            "Epoch 28/100\n",
            "24/24 [==============================] - 6s 231ms/step - loss: 1.7571 - accuracy: 0.5684 - val_loss: 1.7817 - val_accuracy: 0.5576\n",
            "Epoch 29/100\n",
            "24/24 [==============================] - 5s 227ms/step - loss: 1.7492 - accuracy: 0.5678 - val_loss: 1.7710 - val_accuracy: 0.5632\n",
            "Epoch 30/100\n",
            "24/24 [==============================] - 5s 228ms/step - loss: 1.7372 - accuracy: 0.5684 - val_loss: 1.7634 - val_accuracy: 0.5615\n",
            "Epoch 31/100\n",
            "24/24 [==============================] - 5s 227ms/step - loss: 1.7311 - accuracy: 0.5678 - val_loss: 1.7562 - val_accuracy: 0.5615\n",
            "Epoch 32/100\n",
            "24/24 [==============================] - 5s 230ms/step - loss: 1.7197 - accuracy: 0.5695 - val_loss: 1.7571 - val_accuracy: 0.5593\n",
            "Epoch 33/100\n",
            "24/24 [==============================] - 5s 228ms/step - loss: 1.7122 - accuracy: 0.5692 - val_loss: 1.7465 - val_accuracy: 0.5626\n",
            "Epoch 34/100\n",
            "24/24 [==============================] - 5s 229ms/step - loss: 1.7067 - accuracy: 0.5706 - val_loss: 1.7357 - val_accuracy: 0.5648\n",
            "Epoch 35/100\n",
            "24/24 [==============================] - 5s 229ms/step - loss: 1.6963 - accuracy: 0.5724 - val_loss: 1.7339 - val_accuracy: 0.5598\n",
            "Epoch 36/100\n",
            "24/24 [==============================] - 5s 229ms/step - loss: 1.6921 - accuracy: 0.5719 - val_loss: 1.7277 - val_accuracy: 0.5643\n",
            "Epoch 37/100\n",
            "24/24 [==============================] - 6s 234ms/step - loss: 1.6846 - accuracy: 0.5737 - val_loss: 1.7234 - val_accuracy: 0.5632\n",
            "Epoch 38/100\n",
            "24/24 [==============================] - 5s 228ms/step - loss: 1.6804 - accuracy: 0.5727 - val_loss: 1.7190 - val_accuracy: 0.5632\n",
            "Epoch 39/100\n",
            "24/24 [==============================] - 6s 235ms/step - loss: 1.6726 - accuracy: 0.5740 - val_loss: 1.7189 - val_accuracy: 0.5643\n",
            "Epoch 40/100\n",
            "24/24 [==============================] - 6s 231ms/step - loss: 1.6703 - accuracy: 0.5747 - val_loss: 1.7117 - val_accuracy: 0.5676\n",
            "Epoch 41/100\n",
            "24/24 [==============================] - 6s 241ms/step - loss: 1.6643 - accuracy: 0.5772 - val_loss: 1.7092 - val_accuracy: 0.5654\n",
            "Epoch 42/100\n",
            "24/24 [==============================] - 6s 235ms/step - loss: 1.6631 - accuracy: 0.5773 - val_loss: 1.7037 - val_accuracy: 0.5654\n",
            "Epoch 43/100\n",
            "24/24 [==============================] - 6s 242ms/step - loss: 1.6561 - accuracy: 0.5798 - val_loss: 1.6971 - val_accuracy: 0.5682\n",
            "Epoch 44/100\n",
            "24/24 [==============================] - 6s 240ms/step - loss: 1.6529 - accuracy: 0.5827 - val_loss: 1.6942 - val_accuracy: 0.5704\n",
            "Epoch 45/100\n",
            "24/24 [==============================] - 5s 228ms/step - loss: 1.6446 - accuracy: 0.5815 - val_loss: 1.6935 - val_accuracy: 0.5732\n",
            "Epoch 46/100\n",
            "24/24 [==============================] - 5s 230ms/step - loss: 1.6439 - accuracy: 0.5871 - val_loss: 1.6899 - val_accuracy: 0.5676\n",
            "Epoch 47/100\n",
            "24/24 [==============================] - 6s 232ms/step - loss: 1.6368 - accuracy: 0.5865 - val_loss: 1.6896 - val_accuracy: 0.5732\n",
            "Epoch 48/100\n",
            "24/24 [==============================] - 5s 230ms/step - loss: 1.6308 - accuracy: 0.5869 - val_loss: 1.6905 - val_accuracy: 0.5754\n",
            "Epoch 49/100\n",
            "24/24 [==============================] - 5s 229ms/step - loss: 1.6291 - accuracy: 0.5916 - val_loss: 1.6849 - val_accuracy: 0.5737\n",
            "Epoch 50/100\n",
            "24/24 [==============================] - 6s 231ms/step - loss: 1.6219 - accuracy: 0.5922 - val_loss: 1.6775 - val_accuracy: 0.5793\n",
            "Epoch 51/100\n",
            "24/24 [==============================] - 6s 230ms/step - loss: 1.6219 - accuracy: 0.5923 - val_loss: 1.6765 - val_accuracy: 0.5787\n",
            "Epoch 52/100\n",
            "24/24 [==============================] - 6s 230ms/step - loss: 1.6150 - accuracy: 0.5939 - val_loss: 1.6818 - val_accuracy: 0.5748\n",
            "Epoch 53/100\n",
            "24/24 [==============================] - 6s 232ms/step - loss: 1.6134 - accuracy: 0.5947 - val_loss: 1.6709 - val_accuracy: 0.5810\n",
            "Epoch 54/100\n",
            "24/24 [==============================] - 6s 233ms/step - loss: 1.6049 - accuracy: 0.5943 - val_loss: 1.6651 - val_accuracy: 0.5776\n",
            "Epoch 55/100\n",
            "24/24 [==============================] - 6s 235ms/step - loss: 1.6068 - accuracy: 0.5960 - val_loss: 1.6637 - val_accuracy: 0.5799\n",
            "Epoch 56/100\n",
            "24/24 [==============================] - 5s 228ms/step - loss: 1.6069 - accuracy: 0.5940 - val_loss: 1.6692 - val_accuracy: 0.5793\n",
            "Epoch 57/100\n",
            "24/24 [==============================] - 6s 232ms/step - loss: 1.6011 - accuracy: 0.5953 - val_loss: 1.6658 - val_accuracy: 0.5826\n",
            "Epoch 58/100\n",
            "24/24 [==============================] - 6s 233ms/step - loss: 1.5982 - accuracy: 0.5978 - val_loss: 1.6703 - val_accuracy: 0.5771\n",
            "Epoch 59/100\n",
            "24/24 [==============================] - 6s 231ms/step - loss: 1.5972 - accuracy: 0.5954 - val_loss: 1.6537 - val_accuracy: 0.5876\n",
            "Epoch 60/100\n",
            "24/24 [==============================] - 5s 228ms/step - loss: 1.5908 - accuracy: 0.5989 - val_loss: 1.6674 - val_accuracy: 0.5849\n",
            "Epoch 61/100\n",
            "24/24 [==============================] - 5s 229ms/step - loss: 1.5887 - accuracy: 0.5972 - val_loss: 1.6714 - val_accuracy: 0.5793\n",
            "Epoch 62/100\n",
            "24/24 [==============================] - 5s 228ms/step - loss: 1.5871 - accuracy: 0.5992 - val_loss: 1.6578 - val_accuracy: 0.5804\n",
            "Epoch 63/100\n",
            "24/24 [==============================] - 5s 228ms/step - loss: 1.5831 - accuracy: 0.5965 - val_loss: 1.6603 - val_accuracy: 0.5804\n",
            "Epoch 64/100\n",
            "24/24 [==============================] - 6s 231ms/step - loss: 1.5758 - accuracy: 0.6010 - val_loss: 1.6550 - val_accuracy: 0.5865\n",
            "Epoch 65/100\n",
            "24/24 [==============================] - 6s 231ms/step - loss: 1.5718 - accuracy: 0.6021 - val_loss: 1.6485 - val_accuracy: 0.5810\n",
            "Epoch 66/100\n",
            "24/24 [==============================] - 6s 230ms/step - loss: 1.5739 - accuracy: 0.6017 - val_loss: 1.6586 - val_accuracy: 0.5765\n",
            "Epoch 67/100\n",
            "24/24 [==============================] - 5s 228ms/step - loss: 1.5785 - accuracy: 0.6010 - val_loss: 1.6557 - val_accuracy: 0.5771\n",
            "Epoch 68/100\n",
            "24/24 [==============================] - 5s 229ms/step - loss: 1.5647 - accuracy: 0.6056 - val_loss: 1.6576 - val_accuracy: 0.5810\n",
            "Epoch 69/100\n",
            "24/24 [==============================] - 6s 231ms/step - loss: 1.5609 - accuracy: 0.6054 - val_loss: 1.6537 - val_accuracy: 0.5838\n",
            "Epoch 70/100\n",
            "24/24 [==============================] - 5s 228ms/step - loss: 1.5624 - accuracy: 0.6039 - val_loss: 1.6461 - val_accuracy: 0.5876\n",
            "Epoch 71/100\n",
            "24/24 [==============================] - 5s 228ms/step - loss: 1.5522 - accuracy: 0.6084 - val_loss: 1.6428 - val_accuracy: 0.5843\n",
            "Epoch 72/100\n",
            "24/24 [==============================] - 5s 228ms/step - loss: 1.5498 - accuracy: 0.6074 - val_loss: 1.6378 - val_accuracy: 0.5854\n",
            "Epoch 73/100\n",
            "24/24 [==============================] - 5s 227ms/step - loss: 1.5543 - accuracy: 0.6061 - val_loss: 1.6445 - val_accuracy: 0.5882\n",
            "Epoch 74/100\n",
            "24/24 [==============================] - 5s 228ms/step - loss: 1.5483 - accuracy: 0.6071 - val_loss: 1.6353 - val_accuracy: 0.5876\n",
            "Epoch 75/100\n",
            "24/24 [==============================] - 5s 229ms/step - loss: 1.5460 - accuracy: 0.6067 - val_loss: 1.6303 - val_accuracy: 0.5876\n",
            "Epoch 76/100\n",
            "24/24 [==============================] - 5s 228ms/step - loss: 1.5504 - accuracy: 0.6040 - val_loss: 1.6360 - val_accuracy: 0.5860\n",
            "Epoch 77/100\n",
            "24/24 [==============================] - 6s 231ms/step - loss: 1.5365 - accuracy: 0.6109 - val_loss: 1.6398 - val_accuracy: 0.5849\n",
            "Epoch 78/100\n",
            "24/24 [==============================] - 5s 228ms/step - loss: 1.5406 - accuracy: 0.6088 - val_loss: 1.6464 - val_accuracy: 0.5904\n",
            "Epoch 79/100\n",
            "24/24 [==============================] - 5s 230ms/step - loss: 1.5337 - accuracy: 0.6120 - val_loss: 1.6363 - val_accuracy: 0.5849\n",
            "Epoch 80/100\n",
            "24/24 [==============================] - 6s 235ms/step - loss: 1.5304 - accuracy: 0.6092 - val_loss: 1.6262 - val_accuracy: 0.5893\n",
            "Epoch 81/100\n",
            "24/24 [==============================] - 6s 242ms/step - loss: 1.5246 - accuracy: 0.6114 - val_loss: 1.6515 - val_accuracy: 0.5854\n",
            "Epoch 82/100\n",
            "24/24 [==============================] - 5s 228ms/step - loss: 1.5347 - accuracy: 0.6075 - val_loss: 1.6452 - val_accuracy: 0.5804\n",
            "Epoch 83/100\n",
            "24/24 [==============================] - 6s 231ms/step - loss: 1.5343 - accuracy: 0.6075 - val_loss: 1.6248 - val_accuracy: 0.5882\n",
            "Epoch 84/100\n",
            "24/24 [==============================] - 6s 230ms/step - loss: 1.5170 - accuracy: 0.6128 - val_loss: 1.6255 - val_accuracy: 0.5910\n",
            "Epoch 85/100\n",
            "24/24 [==============================] - 5s 229ms/step - loss: 1.5179 - accuracy: 0.6117 - val_loss: 1.6178 - val_accuracy: 0.5921\n",
            "Epoch 86/100\n",
            "24/24 [==============================] - 5s 229ms/step - loss: 1.5176 - accuracy: 0.6090 - val_loss: 1.6283 - val_accuracy: 0.5893\n",
            "Epoch 87/100\n",
            "24/24 [==============================] - 5s 230ms/step - loss: 1.5156 - accuracy: 0.6116 - val_loss: 1.6206 - val_accuracy: 0.5871\n",
            "Epoch 88/100\n",
            "24/24 [==============================] - 6s 230ms/step - loss: 1.5184 - accuracy: 0.6120 - val_loss: 1.6285 - val_accuracy: 0.5882\n",
            "Epoch 89/100\n",
            "24/24 [==============================] - 5s 230ms/step - loss: 1.5032 - accuracy: 0.6149 - val_loss: 1.6245 - val_accuracy: 0.5854\n",
            "Epoch 90/100\n",
            "24/24 [==============================] - 5s 230ms/step - loss: 1.5020 - accuracy: 0.6142 - val_loss: 1.6167 - val_accuracy: 0.5871\n",
            "Epoch 91/100\n",
            "24/24 [==============================] - 6s 230ms/step - loss: 1.4976 - accuracy: 0.6164 - val_loss: 1.6268 - val_accuracy: 0.5888\n",
            "Epoch 92/100\n",
            "24/24 [==============================] - 6s 229ms/step - loss: 1.5003 - accuracy: 0.6127 - val_loss: 1.6162 - val_accuracy: 0.5910\n",
            "Epoch 93/100\n",
            "24/24 [==============================] - 6s 231ms/step - loss: 1.5005 - accuracy: 0.6116 - val_loss: 1.6187 - val_accuracy: 0.5910\n",
            "Epoch 94/100\n",
            "24/24 [==============================] - 6s 231ms/step - loss: 1.4914 - accuracy: 0.6149 - val_loss: 1.6109 - val_accuracy: 0.5882\n",
            "Epoch 95/100\n",
            "24/24 [==============================] - 6s 231ms/step - loss: 1.4880 - accuracy: 0.6174 - val_loss: 1.6111 - val_accuracy: 0.5871\n",
            "Epoch 96/100\n",
            "24/24 [==============================] - 5s 228ms/step - loss: 1.4844 - accuracy: 0.6156 - val_loss: 1.6178 - val_accuracy: 0.5888\n",
            "Epoch 97/100\n",
            "24/24 [==============================] - 6s 233ms/step - loss: 1.4859 - accuracy: 0.6166 - val_loss: 1.6196 - val_accuracy: 0.5843\n",
            "Epoch 98/100\n",
            "24/24 [==============================] - 6s 233ms/step - loss: 1.4790 - accuracy: 0.6166 - val_loss: 1.6114 - val_accuracy: 0.5899\n",
            "Epoch 99/100\n",
            "24/24 [==============================] - 6s 237ms/step - loss: 1.4866 - accuracy: 0.6149 - val_loss: 1.6080 - val_accuracy: 0.5888\n",
            "Epoch 100/100\n",
            "24/24 [==============================] - 6s 235ms/step - loss: 1.4765 - accuracy: 0.6185 - val_loss: 1.6044 - val_accuracy: 0.5921\n"
          ]
        }
      ]
    },
    {
      "cell_type": "code",
      "source": [
        "plt.plot(history.history['loss'], label='loss')\n",
        "plt.plot(history.history['val_loss'], label='val_loss')\n",
        "plt.xlabel('epoch')\n",
        "plt.ylabel('loss')\n",
        "plt.legend()\n",
        "plt.show()"
      ],
      "metadata": {
        "colab": {
          "base_uri": "https://localhost:8080/",
          "height": 278
        },
        "id": "AwUVNjw-QYWQ",
        "outputId": "e1a53a56-bc77-44c3-8cd1-ced454adc477"
      },
      "id": "AwUVNjw-QYWQ",
      "execution_count": 53,
      "outputs": [
        {
          "output_type": "display_data",
          "data": {
            "image/png": "[encoded data removed]",
            "text/plain": [
              "<Figure size 432x288 with 1 Axes>"
            ]
          },
          "metadata": {
            "needs_background": "light"
          }
        }
      ]
    },
    {
      "cell_type": "code",
      "source": [
        "print('\\n Test Accuracy: %.4f' %(model.evaluate(x_test_seq, Y_test)[1]))"
      ],
      "metadata": {
        "colab": {
          "base_uri": "https://localhost:8080/"
        },
        "id": "OksC6tnZQdf8",
        "outputId": "48ad58ac-68d1-4378-b43f-8e6234b285c8"
      },
      "id": "OksC6tnZQdf8",
      "execution_count": 55,
      "outputs": [
        {
          "output_type": "stream",
          "name": "stdout",
          "text": [
            "71/71 [==============================] - 1s 8ms/step - loss: 1.7846 - accuracy: 0.5579\n",
            "\n",
            " Test Accuracy: 0.5579\n"
          ]
        }
      ]
    },
    {
      "cell_type": "code",
      "source": [
        ""
      ],
      "metadata": {
        "id": "VP5HgXHXQdjo"
      },
      "id": "VP5HgXHXQdjo",
      "execution_count": null,
      "outputs": []
    },
    {
      "cell_type": "code",
      "source": [
        ""
      ],
      "metadata": {
        "id": "L2MALlIsQYbW"
      },
      "id": "L2MALlIsQYbW",
      "execution_count": null,
      "outputs": []
    },
    {
      "cell_type": "code",
      "execution_count": null,
      "id": "ac78824d",
      "metadata": {
        "id": "ac78824d"
      },
      "outputs": [],
      "source": [
        "X_train = sequence.pad_sequences(X_input_train, maxlen=100)\n",
        "X_test = sequence.pad_sequences(X_input_test, maxlen=100)"
      ]
    },
    {
      "cell_type": "code",
      "execution_count": null,
      "id": "cb0fd8c2",
      "metadata": {
        "id": "cb0fd8c2"
      },
      "outputs": [],
      "source": [
        "Y_train = to_categorical(Y_input_train)\n",
        "Y_test = to_categorical(Y_input_test)"
      ]
    },
    {
      "cell_type": "code",
      "execution_count": null,
      "id": "722d2e85",
      "metadata": {
        "id": "722d2e85"
      },
      "outputs": [],
      "source": [
        "model = Sequential()\n",
        "model.add(Embedding(1000,100)) # 1000: 불러온 단어의 총 개수, 100: 기사당 단어 수\n",
        "model.add(LSTM(100, activation='tanh')) # 100: 기사당 단어 수, 기타 옵션. 활성화함수는 비선형함수인 tanh를 사용함.\n",
        "model.add(Dense(46, activation='softmax'))"
      ]
    },
    {
      "cell_type": "code",
      "execution_count": null,
      "id": "41d6b15e",
      "metadata": {
        "id": "41d6b15e"
      },
      "outputs": [],
      "source": [
        "model.compile(loss='categorical_crossentropy', optimizer='adam', metrics=['accuracy'])"
      ]
    },
    {
      "cell_type": "code",
      "execution_count": null,
      "id": "236a5216",
      "metadata": {
        "id": "236a5216",
        "outputId": "0b665630-da51-43c5-d04a-205e530ac7a0"
      },
      "outputs": [
        {
          "name": "stdout",
          "output_type": "stream",
          "text": [
            "Epoch 1/30\n",
            "63/63 [==============================] - 6s 83ms/step - loss: 2.7005 - accuracy: 0.3405 - val_loss: 2.3798 - val_accuracy: 0.3532\n",
            "Epoch 2/30\n",
            "63/63 [==============================] - 5s 77ms/step - loss: 2.2812 - accuracy: 0.3929 - val_loss: 2.0176 - val_accuracy: 0.4857\n",
            "Epoch 3/30\n",
            "63/63 [==============================] - 5s 76ms/step - loss: 1.9406 - accuracy: 0.4990 - val_loss: 1.7827 - val_accuracy: 0.5247\n",
            "Epoch 4/30\n",
            "63/63 [==============================] - 5s 76ms/step - loss: 1.8227 - accuracy: 0.5278 - val_loss: 1.7540 - val_accuracy: 0.5570\n",
            "Epoch 5/30\n",
            "63/63 [==============================] - 5s 77ms/step - loss: 1.7270 - accuracy: 0.5478 - val_loss: 1.7278 - val_accuracy: 0.5417\n",
            "Epoch 6/30\n",
            "63/63 [==============================] - 5s 75ms/step - loss: 1.6905 - accuracy: 0.5591 - val_loss: 1.6841 - val_accuracy: 0.5681\n",
            "Epoch 7/30\n",
            "63/63 [==============================] - 5s 78ms/step - loss: 2.0873 - accuracy: 0.4019 - val_loss: 1.9412 - val_accuracy: 0.3959\n",
            "Epoch 8/30\n",
            "63/63 [==============================] - 5s 77ms/step - loss: 1.8314 - accuracy: 0.4707 - val_loss: 1.7171 - val_accuracy: 0.5536\n",
            "Epoch 9/30\n",
            "63/63 [==============================] - 5s 77ms/step - loss: 1.6732 - accuracy: 0.5551 - val_loss: 1.6369 - val_accuracy: 0.5800\n",
            "Epoch 10/30\n",
            "63/63 [==============================] - 5s 82ms/step - loss: 1.6061 - accuracy: 0.5817 - val_loss: 1.6770 - val_accuracy: 0.5774\n",
            "Epoch 11/30\n",
            "63/63 [==============================] - 5s 77ms/step - loss: 1.6028 - accuracy: 0.5806 - val_loss: 1.6321 - val_accuracy: 0.6089\n",
            "Epoch 12/30\n",
            "63/63 [==============================] - 5s 76ms/step - loss: 1.4962 - accuracy: 0.6249 - val_loss: 1.5368 - val_accuracy: 0.6011\n",
            "Epoch 13/30\n",
            "63/63 [==============================] - 5s 82ms/step - loss: 1.4170 - accuracy: 0.6272 - val_loss: 1.4845 - val_accuracy: 0.6115\n",
            "Epoch 14/30\n",
            "63/63 [==============================] - 5s 77ms/step - loss: 1.3921 - accuracy: 0.6386 - val_loss: 1.4827 - val_accuracy: 0.6241\n",
            "Epoch 15/30\n",
            "63/63 [==============================] - 5s 77ms/step - loss: 1.3530 - accuracy: 0.6470 - val_loss: 1.4527 - val_accuracy: 0.6282\n",
            "Epoch 16/30\n",
            "63/63 [==============================] - 5s 77ms/step - loss: 1.3118 - accuracy: 0.6579 - val_loss: 1.4459 - val_accuracy: 0.6278\n",
            "Epoch 17/30\n",
            "63/63 [==============================] - 5s 77ms/step - loss: 1.2827 - accuracy: 0.6620 - val_loss: 1.4586 - val_accuracy: 0.6282\n",
            "Epoch 18/30\n",
            "63/63 [==============================] - 5s 77ms/step - loss: 1.2452 - accuracy: 0.6720 - val_loss: 1.4085 - val_accuracy: 0.6434\n",
            "Epoch 19/30\n",
            "63/63 [==============================] - 5s 76ms/step - loss: 1.2337 - accuracy: 0.6777 - val_loss: 1.4200 - val_accuracy: 0.6523\n",
            "Epoch 20/30\n",
            "63/63 [==============================] - 5s 77ms/step - loss: 1.1862 - accuracy: 0.6937 - val_loss: 1.3810 - val_accuracy: 0.6594\n",
            "Epoch 21/30\n",
            "63/63 [==============================] - 5s 77ms/step - loss: 1.1543 - accuracy: 0.7019 - val_loss: 1.3977 - val_accuracy: 0.6590\n",
            "Epoch 22/30\n",
            "63/63 [==============================] - 5s 77ms/step - loss: 1.2105 - accuracy: 0.6812 - val_loss: 1.3985 - val_accuracy: 0.6638\n",
            "Epoch 23/30\n",
            "63/63 [==============================] - 5s 77ms/step - loss: 1.1101 - accuracy: 0.7143 - val_loss: 1.3766 - val_accuracy: 0.6583\n",
            "Epoch 24/30\n",
            "63/63 [==============================] - 5s 77ms/step - loss: 1.0784 - accuracy: 0.7226 - val_loss: 1.3719 - val_accuracy: 0.6660\n",
            "Epoch 25/30\n",
            "63/63 [==============================] - 5s 77ms/step - loss: 1.0506 - accuracy: 0.7291 - val_loss: 1.3423 - val_accuracy: 0.6801\n",
            "Epoch 26/30\n",
            "63/63 [==============================] - 5s 76ms/step - loss: 1.0174 - accuracy: 0.7387 - val_loss: 1.3715 - val_accuracy: 0.6664\n",
            "Epoch 27/30\n",
            "63/63 [==============================] - 5s 76ms/step - loss: 1.0060 - accuracy: 0.7425 - val_loss: 1.3431 - val_accuracy: 0.6772\n",
            "Epoch 28/30\n",
            "63/63 [==============================] - 5s 76ms/step - loss: 0.9720 - accuracy: 0.7500 - val_loss: 1.3329 - val_accuracy: 0.6872\n",
            "Epoch 29/30\n",
            "63/63 [==============================] - 5s 76ms/step - loss: 0.9505 - accuracy: 0.7570 - val_loss: 1.3456 - val_accuracy: 0.6872\n",
            "Epoch 30/30\n",
            "63/63 [==============================] - 5s 77ms/step - loss: 0.9134 - accuracy: 0.7644 - val_loss: 1.3496 - val_accuracy: 0.6809\n"
          ]
        }
      ],
      "source": [
        "history = model.fit(X_train, Y_train, batch_size=100, epochs=30, validation_split=0.3)"
      ]
    },
    {
      "cell_type": "code",
      "execution_count": null,
      "id": "08aead96",
      "metadata": {
        "id": "08aead96",
        "outputId": "c975dbda-20ce-4e28-d313-93108abd8a56"
      },
      "outputs": [
        {
          "name": "stdout",
          "output_type": "stream",
          "text": [
            "71/71 [==============================] - 1s 11ms/step - loss: 1.3940 - accuracy: 0.6728\n",
            "\n",
            " Test Accuracy: 0.6728\n"
          ]
        }
      ],
      "source": [
        "print('\\n Test Accuracy: %.4f' %(model.evaluate(X_test, Y_test)[1]))"
      ]
    },
    {
      "cell_type": "code",
      "execution_count": null,
      "id": "758663c8",
      "metadata": {
        "id": "758663c8"
      },
      "outputs": [],
      "source": [
        "v_loss = history.history['val_loss']\n",
        "y_loss = history.history['loss']"
      ]
    },
    {
      "cell_type": "code",
      "execution_count": null,
      "id": "75dd7f96",
      "metadata": {
        "id": "75dd7f96",
        "outputId": "04ce5038-378a-4e9c-c3ad-514b03716aa5"
      },
      "outputs": [
        {
          "data": {
            "image/png": "[encoded data removed]",
            "text/plain": [
              "<Figure size 432x288 with 1 Axes>"
            ]
          },
          "metadata": {
            "needs_background": "light"
          },
          "output_type": "display_data"
        }
      ],
      "source": [
        "x_len = np.arange(len(y_loss))\n",
        "plt.plot(x_len, v_loss, marker='.', c='red', label='Testset_loss')\n",
        "plt.plot(x_len, y_loss, marker='.', c='blue', label='Trainset_loss')\n",
        "plt.legend()\n",
        "plt.grid()\n",
        "plt.xlabel('epoch')\n",
        "plt.ylabel('loss')\n",
        "plt.show()"
      ]
    },
    {
      "cell_type": "markdown",
      "id": "8a49821c",
      "metadata": {
        "id": "8a49821c"
      },
      "source": [
        "### imdb 분석"
      ]
    },
    {
      "cell_type": "code",
      "execution_count": null,
      "id": "29045cc1",
      "metadata": {
        "id": "29045cc1"
      },
      "outputs": [],
      "source": [
        "(X_input_train, Y_train), (X_input_test, Y_test) = reuters.load_data(num_words=5000)"
      ]
    },
    {
      "cell_type": "code",
      "execution_count": null,
      "id": "8f12f7fa",
      "metadata": {
        "id": "8f12f7fa"
      },
      "outputs": [],
      "source": [
        "X_train = sequence.pad_sequences(X_input_train, maxlen=100)\n",
        "X_test = sequence.pad_sequences(X_input_test, maxlen=100)"
      ]
    },
    {
      "cell_type": "code",
      "execution_count": null,
      "id": "540b9cbe",
      "metadata": {
        "id": "540b9cbe",
        "outputId": "2ecc0ff9-69ca-412d-afff-f6a5e15c6548"
      },
      "outputs": [
        {
          "name": "stdout",
          "output_type": "stream",
          "text": [
            "Model: \"sequential_4\"\n",
            "_________________________________________________________________\n",
            " Layer (type)                Output Shape              Param #   \n",
            "=================================================================\n",
            " embedding_4 (Embedding)     (None, None, 100)         500000    \n",
            "                                                                 \n",
            " dropout_3 (Dropout)         (None, None, 100)         0         \n",
            "                                                                 \n",
            " conv1d_3 (Conv1D)           (None, None, 64)          32064     \n",
            "                                                                 \n",
            " max_pooling1d_3 (MaxPooling  (None, None, 64)         0         \n",
            " 1D)                                                             \n",
            "                                                                 \n",
            " lstm_4 (LSTM)               (None, 55)                26400     \n",
            "                                                                 \n",
            " dense_4 (Dense)             (None, 1)                 56        \n",
            "                                                                 \n",
            "=================================================================\n",
            "Total params: 558,520\n",
            "Trainable params: 558,520\n",
            "Non-trainable params: 0\n",
            "_________________________________________________________________\n"
          ]
        }
      ],
      "source": [
        "model = Sequential()\n",
        "model.add(Embedding(5000,100)) \n",
        "model.add(Dropout(0.5))\n",
        "model.add(Conv1D(64,5, padding='valid', activation='relu', strides=1))\n",
        "model.add(MaxPooling1D(pool_size=4))\n",
        "model.add(LSTM(55, activation='tanh')) # 활성화함수는 비선형함수인 tanh를 사용함.\n",
        "model.add(Dense(1, activation='sigmoid'))\n",
        "model.summary()"
      ]
    },
    {
      "cell_type": "code",
      "execution_count": null,
      "id": "34d827dd",
      "metadata": {
        "id": "34d827dd"
      },
      "outputs": [],
      "source": [
        "model.compile(loss='binary_crossentropy', optimizer='adam', metrics=['accuracy'])"
      ]
    },
    {
      "cell_type": "code",
      "execution_count": null,
      "id": "b7a2eb6e",
      "metadata": {
        "id": "b7a2eb6e",
        "outputId": "e9c6169c-650c-474f-94db-98b9cc7e8ed2"
      },
      "outputs": [
        {
          "name": "stdout",
          "output_type": "stream",
          "text": [
            "Epoch 1/5\n",
            "63/63 [==============================] - 4s 47ms/step - loss: -57.2886 - accuracy: 0.0482 - val_loss: -98.0618 - val_accuracy: 0.0479\n",
            "Epoch 2/5\n",
            "63/63 [==============================] - 3s 43ms/step - loss: -115.7879 - accuracy: 0.0482 - val_loss: -130.0075 - val_accuracy: 0.0479\n",
            "Epoch 3/5\n",
            "63/63 [==============================] - 3s 44ms/step - loss: -146.2999 - accuracy: 0.0482 - val_loss: -158.8087 - val_accuracy: 0.0479\n",
            "Epoch 4/5\n",
            "63/63 [==============================] - 3s 41ms/step - loss: -175.1694 - accuracy: 0.0482 - val_loss: -186.8929 - val_accuracy: 0.0479\n",
            "Epoch 5/5\n",
            "63/63 [==============================] - 3s 43ms/step - loss: -203.3564 - accuracy: 0.0482 - val_loss: -214.6634 - val_accuracy: 0.0479\n"
          ]
        }
      ],
      "source": [
        "history = model.fit(X_train, Y_train, batch_size=100, epochs=5, validation_split=0.3)"
      ]
    },
    {
      "cell_type": "code",
      "execution_count": null,
      "id": "bba11672",
      "metadata": {
        "id": "bba11672",
        "outputId": "97d570c7-b0b8-4474-b2b2-45ce8e3734c7"
      },
      "outputs": [
        {
          "name": "stdout",
          "output_type": "stream",
          "text": [
            "Epoch 1/5\n",
            "90/90 [==============================] - 5s 43ms/step - loss: -70.1804 - accuracy: 0.0481 - val_loss: -109.6836 - val_accuracy: 0.0467\n",
            "Epoch 2/5\n",
            "90/90 [==============================] - 4s 41ms/step - loss: -130.8311 - accuracy: 0.0481 - val_loss: -152.7218 - val_accuracy: 0.0467\n",
            "Epoch 3/5\n",
            "90/90 [==============================] - 4s 39ms/step - loss: -172.1441 - accuracy: 0.0481 - val_loss: -193.2205 - val_accuracy: 0.0467\n",
            "Epoch 4/5\n",
            "90/90 [==============================] - 4s 40ms/step - loss: -212.0637 - accuracy: 0.0481 - val_loss: -232.8728 - val_accuracy: 0.0467\n",
            "Epoch 5/5\n",
            "90/90 [==============================] - 4s 40ms/step - loss: -251.4079 - accuracy: 0.0481 - val_loss: -272.2291 - val_accuracy: 0.0467\n"
          ]
        }
      ],
      "source": [
        "# history = model.fit(X_train, Y_train, batch_size=100, epochs=5, validation_data=(X_test, Y_test))"
      ]
    },
    {
      "cell_type": "code",
      "execution_count": null,
      "id": "3b47104f",
      "metadata": {
        "id": "3b47104f",
        "outputId": "0af6d001-97d9-45d7-9c91-9677f8d1d928"
      },
      "outputs": [
        {
          "name": "stdout",
          "output_type": "stream",
          "text": [
            "71/71 [==============================] - 0s 3ms/step - loss: -217.5303 - accuracy: 0.0467\n",
            "\n",
            " Test Accuracy: 0.0467\n"
          ]
        }
      ],
      "source": [
        "print('\\n Test Accuracy: %.4f' %(model.evaluate(X_test, Y_test)[1]))"
      ]
    },
    {
      "cell_type": "code",
      "execution_count": null,
      "id": "80daf09d",
      "metadata": {
        "id": "80daf09d"
      },
      "outputs": [],
      "source": [
        "v_loss = history.history['val_loss']\n",
        "y_loss = history.history['loss']"
      ]
    },
    {
      "cell_type": "code",
      "execution_count": null,
      "id": "9b4d8e90",
      "metadata": {
        "id": "9b4d8e90",
        "outputId": "d197ab4a-8abf-46ff-8a11-fe04238905a2"
      },
      "outputs": [
        {
          "data": {
            "image/png": "[encoded data removed]",
            "text/plain": [
              "<Figure size 432x288 with 1 Axes>"
            ]
          },
          "metadata": {
            "needs_background": "light"
          },
          "output_type": "display_data"
        }
      ],
      "source": [
        "x_len = np.arange(len(y_loss))\n",
        "plt.plot(x_len, v_loss, marker='.', c='red', label='Testset_loss')\n",
        "plt.plot(x_len, y_loss, marker='.', c='blue', label='Trainset_loss')\n",
        "plt.legend()\n",
        "plt.grid()\n",
        "plt.xlabel('epoch')\n",
        "plt.ylabel('loss')\n",
        "plt.show()"
      ]
    },
    {
      "cell_type": "code",
      "execution_count": null,
      "id": "2eab56f8",
      "metadata": {
        "id": "2eab56f8"
      },
      "outputs": [],
      "source": [
        ""
      ]
    }
  ],
  "metadata": {
    "kernelspec": {
      "display_name": "Python 3",
      "language": "python",
      "name": "python3"
    },
    "language_info": {
      "codemirror_mode": {
        "name": "ipython",
        "version": 3
      },
      "file_extension": ".py",
      "mimetype": "text/x-python",
      "name": "python",
      "nbconvert_exporter": "python",
      "pygments_lexer": "ipython3",
      "version": "3.9.1"
    },
    "colab": {
      "name": "chap 18 rnn.ipynb의 사본",
      "provenance": [],
      "include_colab_link": true
    }
  },
  "nbformat": 4,
  "nbformat_minor": 5
}