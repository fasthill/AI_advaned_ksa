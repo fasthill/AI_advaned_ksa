{
 "cells": [
  {
   "cell_type": "code",
   "execution_count": null,
   "id": "remarkable-oliver",
   "metadata": {},
   "outputs": [],
   "source": [
    "score = int(input(\"학생의 점수를 입력하세요: \"))\n",
    "\n",
    "if score >= 80:\n",
    "    print('축하합니다')\n",
    "    print(\"pp\")"
   ]
  },
  {
   "cell_type": "code",
   "execution_count": null,
   "id": "indie-pasta",
   "metadata": {},
   "outputs": [],
   "source": [
    "number = float(input(\"하나의 실수를 입력하세요: \"))\n",
    "\n",
    "diff_decimal = number-int(number)\n",
    "if diff_decimal == 0:\n",
    "    print(\"버림: \", int(number))\n",
    "    print(\"반올림: \", int(number))\n",
    "    print(\"올림: \", int(number))\n",
    "else:\n",
    "    print(\"버림: \", int(number))\n",
    "    print(\"반올림: \", int(number+0.5))\n",
    "    print(\"올림: \", int(number+1))"
   ]
  },
  {
   "cell_type": "code",
   "execution_count": null,
   "id": "smooth-adoption",
   "metadata": {},
   "outputs": [],
   "source": [
    "number = float(input(\"하나의 실수를 입력하세요: \"))\n",
    "\n",
    "diff_decimal = number-int(number)\n",
    "if diff_decimal == 0:\n",
    "    print(\"버림: \", int(number))\n",
    "    print(\"반올림: \", int(number))\n",
    "    print(\"올림: \", int(number))\n",
    "elif :\n",
    "    print(\"버림: \", int(number+0.5))\n",
    "    print(\"반올림: \", int(number+0.5))\n",
    "    print(\"올림: \", int(number+0.5))\n",
    "elif diff_decimal == 0:\n",
    "    print(\"버림: \", int(number))\n",
    "    print(\"반올림: \", int(number))\n",
    "    print(\"올림: \", int(number))\n",
    "else :\n",
    "    print(\"버림: \", int(number))\n",
    "    print(\"반올림: \", int(number))\n",
    "    print(\"올림: \", int(number)+1)"
   ]
  },
  {
   "cell_type": "code",
   "execution_count": null,
   "id": "raised-brisbane",
   "metadata": {},
   "outputs": [],
   "source": [
    "year = int(input(\"년도를 입력하세요: \"))\n",
    "\n",
    "if year%400 == 0:\n",
    "    print(\"입력하신\", year,\"년은 윤년입니다\") \n",
    "else:\n",
    "    if year%100 == 0:\n",
    "        print(\"입력하신\", year,\"년은 평년입니다\")  \n",
    "    else:\n",
    "        if year%4 == 0:\n",
    "            print(\"입력하신\", year,\"년은 윤년입니다\")  \n",
    "        else:\n",
    "            print(\"입력하신\", year,\"년은 평년입니다\")             "
   ]
  },
  {
   "cell_type": "code",
   "execution_count": null,
   "id": "worldwide-arrangement",
   "metadata": {},
   "outputs": [],
   "source": [
    "year = int(input(\"년도를 입력하세요: \"))\n",
    "\n",
    "if year%400 == 0:\n",
    "    print(\"입력하신\", str(year),\"년은 윤년입니다\") \n",
    "elif year%100 == 0:\n",
    "    print(\"입력하신\", str(year),\"년은 평년입니다\")  \n",
    "elif year%4 == 0:\n",
    "    print(\"입력하신\", str(year),\"년은 윤년입니다\")  \n",
    "else:\n",
    "    print(\"입력하신\", str(year),\"년은 평년입니다\")   "
   ]
  },
  {
   "cell_type": "code",
   "execution_count": null,
   "id": "twenty-pregnancy",
   "metadata": {},
   "outputs": [],
   "source": [
    "range(1,10)\n"
   ]
  },
  {
   "cell_type": "code",
   "execution_count": null,
   "id": "peripheral-lithuania",
   "metadata": {},
   "outputs": [],
   "source": [
    "a = range(1,10)\n",
    "a"
   ]
  },
  {
   "cell_type": "code",
   "execution_count": null,
   "id": "divided-picking",
   "metadata": {},
   "outputs": [],
   "source": [
    "list(a)"
   ]
  },
  {
   "cell_type": "code",
   "execution_count": null,
   "id": "viral-thomas",
   "metadata": {},
   "outputs": [],
   "source": [
    "range(,10,2)"
   ]
  },
  {
   "cell_type": "code",
   "execution_count": null,
   "id": "senior-negative",
   "metadata": {},
   "outputs": [],
   "source": [
    "range(10,2)"
   ]
  },
  {
   "cell_type": "code",
   "execution_count": null,
   "id": "chronic-prefix",
   "metadata": {},
   "outputs": [],
   "source": [
    "list(range(10,2))"
   ]
  },
  {
   "cell_type": "code",
   "execution_count": null,
   "id": "prescribed-bandwidth",
   "metadata": {},
   "outputs": [],
   "source": [
    "gugu = int(input(\"구구단의 단을 입력하세요: \"))\n",
    "\n",
    "for i in range(1,10):\n",
    "    print(str(gugu)+\" * \"+ str(i) + \" = \" + str(i*gugu))"
   ]
  },
  {
   "cell_type": "code",
   "execution_count": null,
   "id": "limited-hands",
   "metadata": {},
   "outputs": [],
   "source": [
    "gugu = int(input(\"구구단의 단을 입력하세요: \"))\n",
    "\n",
    "for i in range(1,10):\n",
    "    print(f'{gugu} * {i} = {i*gugu}')"
   ]
  },
  {
   "cell_type": "code",
   "execution_count": null,
   "id": "earned-tracker",
   "metadata": {},
   "outputs": [],
   "source": [
    "gugu = int(input(\"구구단의 단을 입력하세요: \"))\n",
    "\n",
    "print('\\n [ %d 단 ]' %gugu)\n",
    "for i in range(1,10):\n",
    "    print('%d * %d = %2d' %(gugu, i, i*gugu))"
   ]
  },
  {
   "cell_type": "code",
   "execution_count": null,
   "id": "humanitarian-terrorism",
   "metadata": {},
   "outputs": [],
   "source": [
    "dan =2\n",
    "num =1\n",
    "\n",
    "for i in range(72):\n",
    "    if num == 1:\n",
    "        print('\\n [ %d 단 ]' %dan)\n",
    "    print('%d * %d = %2d' %(dan, num, dan*num))\n",
    "    \n",
    "    num += 1\n",
    "    \n",
    "    if num == 10:\n",
    "        dan += 1\n",
    "        num = 1"
   ]
  },
  {
   "cell_type": "code",
   "execution_count": null,
   "id": "independent-secondary",
   "metadata": {},
   "outputs": [],
   "source": [
    "for dan in range(2,10):\n",
    "    print('\\n [ %d 단 ]' %dan)\n",
    "    for j in range(1,10):\n",
    "        print('%d * %d = %2d' %(dan, j, dan*j))"
   ]
  },
  {
   "cell_type": "code",
   "execution_count": null,
   "id": "fewer-flexibility",
   "metadata": {},
   "outputs": [],
   "source": [
    "for den in range(2,10):\n",
    "    print(‘\\n[ %d 단]’ %den )\n",
    "    for num in range(1,10):# 8(단) * 9(num)\n",
    "        print(‘%d * %d = %2d’%( den, num, den*num))"
   ]
  },
  {
   "cell_type": "code",
   "execution_count": null,
   "id": "attempted-ancient",
   "metadata": {},
   "outputs": [],
   "source": [
    "print(\"hello \", end=\"\")\n",
    "print(\"kkk\")"
   ]
  },
  {
   "cell_type": "code",
   "execution_count": null,
   "id": "suited-green",
   "metadata": {},
   "outputs": [],
   "source": [
    "for num in range(1,10):\n",
    "    for dan in range(2,10):\n",
    "        print('%d * %d = %2d' %(dan, num, dan*num), end=\"\\t\")\n",
    "    print()"
   ]
  },
  {
   "cell_type": "code",
   "execution_count": 1,
   "id": "sublime-clinic",
   "metadata": {},
   "outputs": [
    {
     "name": "stdout",
     "output_type": "stream",
     "text": [
      " [ 2 단 ]\t [ 3 단 ]\t [ 4 단 ]\t [ 5 단 ]\t [ 6 단 ]\t [ 7 단 ]\t [ 8 단 ]\t [ 9 단 ]\t\n",
      "2 * 1 =  2\t3 * 1 =  3\t4 * 1 =  4\t5 * 1 =  5\t6 * 1 =  6\t7 * 1 =  7\t8 * 1 =  8\t9 * 1 =  9\t\n",
      "2 * 2 =  4\t3 * 2 =  6\t4 * 2 =  8\t5 * 2 = 10\t6 * 2 = 12\t7 * 2 = 14\t8 * 2 = 16\t9 * 2 = 18\t\n",
      "2 * 3 =  6\t3 * 3 =  9\t4 * 3 = 12\t5 * 3 = 15\t6 * 3 = 18\t7 * 3 = 21\t8 * 3 = 24\t9 * 3 = 27\t\n",
      "2 * 4 =  8\t3 * 4 = 12\t4 * 4 = 16\t5 * 4 = 20\t6 * 4 = 24\t7 * 4 = 28\t8 * 4 = 32\t9 * 4 = 36\t\n",
      "2 * 5 = 10\t3 * 5 = 15\t4 * 5 = 20\t5 * 5 = 25\t6 * 5 = 30\t7 * 5 = 35\t8 * 5 = 40\t9 * 5 = 45\t\n",
      "2 * 6 = 12\t3 * 6 = 18\t4 * 6 = 24\t5 * 6 = 30\t6 * 6 = 36\t7 * 6 = 42\t8 * 6 = 48\t9 * 6 = 54\t\n",
      "2 * 7 = 14\t3 * 7 = 21\t4 * 7 = 28\t5 * 7 = 35\t6 * 7 = 42\t7 * 7 = 49\t8 * 7 = 56\t9 * 7 = 63\t\n",
      "2 * 8 = 16\t3 * 8 = 24\t4 * 8 = 32\t5 * 8 = 40\t6 * 8 = 48\t7 * 8 = 56\t8 * 8 = 64\t9 * 8 = 72\t\n",
      "2 * 9 = 18\t3 * 9 = 27\t4 * 9 = 36\t5 * 9 = 45\t6 * 9 = 54\t7 * 9 = 63\t8 * 9 = 72\t9 * 9 = 81\t\n"
     ]
    }
   ],
   "source": [
    "for num in range(0,10):\n",
    "    for dan in range(2,10):\n",
    "        if num == 0:\n",
    "            print(' [ %d 단 ]' %(dan), end=\"\\t\")\n",
    "        else:\n",
    "            print('%d * %d = %2d' %(dan, num, dan*num), end=\"\\t\")\n",
    "    print()"
   ]
  },
  {
   "cell_type": "code",
   "execution_count": null,
   "id": "rational-cemetery",
   "metadata": {},
   "outputs": [],
   "source": [
    "lst = [1, 2, 3, 4, 5, 6, 7, 8, 9]\n",
    "for i in lst:\n",
    "    print(\"iiiiii\",i)\n",
    "    index = lst.index(i)\n",
    "    print(\"index\", index)\n",
    "    lst[index] = i*i\n",
    "lst"
   ]
  },
  {
   "cell_type": "code",
   "execution_count": null,
   "id": "hearing-resistance",
   "metadata": {},
   "outputs": [],
   "source": [
    "lst"
   ]
  },
  {
   "cell_type": "code",
   "execution_count": null,
   "id": "annual-invite",
   "metadata": {},
   "outputs": [],
   "source": [
    "lst = [1, 2, 3, 4, 5, 6, 7, 8, 9]"
   ]
  },
  {
   "cell_type": "code",
   "execution_count": null,
   "id": "reduced-laser",
   "metadata": {},
   "outputs": [],
   "source": [
    "3 in lst"
   ]
  },
  {
   "cell_type": "code",
   "execution_count": null,
   "id": "appointed-traveler",
   "metadata": {},
   "outputs": [],
   "source": [
    "lst.index(3)"
   ]
  },
  {
   "cell_type": "code",
   "execution_count": null,
   "id": "scientific-pressure",
   "metadata": {},
   "outputs": [],
   "source": [
    "for i in lst:\n",
    "    print(i)\n",
    "    "
   ]
  },
  {
   "cell_type": "code",
   "execution_count": null,
   "id": "european-beauty",
   "metadata": {},
   "outputs": [],
   "source": [
    "sum = 0\n",
    "num = 0\n",
    "while sum < 1000:\n",
    "    num += 1\n",
    "    sum = sum + num\n",
    "    \n",
    "print(num)"
   ]
  },
  {
   "cell_type": "code",
   "execution_count": null,
   "id": "bigger-donor",
   "metadata": {},
   "outputs": [],
   "source": [
    "num = 0\n",
    "while num < 10:\n",
    "    dan = 0\n",
    "    while dan < 9:\n",
    "        dan += 1\n",
    "        if num == 0 :\n",
    "            print(' [ %d 단 ]' %(dan), end=\"\\t\")\n",
    "        else:\n",
    "            print('%d * %d = %2d' %(dan, num, dan*num), end=\"\\t\")\n",
    "    print()\n",
    "    num += 1  "
   ]
  },
  {
   "cell_type": "code",
   "execution_count": null,
   "id": "worthy-certification",
   "metadata": {},
   "outputs": [],
   "source": [
    "import random\n",
    "import time"
   ]
  },
  {
   "cell_type": "code",
   "execution_count": null,
   "id": "alone-result",
   "metadata": {},
   "outputs": [],
   "source": [
    "msg = '''\n",
    "     [ 가위바위보 게임 ]\n",
    "     \n",
    "     1. 가위\n",
    "     2. 바위\n",
    "     3. 보'''\n",
    "\n",
    "print(msg)\n",
    "sprgame = { 1: '가위', 2: '바위', 3: '보'}\n",
    "com = random.randint(1,3)\n",
    "\n",
    "time.sleep(0.01)\n",
    "\n",
    "user = int(input('   >>> '))\n",
    "\n",
    "print('       사용자:', sprgame[user], '. 컴퓨터 :', sprgame[com])"
   ]
  },
  {
   "cell_type": "code",
   "execution_count": null,
   "id": "parental-semester",
   "metadata": {},
   "outputs": [],
   "source": [
    "print('''\n",
    "     [ 가위바위보 게임 ]\n",
    "     \n",
    "     1. 가위\n",
    "     2. 바위\n",
    "     3. 보''')\n",
    "\n",
    "kbb = ['가위', '바위', '보']\n",
    "com = random.randint(0, 2)\n",
    "\n",
    "time.sleep(0.01)\n",
    "\n",
    "user = int(input('   >>> ')) -1\n",
    "\n",
    "print('       사용자:', kbb[user], '. 컴퓨터 :', kbb[com])\n",
    "\n",
    "if user == com:\n",
    "    result = \"   비겼습니다!\")\n",
    "elif (user == 0 and com == 2) or (user == 1 and com == 0) or (user == 2 and com == 1) :\n",
    "    result = \"   이겼습니다!\")\n",
    "else :\n",
    "    result = \"   졌습니다!\")\n",
    "\n",
    "print(result)"
   ]
  },
  {
   "cell_type": "code",
   "execution_count": null,
   "id": "corporate-greeting",
   "metadata": {},
   "outputs": [],
   "source": [
    "kbb = ['가위', '바위', '보']\n",
    "\n",
    "tf = True\n",
    "while tf:\n",
    "    print('''\n",
    "     [ 가위바위보 게임 ]\n",
    "     \n",
    "     1. 가위\n",
    "     2. 바위\n",
    "     3. 보''')\n",
    "    com = random.randint(0, 2)\n",
    "    time.sleep(0.01)\n",
    "    user = int(input('   >>> ')) -1\n",
    "    if (user == 0 and com == 2) or (user == 1 and com == 0) or (user == 2 and com == 1) :\n",
    "        print('       사용자:', kbb[user], '. 컴퓨터 :', kbb[com])\n",
    "        print(\"   드디어 이겼습니다. 게임 완료\")\n",
    "        tf = False\n",
    "    elif user == com:\n",
    "        print('       사용자:', kbb[user], '. 컴퓨터 :', kbb[com])\n",
    "        print(\"   비겼습니다. 다시 한번!!\")\n",
    "    else:\n",
    "        print('       사용자:', kbb[user], '. 컴퓨터 :', kbb[com])\n",
    "        print(\"   졌습니다. 다시 한번!!\")"
   ]
  },
  {
   "cell_type": "code",
   "execution_count": null,
   "id": "radio-slope",
   "metadata": {},
   "outputs": [],
   "source": [
    "import random\n",
    "import time"
   ]
  },
  {
   "cell_type": "code",
   "execution_count": null,
   "id": "toxic-phrase",
   "metadata": {},
   "outputs": [],
   "source": [
    "msg = '''\n",
    "     [ 가위바위보 게임 ]\n",
    "     \n",
    "     1. 가위\n",
    "     2. 바위\n",
    "     3. 보'''\n",
    "kbb = ['가위', '바위', '보']\n",
    "\n",
    "want = True\n",
    "while want:\n",
    "    print(msg)\n",
    "    com = random.randint(0, 2)\n",
    "    time.sleep(0.01)\n",
    "    user = int(input('   >>> ')) - 1\n",
    "    if user == com:\n",
    "        result = '     비겼습니다!'\n",
    "    elif (user == 0 and com == 2) or (user == 1 and com == 0) or (user == 2 and com == 1) :\n",
    "        result = '     이겼습니다... ^^*'\n",
    "        is_win = True\n",
    "    else:\n",
    "        result = '   졌습니다.. OTL'\n",
    "        \n",
    "    print('\\n   사용자:', kbb[user], '. 컴퓨터 :', kbb[com])\n",
    "    print(result)\n",
    "    \n",
    "    ans = input('   계속하실래요(Y/N)? ')\n",
    "    if not (ans == 'Y' or ans == 'y'):\n",
    "        want = False\n",
    "        print (' *** 게임 아웃 ! ***')"
   ]
  },
  {
   "cell_type": "code",
   "execution_count": 1,
   "id": "oriented-korea",
   "metadata": {},
   "outputs": [
    {
     "name": "stdout",
     "output_type": "stream",
     "text": [
      "total ; 1683\n"
     ]
    }
   ],
   "source": [
    "total = 0\n",
    "for i in range(1,100):\n",
    "    if i%3 != 0 :\n",
    "        continue\n",
    "    total += i\n",
    "print('total ;', total)"
   ]
  },
  {
   "cell_type": "code",
   "execution_count": null,
   "id": "affiliated-italy",
   "metadata": {},
   "outputs": [],
   "source": [
    "total = 0\n",
    "for i in range(1,100):\n",
    "    if i%3 != 0 :\n",
    "        continue\n",
    "    total += i\n",
    "print('total ;', total)"
   ]
  },
  {
   "cell_type": "code",
   "execution_count": 2,
   "id": "caroline-cleaner",
   "metadata": {},
   "outputs": [],
   "source": [
    "a = [x**2 for x in range(1,10)]"
   ]
  },
  {
   "cell_type": "code",
   "execution_count": 3,
   "id": "generic-ecuador",
   "metadata": {},
   "outputs": [
    {
     "data": {
      "text/plain": [
       "[1, 4, 9, 16, 25, 36, 49, 64, 81]"
      ]
     },
     "execution_count": 3,
     "metadata": {},
     "output_type": "execute_result"
    }
   ],
   "source": [
    "a"
   ]
  },
  {
   "cell_type": "code",
   "execution_count": 14,
   "id": "postal-blair",
   "metadata": {},
   "outputs": [
    {
     "data": {
      "text/plain": [
       "{9, 36, 81}"
      ]
     },
     "execution_count": 14,
     "metadata": {},
     "output_type": "execute_result"
    }
   ],
   "source": [
    "a = {x**2 for x in range(1,10) if x%3 ==0 }\n",
    "a"
   ]
  },
  {
   "cell_type": "code",
   "execution_count": 5,
   "id": "immediate-criticism",
   "metadata": {},
   "outputs": [
    {
     "data": {
      "text/plain": [
       "{1, 4, 9, 16, 25, 36, 49, 64, 81}"
      ]
     },
     "execution_count": 5,
     "metadata": {},
     "output_type": "execute_result"
    }
   ],
   "source": [
    "a\n"
   ]
  },
  {
   "cell_type": "code",
   "execution_count": 7,
   "id": "arctic-laser",
   "metadata": {},
   "outputs": [],
   "source": [
    "key = ['one', 'two', 'three', 'four', 'five']\n",
    "value = [1, 2, 3, 4, 5]"
   ]
  },
  {
   "cell_type": "code",
   "execution_count": 13,
   "id": "advance-berkeley",
   "metadata": {},
   "outputs": [
    {
     "data": {
      "text/plain": [
       "{'one': 1, 'two': 2, 'three': 3, 'four': 4, 'five': 5}"
      ]
     },
     "execution_count": 13,
     "metadata": {},
     "output_type": "execute_result"
    }
   ],
   "source": [
    "dic = { x: y for x, y in zip(key, value)}\n",
    "dic"
   ]
  },
  {
   "cell_type": "code",
   "execution_count": null,
   "id": "mediterranean-agent",
   "metadata": {},
   "outputs": [],
   "source": []
  },
  {
   "cell_type": "code",
   "execution_count": 9,
   "id": "ideal-astronomy",
   "metadata": {},
   "outputs": [],
   "source": [
    "dic = {key[i]: value[i] for i in range(len(key))}"
   ]
  },
  {
   "cell_type": "code",
   "execution_count": 12,
   "id": "exceptional-ready",
   "metadata": {},
   "outputs": [
    {
     "data": {
      "text/plain": [
       "{'one': 1, 'two': 2, 'three': 3, 'four': 4, 'five': 5}"
      ]
     },
     "execution_count": 12,
     "metadata": {},
     "output_type": "execute_result"
    }
   ],
   "source": [
    "dic"
   ]
  },
  {
   "cell_type": "code",
   "execution_count": 10,
   "id": "crazy-ethics",
   "metadata": {},
   "outputs": [
    {
     "data": {
      "text/plain": [
       "{'one': 1, 'two': 2, 'three': 3, 'four': 4, 'five': 5}"
      ]
     },
     "execution_count": 10,
     "metadata": {},
     "output_type": "execute_result"
    }
   ],
   "source": [
    "dic"
   ]
  },
  {
   "cell_type": "code",
   "execution_count": 22,
   "id": "trying-tiger",
   "metadata": {},
   "outputs": [
    {
     "name": "stdout",
     "output_type": "stream",
     "text": [
      "년을 입력하세요 :2020\n",
      "월을 입력하세요 :2\n",
      "2020년  2월의 마지막 일자는 29입니다\n"
     ]
    }
   ],
   "source": [
    "year = int(input('년을 입력하세요 :'))\n",
    "mon = int(input('월을 입력하세요 :'))\n",
    "\n",
    "if year%400 == 0:\n",
    "    feb = 29\n",
    "elif year%100 == 0:\n",
    "    feb = 28\n",
    "elif year%4 == 0:\n",
    "    feb = 29\n",
    "else:\n",
    "    feb = 28\n",
    "    \n",
    "big_month = [1, 3, 5, 7, 8, 10, 12]\n",
    "small_month = [4, 6, 9, 11]\n",
    "    \n",
    "if mon in big_month:\n",
    "    last_date = 31\n",
    "elif mon in small_month:\n",
    "    last_date = 30\n",
    "else:\n",
    "    last_date = feb\n",
    "print('%4d년 %2d월의 마지막 일자는 %2d입니다' %(year, mon, last_date))"
   ]
  },
  {
   "cell_type": "code",
   "execution_count": 10,
   "id": "worthy-thickness",
   "metadata": {},
   "outputs": [
    {
     "name": "stdout",
     "output_type": "stream",
     "text": [
      "년 월 일을 입력하세요 ex) 2021 10 15 : 2021 12 25\n",
      "입력하신 2021년 12월 25일은 토요일 입니다\n"
     ]
    }
   ],
   "source": [
    "ymd = input('년 월 일을 입력하세요 ex) 2021 10 15 : ')\n",
    "\n",
    "ymd = [ int(word) for word in ymd.split()]\n",
    "\n",
    "total_days = 0\n",
    "for yr in range(1, ymd[0]):\n",
    "    if (yr % 400 == 0) or (yr % 100 != 0 and yr % 4 == 0):\n",
    "        total_days += 366\n",
    "    else:\n",
    "        total_days += 365\n",
    "    \n",
    "day_list = ['일', '월', '화', '수', '목', '금', '토']\n",
    "mon_dates = [ -1, 31, 28, 31, 30, 31, 30, 31, 31, 30, 31, 30, 31 ]\n",
    "\n",
    "if (ymd[0] % 400 == 0) or (ymd[0] % 100 != 0 and ymd[0] % 4 == 0):\n",
    "    mon_dates[2] = 29\n",
    "\n",
    "for i in range(1, ymd[1]):\n",
    "    total_days += mon_dates[i]\n",
    "\n",
    "total_days +=  ymd[2]\n",
    "\n",
    "rem = total_days % 7\n",
    "day = day_list[rem]\n",
    "print('입력하신 %4d년 %2d월 %2d일은 %s요일 입니다' %(ymd[0], ymd[1], ymd[2], day) )"
   ]
  },
  {
   "cell_type": "code",
   "execution_count": 6,
   "id": "maritime-identification",
   "metadata": {},
   "outputs": [
    {
     "data": {
      "text/plain": [
       "[2021, 12, 25]"
      ]
     },
     "execution_count": 6,
     "metadata": {},
     "output_type": "execute_result"
    }
   ],
   "source": [
    "ymd\n"
   ]
  },
  {
   "cell_type": "markdown",
   "id": "surrounded-requirement",
   "metadata": {},
   "source": [
    "# "
   ]
  }
 ],
 "metadata": {
  "kernelspec": {
   "display_name": "Python 3",
   "language": "python",
   "name": "python3"
  },
  "language_info": {
   "codemirror_mode": {
    "name": "ipython",
    "version": 3
   },
   "file_extension": ".py",
   "mimetype": "text/x-python",
   "name": "python",
   "nbconvert_exporter": "python",
   "pygments_lexer": "ipython3",
   "version": "3.9.1"
  }
 },
 "nbformat": 4,
 "nbformat_minor": 5
}
